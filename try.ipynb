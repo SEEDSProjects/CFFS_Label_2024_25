{
 "cells": [
  {
   "cell_type": "code",
   "execution_count": 2,
   "metadata": {},
   "outputs": [],
   "source": [
    "import pandas as pd"
   ]
  },
  {
   "cell_type": "code",
   "execution_count": 6,
   "metadata": {},
   "outputs": [],
   "source": [
    "d = pd.read_csv(\"/Users/vivaanwadhwa/Documents/GitHub/CFFS_sharon_2024/data/final/2023_2024_CFFS_Outcomes/Data_Labelled_OK24-25.csv\")\n",
    "e = pd.read_csv(\"/Users/vivaanwadhwa/Documents/GitHub/CFFS_sharon_2024/data/preprocessed/OK_filter.csv\")"
   ]
  },
  {
   "cell_type": "code",
   "execution_count": 12,
   "metadata": {},
   "outputs": [
    {
     "data": {
      "text/plain": [
       "0              ALF|Flatbread|4 Cheese\n",
       "1      ALF|Flatbread|Apple & Pancetta\n",
       "2           ALF|Flatbread|BBQ Chicken\n",
       "3          ALF|Flatbread|Beef & Onion\n",
       "4       ALF|Flatbread|Beef Onion|TMRW\n",
       "                    ...              \n",
       "335              VEG|Toast|OK Avocado\n",
       "336          VEG|Toast|Roasted Tomato\n",
       "337       VEG|Toast|Southwest Avocado\n",
       "338       VEG|Toast|Westcoast Avocado\n",
       "339         VEG|Tuscan Breakfast Bowl\n",
       "Name: Description, Length: 340, dtype: object"
      ]
     },
     "execution_count": 12,
     "metadata": {},
     "output_type": "execute_result"
    }
   ],
   "source": [
    "items_1 = d[\"Description\"]\n",
    "items_1"
   ]
  },
  {
   "cell_type": "code",
   "execution_count": 13,
   "metadata": {},
   "outputs": [
    {
     "data": {
      "text/plain": [
       "0              ALF|Flatbread|4 Cheese\n",
       "1      ALF|Flatbread|Apple & Pancetta\n",
       "2           ALF|Flatbread|BBQ Chicken\n",
       "3          ALF|Flatbread|Beef & Onion\n",
       "4       ALF|Flatbread|Beef Onion|TMRW\n",
       "                    ...              \n",
       "417       VEG|Toast|Southwest Avocado\n",
       "418       VEG|Toast|Westcoast Avocado\n",
       "419         VEG|Tuscan Breakfast Bowl\n",
       "420             Vegan|Risotto|Base|LM\n",
       "421                YIELD|Seasonal Veg\n",
       "Name: name, Length: 422, dtype: object"
      ]
     },
     "execution_count": 13,
     "metadata": {},
     "output_type": "execute_result"
    }
   ],
   "source": [
    "items_2 = e[\"name\"]\n",
    "items_2"
   ]
  },
  {
   "cell_type": "code",
   "execution_count": 9,
   "metadata": {},
   "outputs": [
    {
     "data": {
      "text/plain": [
       "(340, 422)"
      ]
     },
     "execution_count": 9,
     "metadata": {},
     "output_type": "execute_result"
    }
   ],
   "source": [
    "len_1 = len(items_1)\n",
    "len_2 = len(items_2)\n",
    "len_1, len_2"
   ]
  },
  {
   "cell_type": "code",
   "execution_count": 16,
   "metadata": {},
   "outputs": [],
   "source": [
    "with open(\"missing.txt\", \"w\") as f:\n",
    "    missing = []\n",
    "    for x in items_2:\n",
    "        if x.strip() not in [item.strip() for item in items_1] and x.strip() not in missing:\n",
    "            missing.append(x.strip())\n",
    "            f.write(x.strip() + \"\\n\")\n"
   ]
  },
  {
   "cell_type": "code",
   "execution_count": null,
   "metadata": {},
   "outputs": [],
   "source": []
  }
 ],
 "metadata": {
  "kernelspec": {
   "display_name": "cffs",
   "language": "python",
   "name": "python3"
  },
  "language_info": {
   "codemirror_mode": {
    "name": "ipython",
    "version": 3
   },
   "file_extension": ".py",
   "mimetype": "text/x-python",
   "name": "python",
   "nbconvert_exporter": "python",
   "pygments_lexer": "ipython3",
   "version": "3.12.3"
  }
 },
 "nbformat": 4,
 "nbformat_minor": 2
}
