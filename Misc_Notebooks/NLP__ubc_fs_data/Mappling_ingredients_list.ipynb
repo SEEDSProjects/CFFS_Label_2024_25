{
 "cells": [
  {
   "cell_type": "markdown",
   "id": "fe41a361",
   "metadata": {},
   "source": [
    "# Climate-Friendly Food Systems (CFFS) Labelling Project\n",
    "\n",
    "### The University of British Columbia\n",
    "\n",
    "****\n",
    "\n",
    "## Machine Learning\n",
    "### NLP Approach\n",
    "\n",
    "***"
   ]
  },
  {
   "cell_type": "code",
   "execution_count": 2,
   "id": "77427379",
   "metadata": {},
   "outputs": [],
   "source": [
    "import pandas as pd\n",
    "import os"
   ]
  },
  {
   "cell_type": "code",
   "execution_count": null,
   "id": "509388b5",
   "metadata": {},
   "outputs": [],
   "source": [
    "# RUN ONLY ONCE\n",
    "# os.chdir is used to change the current directory to the specified path\n",
    "os.chdir(\"../../\") # Sets path to the repo folder as it is two level above where this file exists!\n",
    "path = os.getcwd()\n",
    "print(path)"
   ]
  },
  {
   "cell_type": "code",
   "execution_count": 4,
   "id": "204a6086",
   "metadata": {},
   "outputs": [],
   "source": [
    "# Step 1: Read the CSV files\n",
    "ingredients_df = pd.read_csv('data/preprocessed/Ingredients_List.csv')\n",
    "items_list_df = pd.read_csv('data/preprocessed/Items_List.csv')\n",
    "preps_list_df = pd.read_csv('data/preprocessed/Preps_List.csv')\n",
    "product_list_df = pd.read_csv('data/preprocessed/Products_List.csv')\n",
    "data_labelled_df = pd.read_csv('data/final/2023_2024_CFFS_Outcomes/Data_Labelled_OK23-24_with_name.csv')"
   ]
  },
  {
   "cell_type": "code",
   "execution_count": 1,
   "id": "6d7b1b26",
   "metadata": {},
   "outputs": [],
   "source": [
    "# Map IDs to descriptions\n",
    "item_desc_map = items_list_df.set_index('ItemId')['Description'].to_dict()\n",
    "prep_desc_map = preps_list_df.set_index('PrepId')['Description'].to_dict()\n",
    "product_desc_map = product_list_df.set_index('ProdId')['Description'].to_dict()\n",
    "\n",
    "# Function to map IDs to descriptions\n",
    "def get_description(id):\n",
    "    if id.startswith('I-'):\n",
    "        return item_desc_map.get(id, id)\n",
    "    elif id.startswith('P-'):\n",
    "        return prep_desc_map.get(id, id)\n",
    "    return id\n",
    "\n",
    "# Aggregate ingredients by recipe and map IDs to descriptions\n",
    "ingredients_df['IngredientName'] = ingredients_df['IngredientId'].apply(get_description)\n",
    "recipe_ingredients = ingredients_df.groupby('Recipe')['IngredientName'].apply(lambda x: ', '.join(x)).reset_index()\n",
    "\n",
    "# Resolve recipe names and include ProdId\n",
    "recipe_ingredients['ProdId'] = recipe_ingredients['Recipe']\n",
    "recipe_ingredients['RecipeName'] = recipe_ingredients['ProdId'].apply(lambda x: product_desc_map.get(x, ''))\n",
    "\n",
    "# Filter out recipes with ProdIds not found in the labelled data\n",
    "valid_prod_ids = set(data_labelled_df['ProdId'])\n",
    "recipe_ingredients_filtered = recipe_ingredients[recipe_ingredients['ProdId'].isin(valid_prod_ids)]\n",
    "\n",
    "# Map \"Combined Label\" for valid ProdIds\n",
    "recipe_ingredients_filtered['Combined Label'] = recipe_ingredients_filtered['ProdId'].apply(lambda x: data_labelled_df.set_index('ProdId')['Combined Label'].get(x, ''))\n",
    "\n",
    "# Exclude products not in the final list (if any)\n",
    "if recipe_ingredients_filtered.empty:\n",
    "    print(\"No matching ProdId found.\")\n",
    "else:\n",
    "    final_df = recipe_ingredients_filtered[['ProdId', 'RecipeName', 'IngredientName', 'Combined Label']].rename(columns={'IngredientName': 'Ingredients'})\n",
    "    final_df.to_excel('NLP__ubc_fs_data/data/recipes_with_ingredients.xlsx', index=False)\n",
    "    print(\"Filtered products with their names and combined labels are saved to 'recipes_with_ingredients_and_labels_filtered.xlsx'.\")"
   ]
  }
 ],
 "metadata": {
  "kernelspec": {
   "display_name": "Python 3 (ipykernel)",
   "language": "python",
   "name": "python3"
  },
  "language_info": {
   "codemirror_mode": {
    "name": "ipython",
    "version": 3
   },
   "file_extension": ".py",
   "mimetype": "text/x-python",
   "name": "python",
   "nbconvert_exporter": "python",
   "pygments_lexer": "ipython3",
   "version": "3.12.3"
  }
 },
 "nbformat": 4,
 "nbformat_minor": 5
}
