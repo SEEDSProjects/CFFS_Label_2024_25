{
 "cells": [
  {
   "cell_type": "markdown",
   "metadata": {},
   "source": [
    "![](ubc_header.png)"
   ]
  },
  {
   "cell_type": "markdown",
   "metadata": {},
   "source": [
    "# Climate-Friendly Food Systems (CFFS) Labelling Project\n",
    "\n",
    "### The University of British Columbia\n",
    "\n",
    "****\n",
    "\n",
    "## Part I: Data Preprocessing"
   ]
  },
  {
   "cell_type": "markdown",
   "metadata": {},
   "source": [
    "## Set up and Import Libraries"
   ]
  },
  {
   "cell_type": "code",
   "execution_count": 1,
   "metadata": {},
   "outputs": [],
   "source": [
    "#pip install -r requirements.txt"
   ]
  },
  {
   "cell_type": "code",
   "execution_count": 2,
   "metadata": {},
   "outputs": [],
   "source": [
    "import numpy as np\n",
    "import pandas as pd\n",
    "import matplotlib.pyplot as plt\n",
    "import glob\n",
    "import os\n",
    "import csv\n",
    "from itertools import islice\n",
    "from decimal import Decimal\n",
    "import xml.etree.ElementTree as et\n",
    "from xml.etree.ElementTree import parse\n",
    "import openpyxl\n",
    "import pytest"
   ]
  },
  {
   "cell_type": "code",
   "execution_count": 3,
   "metadata": {},
   "outputs": [
    {
     "name": "stdout",
     "output_type": "stream",
     "text": [
      "/Users/vivaanwadhwa/Documents/GitHub/CFFS_sharon_2024\n"
     ]
    }
   ],
   "source": [
    "# RUN ONLY ONCE\n",
    "# os.chdir is used to change the current directory to the specified path\n",
    "os.chdir(\"../\") # Sets path to the repo folder as it is one level above where this file exists!\n",
    "path = os.getcwd()\n",
    "print(path)"
   ]
  },
  {
   "cell_type": "markdown",
   "metadata": {},
   "source": [
    "****\n",
    "\n",
    "## Load Data Files\n",
    "\n",
    "### Set Data File Path"
   ]
  },
  {
   "cell_type": "code",
   "execution_count": 4,
   "metadata": {},
   "outputs": [
    {
     "data": {
      "text/plain": [
       "['/Users/vivaanwadhwa/Documents/GitHub/CFFS_sharon_2024/data/raw/Feast/all_FEAST_items_13th_aug.oc.oc',\n",
       " '/Users/vivaanwadhwa/Documents/GitHub/CFFS_sharon_2024/data/raw/Feast/2l_FEAST_items_13th_aug.oc.oc.oc']"
      ]
     },
     "execution_count": 4,
     "metadata": {},
     "output_type": "execute_result"
    }
   ],
   "source": [
    "# Select data file path for the chosen venue and time range where the recipes data stored\n",
    "\n",
    "# OK 2023\n",
    "# filepath_list = glob.glob(os.path.join(os.getcwd(), \"data\", \"raw\", \"OK\", \"*.oc\"))\n",
    "\n",
    "# Totem 2023\n",
    "# filepath_list = glob.glob(os.path.join(os.getcwd(), \"data\", \"raw\", \"Feast\", \"*.oc\"))\n",
    "\n",
    "# Gather 2023\n",
    "filepath_list = glob.glob(os.path.join(os.getcwd(), \"data\", \"raw\", \"Gather\", \"*.oc\"))\n",
    "\n",
    "# filepath_list = glob.glob(os.path.join(os.getcwd(), \"data\", \"raw\", \"BLUEBERRY_FESTIVAL_24\"))\n",
    "\n",
    "# filepath_list = glob.glob(os.path.join(os.getcwd(), \"data\", \"raw\", \"HARVEST_FESTIVAL_24\"))\n",
    "\n",
    "filepath_list"
   ]
  },
  {
   "cell_type": "markdown",
   "metadata": {},
   "source": [
    "### Import Items List"
   ]
  },
  {
   "cell_type": "code",
   "execution_count": 5,
   "metadata": {
    "scrolled": true
   },
   "outputs": [],
   "source": [
    "# Read items.xml files in the filepath_list and construct a dataframe\n",
    "ItemId = []\n",
    "Description = []\n",
    "CaseQty = []\n",
    "CaseUOM = []\n",
    "PakQty = []\n",
    "PakUOM = []\n",
    "InventoryGroup = []\n",
    "\n",
    "\n",
    "# from the items xml file, findtext of CaseQty, CaseUOM, PakQty, PakUOM, and InventoryGroup\n",
    "# then append it on the lists above\n",
    "\n",
    "for filepath in filepath_list:\n",
    "    path = filepath + '/Items.xml'\n",
    "    if os.path.isfile(path):\n",
    "        xtree = et.parse(path)\n",
    "        xroot = xtree.getroot()\n",
    "        for item in xtree.iterfind('Item'):\n",
    "            ItemId.append(item.attrib['id'])\n",
    "            Description.append(item.findtext('Description'))\n",
    "            CaseQty.append(item.findtext('CaseQty'))\n",
    "            CaseUOM.append(item.findtext('CaseUOM'))\n",
    "            PakQty.append(item.findtext('PakQty'))\n",
    "            PakUOM.append(item.findtext('PakUOM'))\n",
    "            InventoryGroup.append(item.findtext('InventoryGroup'))\n",
    "\n",
    "            \n",
    "# Create a dataframe from the lists created above.\n",
    "        \n",
    "Items = pd.DataFrame({'ItemId': ItemId, 'Description': Description, 'CaseQty': CaseQty, \n",
    "                      'CaseUOM': CaseUOM, 'PakQty': PakQty, 'PakUOM': PakUOM, 'InventoryGroup': InventoryGroup}\n",
    "                    )\n",
    "\n",
    "Items.drop_duplicates(inplace=True)\n",
    "\n",
    "Items.reset_index(drop=True, inplace=True)"
   ]
  },
  {
   "cell_type": "code",
   "execution_count": 6,
   "metadata": {},
   "outputs": [],
   "source": [
    "# creates a new array with unique ItemIds\n",
    "all_id_list = Items[\"ItemId\"].unique()"
   ]
  },
  {
   "cell_type": "code",
   "execution_count": 7,
   "metadata": {},
   "outputs": [
    {
     "data": {
      "text/html": [
       "<div>\n",
       "<style scoped>\n",
       "    .dataframe tbody tr th:only-of-type {\n",
       "        vertical-align: middle;\n",
       "    }\n",
       "\n",
       "    .dataframe tbody tr th {\n",
       "        vertical-align: top;\n",
       "    }\n",
       "\n",
       "    .dataframe thead th {\n",
       "        text-align: right;\n",
       "    }\n",
       "</style>\n",
       "<table border=\"1\" class=\"dataframe\">\n",
       "  <thead>\n",
       "    <tr style=\"text-align: right;\">\n",
       "      <th></th>\n",
       "      <th>ItemId</th>\n",
       "      <th>Description</th>\n",
       "      <th>CaseQty</th>\n",
       "      <th>CaseUOM</th>\n",
       "      <th>PakQty</th>\n",
       "      <th>PakUOM</th>\n",
       "      <th>InventoryGroup</th>\n",
       "    </tr>\n",
       "  </thead>\n",
       "  <tbody>\n",
       "  </tbody>\n",
       "</table>\n",
       "</div>"
      ],
      "text/plain": [
       "Empty DataFrame\n",
       "Columns: [ItemId, Description, CaseQty, CaseUOM, PakQty, PakUOM, InventoryGroup]\n",
       "Index: []"
      ]
     },
     "execution_count": 7,
     "metadata": {},
     "output_type": "execute_result"
    }
   ],
   "source": [
    "# None of the items are egg yolk liq\n",
    "Items.loc[Items[\"Description\"] == \"Egg Yolk Liq\"]"
   ]
  },
  {
   "cell_type": "code",
   "execution_count": 8,
   "metadata": {},
   "outputs": [
    {
     "data": {
      "text/html": [
       "<div>\n",
       "<style scoped>\n",
       "    .dataframe tbody tr th:only-of-type {\n",
       "        vertical-align: middle;\n",
       "    }\n",
       "\n",
       "    .dataframe tbody tr th {\n",
       "        vertical-align: top;\n",
       "    }\n",
       "\n",
       "    .dataframe thead th {\n",
       "        text-align: right;\n",
       "    }\n",
       "</style>\n",
       "<table border=\"1\" class=\"dataframe\">\n",
       "  <thead>\n",
       "    <tr style=\"text-align: right;\">\n",
       "      <th></th>\n",
       "      <th>ItemId</th>\n",
       "      <th>Description</th>\n",
       "      <th>CaseQty</th>\n",
       "      <th>CaseUOM</th>\n",
       "      <th>PakQty</th>\n",
       "      <th>PakUOM</th>\n",
       "      <th>InventoryGroup</th>\n",
       "    </tr>\n",
       "  </thead>\n",
       "  <tbody>\n",
       "    <tr>\n",
       "      <th>171</th>\n",
       "      <td>I-68700</td>\n",
       "      <td>EGG CKD*FOLDED  VEGAN FRZ</td>\n",
       "      <td>60.000</td>\n",
       "      <td>each</td>\n",
       "      <td>1.000</td>\n",
       "      <td>each</td>\n",
       "      <td>DAIRY</td>\n",
       "    </tr>\n",
       "  </tbody>\n",
       "</table>\n",
       "</div>"
      ],
      "text/plain": [
       "      ItemId                Description CaseQty CaseUOM PakQty PakUOM  \\\n",
       "171  I-68700  EGG CKD*FOLDED  VEGAN FRZ  60.000    each  1.000   each   \n",
       "\n",
       "    InventoryGroup  \n",
       "171          DAIRY  "
      ]
     },
     "execution_count": 8,
     "metadata": {},
     "output_type": "execute_result"
    }
   ],
   "source": [
    "# Sumplemental option for egg, vegan option\n",
    "Items.loc[Items[\"ItemId\"] == \"I-68700\"]"
   ]
  },
  {
   "cell_type": "code",
   "execution_count": 9,
   "metadata": {},
   "outputs": [
    {
     "data": {
      "text/plain": [
       "['I-1271', 'I-11664', 'I-15032', 'I-71503']"
      ]
     },
     "execution_count": 9,
     "metadata": {},
     "output_type": "execute_result"
    }
   ],
   "source": [
    "# Gives you the list of breads\n",
    "breadlist = []\n",
    "\n",
    "\n",
    "# If the items in the Items list is a \"LOAF\", \"SANDWICH\", or \"BREAD\" then we should add it in the breadlist\n",
    "# We append it onto the breadlist at position row[\"ItemId\"]\n",
    "for ind, row in Items.iterrows():\n",
    "    if (\"LOAF\" or \"SANDWICH\" \"BREAD\") in row[\"Description\"]:\n",
    "        breadlist.append(row[\"ItemId\"])\n",
    "\n",
    "breadlist"
   ]
  },
  {
   "cell_type": "code",
   "execution_count": 10,
   "metadata": {},
   "outputs": [],
   "source": [
    "Items = Items[~Items[\"InventoryGroup\"].isin([\"DISPOSABLES\", \"SUPPLY\"])]"
   ]
  },
  {
   "cell_type": "code",
   "execution_count": 11,
   "metadata": {},
   "outputs": [
    {
     "data": {
      "text/plain": [
       "(602, 7)"
      ]
     },
     "execution_count": 11,
     "metadata": {},
     "output_type": "execute_result"
    }
   ],
   "source": [
    "# Based on info below there are 486 rows and 7 columns\n",
    "Items.shape"
   ]
  },
  {
   "cell_type": "code",
   "execution_count": 12,
   "metadata": {},
   "outputs": [
    {
     "data": {
      "text/plain": [
       "ItemId            object\n",
       "Description       object\n",
       "CaseQty           object\n",
       "CaseUOM           object\n",
       "PakQty            object\n",
       "PakUOM            object\n",
       "InventoryGroup    object\n",
       "dtype: object"
      ]
     },
     "execution_count": 12,
     "metadata": {},
     "output_type": "execute_result"
    }
   ],
   "source": [
    "Items.dtypes"
   ]
  },
  {
   "cell_type": "code",
   "execution_count": 13,
   "metadata": {},
   "outputs": [],
   "source": [
    "# Save the dataframe to csv\n",
    "path = os.path.join(os.getcwd(), \"data\", \"preprocessed\", \"Items_List.csv\")\n",
    "Items.to_csv(path, index = False, header = True)"
   ]
  },
  {
   "cell_type": "markdown",
   "metadata": {},
   "source": [
    "### Import Ingredients List"
   ]
  },
  {
   "cell_type": "code",
   "execution_count": 14,
   "metadata": {},
   "outputs": [],
   "source": [
    "# Read ingredients.xml files in the filepath_list and construct a dataframe\n",
    "IngredientId = []\n",
    "Conversion = []\n",
    "InvFactor = []\n",
    "Qty = []\n",
    "Recipe = []\n",
    "Uom = []\n",
    "\n",
    "# Using the Ingredients XML file, we extract attributes containing ingredients, conversion, invFactor, qty, recipe, and uom. \n",
    "# Then we append it onto the IngredientId, Coversion, InvFactor, Qty, Recipe, and Uom lists\n",
    "# Then we create a dataframe using the lists created. \n",
    "\n",
    "for filepath in filepath_list:\n",
    "    path = filepath + '/Ingredients.xml'\n",
    "    if os.path.isfile(path):\n",
    "        xtree = et.parse(path)\n",
    "        xroot = xtree.getroot()\n",
    "        for x in xtree.iterfind('Ingredient'):\n",
    "            IngredientId.append(x.attrib['ingredient'])\n",
    "            Conversion.append(x.attrib['conversion'])\n",
    "            InvFactor.append(x.attrib['invFactor'])\n",
    "            Qty.append(x.attrib['qty'])\n",
    "            Recipe.append(x.attrib['recipe'])\n",
    "            Uom.append(x.attrib['uom'])\n",
    "    \n",
    "Ingredients = pd.DataFrame({'IngredientId': IngredientId, 'Qty': Qty,'Uom': Uom, 'Conversion': Conversion, \n",
    "                      'InvFactor': InvFactor,'Recipe': Recipe}).drop_duplicates()\n",
    "Ingredients.drop_duplicates(subset=[\"IngredientId\", \"Recipe\"], inplace=True)\n",
    "\n",
    "Ingredients.reset_index(drop=True, inplace=True)"
   ]
  },
  {
   "cell_type": "code",
   "execution_count": 15,
   "metadata": {
    "scrolled": false
   },
   "outputs": [
    {
     "data": {
      "text/html": [
       "<div>\n",
       "<style scoped>\n",
       "    .dataframe tbody tr th:only-of-type {\n",
       "        vertical-align: middle;\n",
       "    }\n",
       "\n",
       "    .dataframe tbody tr th {\n",
       "        vertical-align: top;\n",
       "    }\n",
       "\n",
       "    .dataframe thead th {\n",
       "        text-align: right;\n",
       "    }\n",
       "</style>\n",
       "<table border=\"1\" class=\"dataframe\">\n",
       "  <thead>\n",
       "    <tr style=\"text-align: right;\">\n",
       "      <th></th>\n",
       "      <th>IngredientId</th>\n",
       "      <th>Qty</th>\n",
       "      <th>Uom</th>\n",
       "      <th>Conversion</th>\n",
       "      <th>InvFactor</th>\n",
       "      <th>Recipe</th>\n",
       "    </tr>\n",
       "  </thead>\n",
       "  <tbody>\n",
       "    <tr>\n",
       "      <th>1145</th>\n",
       "      <td>I-29389</td>\n",
       "      <td>3.000</td>\n",
       "      <td>Kg</td>\n",
       "      <td>1.00000000</td>\n",
       "      <td>1.2000</td>\n",
       "      <td>P-50739</td>\n",
       "    </tr>\n",
       "    <tr>\n",
       "      <th>1776</th>\n",
       "      <td>I-29389</td>\n",
       "      <td>600.000</td>\n",
       "      <td>g</td>\n",
       "      <td>0.00100000</td>\n",
       "      <td>150.0000</td>\n",
       "      <td>P-57344</td>\n",
       "    </tr>\n",
       "  </tbody>\n",
       "</table>\n",
       "</div>"
      ],
      "text/plain": [
       "     IngredientId      Qty Uom  Conversion InvFactor   Recipe\n",
       "1145      I-29389    3.000  Kg  1.00000000    1.2000  P-50739\n",
       "1776      I-29389  600.000   g  0.00100000  150.0000  P-57344"
      ]
     },
     "execution_count": 15,
     "metadata": {},
     "output_type": "execute_result"
    }
   ],
   "source": [
    "Ingredients.loc[Ingredients[\"IngredientId\"] == \"I-29389\"]"
   ]
  },
  {
   "cell_type": "code",
   "execution_count": 16,
   "metadata": {},
   "outputs": [
    {
     "data": {
      "text/plain": [
       "9       I-56382\n",
       "18       I-3642\n",
       "22       I-3284\n",
       "28       I-5983\n",
       "31      I-56382\n",
       "         ...   \n",
       "4491     I-1131\n",
       "4492    I-14179\n",
       "4493     I-3531\n",
       "4494    P-45047\n",
       "4495    P-46862\n",
       "Name: IngredientId, Length: 3257, dtype: object"
      ]
     },
     "execution_count": 16,
     "metadata": {},
     "output_type": "execute_result"
    }
   ],
   "source": [
    "# This will output the IngredientId on the right side and the number of times the ingredient appears in the Ingredients\n",
    "# dataframe on the left side. \n",
    "\n",
    "# The duplicated() method returns a Series with True and False values that describe which rows in the DataFrame are \n",
    "# duplicated and not.\n",
    "\n",
    "check = Ingredients[\"IngredientId\"].duplicated()\n",
    "\n",
    "# The line below tells us at which index is the ingredient duplicated. For example I-4598 exists on index 2 of the dataframe and\n",
    "# then again on index 8. So duplicate is first true on index 8, which is why it is printed below. It also appears in a below \n",
    "# index so it is printed again with that index number. \n",
    "Ingredients[\"IngredientId\"][check]"
   ]
  },
  {
   "cell_type": "code",
   "execution_count": 17,
   "metadata": {},
   "outputs": [
    {
     "data": {
      "text/html": [
       "<div>\n",
       "<style scoped>\n",
       "    .dataframe tbody tr th:only-of-type {\n",
       "        vertical-align: middle;\n",
       "    }\n",
       "\n",
       "    .dataframe tbody tr th {\n",
       "        vertical-align: top;\n",
       "    }\n",
       "\n",
       "    .dataframe thead th {\n",
       "        text-align: right;\n",
       "    }\n",
       "</style>\n",
       "<table border=\"1\" class=\"dataframe\">\n",
       "  <thead>\n",
       "    <tr style=\"text-align: right;\">\n",
       "      <th></th>\n",
       "      <th>IngredientId</th>\n",
       "      <th>Qty</th>\n",
       "      <th>Uom</th>\n",
       "      <th>Conversion</th>\n",
       "      <th>InvFactor</th>\n",
       "      <th>Recipe</th>\n",
       "    </tr>\n",
       "  </thead>\n",
       "  <tbody>\n",
       "  </tbody>\n",
       "</table>\n",
       "</div>"
      ],
      "text/plain": [
       "Empty DataFrame\n",
       "Columns: [IngredientId, Qty, Uom, Conversion, InvFactor, Recipe]\n",
       "Index: []"
      ]
     },
     "execution_count": 17,
     "metadata": {},
     "output_type": "execute_result"
    }
   ],
   "source": [
    "# We can see from the printed items above that I-64877 does not appear because it does not get duplicated\n",
    "Ingredients.loc[Ingredients[\"IngredientId\"] == \"I-64877\"]"
   ]
  },
  {
   "cell_type": "code",
   "execution_count": 18,
   "metadata": {},
   "outputs": [
    {
     "data": {
      "text/html": [
       "<div>\n",
       "<style scoped>\n",
       "    .dataframe tbody tr th:only-of-type {\n",
       "        vertical-align: middle;\n",
       "    }\n",
       "\n",
       "    .dataframe tbody tr th {\n",
       "        vertical-align: top;\n",
       "    }\n",
       "\n",
       "    .dataframe thead th {\n",
       "        text-align: right;\n",
       "    }\n",
       "</style>\n",
       "<table border=\"1\" class=\"dataframe\">\n",
       "  <thead>\n",
       "    <tr style=\"text-align: right;\">\n",
       "      <th></th>\n",
       "      <th>IngredientId</th>\n",
       "      <th>Qty</th>\n",
       "      <th>Uom</th>\n",
       "      <th>Conversion</th>\n",
       "      <th>InvFactor</th>\n",
       "      <th>Recipe</th>\n",
       "    </tr>\n",
       "  </thead>\n",
       "  <tbody>\n",
       "    <tr>\n",
       "      <th>0</th>\n",
       "      <td>P-48933</td>\n",
       "      <td>1.000</td>\n",
       "      <td>Kg</td>\n",
       "      <td>1.00000000</td>\n",
       "      <td>1.0000</td>\n",
       "      <td>P-10113</td>\n",
       "    </tr>\n",
       "    <tr>\n",
       "      <th>1</th>\n",
       "      <td>I-4626</td>\n",
       "      <td>16.000</td>\n",
       "      <td>CT</td>\n",
       "      <td>1.00000000</td>\n",
       "      <td>2.6667</td>\n",
       "      <td>P-10115</td>\n",
       "    </tr>\n",
       "    <tr>\n",
       "      <th>2</th>\n",
       "      <td>P-18746</td>\n",
       "      <td>1.000</td>\n",
       "      <td>Kg</td>\n",
       "      <td>1.00000000</td>\n",
       "      <td>1.0000</td>\n",
       "      <td>P-10241</td>\n",
       "    </tr>\n",
       "    <tr>\n",
       "      <th>3</th>\n",
       "      <td>I-4658</td>\n",
       "      <td>2.270</td>\n",
       "      <td>Kg</td>\n",
       "      <td>2.20462000</td>\n",
       "      <td>0.6942</td>\n",
       "      <td>P-10496</td>\n",
       "    </tr>\n",
       "    <tr>\n",
       "      <th>4</th>\n",
       "      <td>I-56382</td>\n",
       "      <td>1.000</td>\n",
       "      <td>L</td>\n",
       "      <td>1.00000000</td>\n",
       "      <td>0.3058</td>\n",
       "      <td>P-10496</td>\n",
       "    </tr>\n",
       "    <tr>\n",
       "      <th>...</th>\n",
       "      <td>...</td>\n",
       "      <td>...</td>\n",
       "      <td>...</td>\n",
       "      <td>...</td>\n",
       "      <td>...</td>\n",
       "      <td>...</td>\n",
       "    </tr>\n",
       "    <tr>\n",
       "      <th>4492</th>\n",
       "      <td>I-14179</td>\n",
       "      <td>70.000</td>\n",
       "      <td>g</td>\n",
       "      <td>0.00100000</td>\n",
       "      <td>1.0000</td>\n",
       "      <td>R-8355</td>\n",
       "    </tr>\n",
       "    <tr>\n",
       "      <th>4493</th>\n",
       "      <td>I-3531</td>\n",
       "      <td>60.000</td>\n",
       "      <td>ml</td>\n",
       "      <td>0.00100000</td>\n",
       "      <td>1.0000</td>\n",
       "      <td>R-8355</td>\n",
       "    </tr>\n",
       "    <tr>\n",
       "      <th>4494</th>\n",
       "      <td>P-45047</td>\n",
       "      <td>20.000</td>\n",
       "      <td>g</td>\n",
       "      <td>0.00100000</td>\n",
       "      <td>1.0000</td>\n",
       "      <td>R-8355</td>\n",
       "    </tr>\n",
       "    <tr>\n",
       "      <th>4495</th>\n",
       "      <td>P-46862</td>\n",
       "      <td>20.000</td>\n",
       "      <td>slice</td>\n",
       "      <td>1.00000000</td>\n",
       "      <td>1.0000</td>\n",
       "      <td>R-8355</td>\n",
       "    </tr>\n",
       "    <tr>\n",
       "      <th>4496</th>\n",
       "      <td>P-68034</td>\n",
       "      <td>50.000</td>\n",
       "      <td>g</td>\n",
       "      <td>0.00100000</td>\n",
       "      <td>1.0000</td>\n",
       "      <td>R-8355</td>\n",
       "    </tr>\n",
       "  </tbody>\n",
       "</table>\n",
       "<p>4497 rows × 6 columns</p>\n",
       "</div>"
      ],
      "text/plain": [
       "     IngredientId     Qty    Uom  Conversion InvFactor   Recipe\n",
       "0         P-48933   1.000     Kg  1.00000000    1.0000  P-10113\n",
       "1          I-4626  16.000     CT  1.00000000    2.6667  P-10115\n",
       "2         P-18746   1.000     Kg  1.00000000    1.0000  P-10241\n",
       "3          I-4658   2.270     Kg  2.20462000    0.6942  P-10496\n",
       "4         I-56382   1.000      L  1.00000000    0.3058  P-10496\n",
       "...           ...     ...    ...         ...       ...      ...\n",
       "4492      I-14179  70.000      g  0.00100000    1.0000   R-8355\n",
       "4493       I-3531  60.000     ml  0.00100000    1.0000   R-8355\n",
       "4494      P-45047  20.000      g  0.00100000    1.0000   R-8355\n",
       "4495      P-46862  20.000  slice  1.00000000    1.0000   R-8355\n",
       "4496      P-68034  50.000      g  0.00100000    1.0000   R-8355\n",
       "\n",
       "[4497 rows x 6 columns]"
      ]
     },
     "execution_count": 18,
     "metadata": {},
     "output_type": "execute_result"
    }
   ],
   "source": [
    "Ingredients"
   ]
  },
  {
   "cell_type": "code",
   "execution_count": 19,
   "metadata": {},
   "outputs": [
    {
     "data": {
      "text/html": [
       "<div>\n",
       "<style scoped>\n",
       "    .dataframe tbody tr th:only-of-type {\n",
       "        vertical-align: middle;\n",
       "    }\n",
       "\n",
       "    .dataframe tbody tr th {\n",
       "        vertical-align: top;\n",
       "    }\n",
       "\n",
       "    .dataframe thead th {\n",
       "        text-align: right;\n",
       "    }\n",
       "</style>\n",
       "<table border=\"1\" class=\"dataframe\">\n",
       "  <thead>\n",
       "    <tr style=\"text-align: right;\">\n",
       "      <th></th>\n",
       "      <th>IngredientId</th>\n",
       "      <th>Qty</th>\n",
       "      <th>Uom</th>\n",
       "      <th>Conversion</th>\n",
       "      <th>InvFactor</th>\n",
       "      <th>Recipe</th>\n",
       "    </tr>\n",
       "  </thead>\n",
       "  <tbody>\n",
       "  </tbody>\n",
       "</table>\n",
       "</div>"
      ],
      "text/plain": [
       "Empty DataFrame\n",
       "Columns: [IngredientId, Qty, Uom, Conversion, InvFactor, Recipe]\n",
       "Index: []"
      ]
     },
     "execution_count": 19,
     "metadata": {},
     "output_type": "execute_result"
    }
   ],
   "source": [
    "# Below we are checking if we can extract an entire recipe. So we can do .loc with the particular recipe id and then \n",
    "# print all the data points (ingredientId, Qty, Uom, Conversion, InvFactor) for that recipe. \n",
    "Ingredients.loc[Ingredients[\"Recipe\"] == \"R-68698\"]"
   ]
  },
  {
   "cell_type": "code",
   "execution_count": 20,
   "metadata": {},
   "outputs": [
    {
     "data": {
      "text/html": [
       "<div>\n",
       "<style scoped>\n",
       "    .dataframe tbody tr th:only-of-type {\n",
       "        vertical-align: middle;\n",
       "    }\n",
       "\n",
       "    .dataframe tbody tr th {\n",
       "        vertical-align: top;\n",
       "    }\n",
       "\n",
       "    .dataframe thead th {\n",
       "        text-align: right;\n",
       "    }\n",
       "</style>\n",
       "<table border=\"1\" class=\"dataframe\">\n",
       "  <thead>\n",
       "    <tr style=\"text-align: right;\">\n",
       "      <th></th>\n",
       "      <th>ItemId</th>\n",
       "      <th>Description</th>\n",
       "      <th>CaseQty</th>\n",
       "      <th>CaseUOM</th>\n",
       "      <th>PakQty</th>\n",
       "      <th>PakUOM</th>\n",
       "      <th>InventoryGroup</th>\n",
       "    </tr>\n",
       "  </thead>\n",
       "  <tbody>\n",
       "    <tr>\n",
       "      <th>0</th>\n",
       "      <td>I-7631</td>\n",
       "      <td>5 SPICE POWDER</td>\n",
       "      <td>1.000</td>\n",
       "      <td>ea</td>\n",
       "      <td>1.000</td>\n",
       "      <td>lb</td>\n",
       "      <td>SPICES</td>\n",
       "    </tr>\n",
       "    <tr>\n",
       "      <th>1</th>\n",
       "      <td>I-3617</td>\n",
       "      <td>ALLSPICE GROUND SHAKER</td>\n",
       "      <td>8.000</td>\n",
       "      <td>each</td>\n",
       "      <td>454.000</td>\n",
       "      <td>g</td>\n",
       "      <td>SPICES</td>\n",
       "    </tr>\n",
       "    <tr>\n",
       "      <th>2</th>\n",
       "      <td>I-44059</td>\n",
       "      <td>ALMOND BUTTER*</td>\n",
       "      <td>10.000</td>\n",
       "      <td>Kg</td>\n",
       "      <td>1.000</td>\n",
       "      <td>Kg</td>\n",
       "      <td>FOOD - GROCERY</td>\n",
       "    </tr>\n",
       "    <tr>\n",
       "      <th>3</th>\n",
       "      <td>I-40957</td>\n",
       "      <td>ALMOND SLICED*BLANCHED</td>\n",
       "      <td>3.000</td>\n",
       "      <td>bag</td>\n",
       "      <td>1000.000</td>\n",
       "      <td>g</td>\n",
       "      <td>BAKING-RAW INGREDIENTS</td>\n",
       "    </tr>\n",
       "    <tr>\n",
       "      <th>4</th>\n",
       "      <td>I-43652</td>\n",
       "      <td>ANCHO CHILLI</td>\n",
       "      <td>1.200</td>\n",
       "      <td>Kg</td>\n",
       "      <td>1.000</td>\n",
       "      <td>Kg</td>\n",
       "      <td>FOOD - GROCERY</td>\n",
       "    </tr>\n",
       "    <tr>\n",
       "      <th>...</th>\n",
       "      <td>...</td>\n",
       "      <td>...</td>\n",
       "      <td>...</td>\n",
       "      <td>...</td>\n",
       "      <td>...</td>\n",
       "      <td>...</td>\n",
       "      <td>...</td>\n",
       "    </tr>\n",
       "    <tr>\n",
       "      <th>597</th>\n",
       "      <td>I-68112</td>\n",
       "      <td>YOGURT YOGGU VANILLA COCONUT</td>\n",
       "      <td>3.500</td>\n",
       "      <td>Kg</td>\n",
       "      <td>1.000</td>\n",
       "      <td>Kg</td>\n",
       "      <td>DAIRY</td>\n",
       "    </tr>\n",
       "    <tr>\n",
       "      <th>598</th>\n",
       "      <td>I-68111</td>\n",
       "      <td>YOGURT YOGGU*PLAIN COCONUT</td>\n",
       "      <td>3.500</td>\n",
       "      <td>Kg</td>\n",
       "      <td>1.000</td>\n",
       "      <td>Kg</td>\n",
       "      <td>DAIRY</td>\n",
       "    </tr>\n",
       "    <tr>\n",
       "      <th>599</th>\n",
       "      <td>I-4962</td>\n",
       "      <td>ZUCCHINI BC</td>\n",
       "      <td>25.000</td>\n",
       "      <td>lb</td>\n",
       "      <td>1.000</td>\n",
       "      <td>lb</td>\n",
       "      <td>PRODUCE</td>\n",
       "    </tr>\n",
       "    <tr>\n",
       "      <th>600</th>\n",
       "      <td>I-4967</td>\n",
       "      <td>ZUCCHINI MED FCY MX</td>\n",
       "      <td>25.000</td>\n",
       "      <td>lb</td>\n",
       "      <td>1.000</td>\n",
       "      <td>lb</td>\n",
       "      <td>PRODUCE</td>\n",
       "    </tr>\n",
       "    <tr>\n",
       "      <th>601</th>\n",
       "      <td>I-4958</td>\n",
       "      <td>ZUCCHINI YELLOW BC</td>\n",
       "      <td>20.000</td>\n",
       "      <td>lb</td>\n",
       "      <td>1.000</td>\n",
       "      <td>lb</td>\n",
       "      <td>PRODUCE</td>\n",
       "    </tr>\n",
       "  </tbody>\n",
       "</table>\n",
       "<p>602 rows × 7 columns</p>\n",
       "</div>"
      ],
      "text/plain": [
       "      ItemId                   Description CaseQty CaseUOM    PakQty PakUOM  \\\n",
       "0     I-7631                5 SPICE POWDER   1.000      ea     1.000     lb   \n",
       "1     I-3617       ALLSPICE GROUND SHAKER    8.000    each   454.000      g   \n",
       "2    I-44059                ALMOND BUTTER*  10.000      Kg     1.000     Kg   \n",
       "3    I-40957        ALMOND SLICED*BLANCHED   3.000     bag  1000.000      g   \n",
       "4    I-43652                  ANCHO CHILLI   1.200      Kg     1.000     Kg   \n",
       "..       ...                           ...     ...     ...       ...    ...   \n",
       "597  I-68112  YOGURT YOGGU VANILLA COCONUT   3.500      Kg     1.000     Kg   \n",
       "598  I-68111    YOGURT YOGGU*PLAIN COCONUT   3.500      Kg     1.000     Kg   \n",
       "599   I-4962                   ZUCCHINI BC  25.000      lb     1.000     lb   \n",
       "600   I-4967           ZUCCHINI MED FCY MX  25.000      lb     1.000     lb   \n",
       "601   I-4958            ZUCCHINI YELLOW BC  20.000      lb     1.000     lb   \n",
       "\n",
       "             InventoryGroup  \n",
       "0                    SPICES  \n",
       "1                    SPICES  \n",
       "2            FOOD - GROCERY  \n",
       "3    BAKING-RAW INGREDIENTS  \n",
       "4            FOOD - GROCERY  \n",
       "..                      ...  \n",
       "597                   DAIRY  \n",
       "598                   DAIRY  \n",
       "599                 PRODUCE  \n",
       "600                 PRODUCE  \n",
       "601                 PRODUCE  \n",
       "\n",
       "[602 rows x 7 columns]"
      ]
     },
     "execution_count": 20,
     "metadata": {},
     "output_type": "execute_result"
    }
   ],
   "source": [
    "Items"
   ]
  },
  {
   "cell_type": "code",
   "execution_count": 21,
   "metadata": {},
   "outputs": [
    {
     "data": {
      "text/plain": [
       "(4497, 6)"
      ]
     },
     "execution_count": 21,
     "metadata": {},
     "output_type": "execute_result"
    }
   ],
   "source": [
    "Ingredients.shape"
   ]
  },
  {
   "cell_type": "code",
   "execution_count": 22,
   "metadata": {},
   "outputs": [
    {
     "data": {
      "text/plain": [
       "IngredientId    object\n",
       "Qty             object\n",
       "Uom             object\n",
       "Conversion      object\n",
       "InvFactor       object\n",
       "Recipe          object\n",
       "dtype: object"
      ]
     },
     "execution_count": 22,
     "metadata": {},
     "output_type": "execute_result"
    }
   ],
   "source": [
    "Ingredients.dtypes"
   ]
  },
  {
   "cell_type": "code",
   "execution_count": 23,
   "metadata": {},
   "outputs": [],
   "source": [
    "# Save the dataframe to csv\n",
    "path = os.path.join(os.getcwd(), \"data\", \"preprocessed\", \"Ingredients_List.csv\")\n",
    "Ingredients.to_csv(path, index = False, header = True)"
   ]
  },
  {
   "cell_type": "markdown",
   "metadata": {},
   "source": [
    "### Import Preps List"
   ]
  },
  {
   "cell_type": "code",
   "execution_count": 24,
   "metadata": {},
   "outputs": [],
   "source": [
    "# Read preps.xml files in the filepath_list and construct a dataframe\n",
    "PrepId = []\n",
    "Description = []\n",
    "PakQty = []\n",
    "PakUOM = []\n",
    "InventoryGroup = []\n",
    "\n",
    "\n",
    "# Here we do the same thing for the Preps XML file where we find the columns using attrib function and then append it onto\n",
    "# the dataframe called Preps. \n",
    "\n",
    "for filepath in filepath_list:\n",
    "    path = filepath + '/Preps.xml'\n",
    "    if os.path.isfile(path):\n",
    "        xtree = et.parse(path)\n",
    "        xroot = xtree.getroot()\n",
    "        for x in xtree.iterfind('Prep'):\n",
    "            PrepId.append(x.attrib['id'])\n",
    "            Description.append(x.findtext('Description'))\n",
    "            PakQty.append(x.findtext('PakQty'))\n",
    "            PakUOM.append(x.findtext('PakUOM'))\n",
    "            InventoryGroup.append(x.findtext('InventoryGroup'))\n",
    "    \n",
    "Preps = pd.DataFrame({'PrepId': PrepId, 'Description': Description,\n",
    "                  'PakQty': PakQty, 'PakUOM':PakUOM, 'InventoryGroup': InventoryGroup}).drop_duplicates()\n",
    "preps_columns = Preps.columns\n",
    "Preps.drop_duplicates(subset=[\"PrepId\"], inplace=True)\n",
    "\n",
    "Preps.reset_index(drop=True, inplace=True)"
   ]
  },
  {
   "cell_type": "code",
   "execution_count": 25,
   "metadata": {},
   "outputs": [
    {
     "data": {
      "text/html": [
       "<div>\n",
       "<style scoped>\n",
       "    .dataframe tbody tr th:only-of-type {\n",
       "        vertical-align: middle;\n",
       "    }\n",
       "\n",
       "    .dataframe tbody tr th {\n",
       "        vertical-align: top;\n",
       "    }\n",
       "\n",
       "    .dataframe thead th {\n",
       "        text-align: right;\n",
       "    }\n",
       "</style>\n",
       "<table border=\"1\" class=\"dataframe\">\n",
       "  <thead>\n",
       "    <tr style=\"text-align: right;\">\n",
       "      <th></th>\n",
       "      <th>PrepId</th>\n",
       "      <th>Description</th>\n",
       "      <th>PakQty</th>\n",
       "      <th>PakUOM</th>\n",
       "      <th>InventoryGroup</th>\n",
       "    </tr>\n",
       "  </thead>\n",
       "  <tbody>\n",
       "    <tr>\n",
       "      <th>0</th>\n",
       "      <td>P-67545</td>\n",
       "      <td>BAKED|4 Cheese Penne*</td>\n",
       "      <td>72.000</td>\n",
       "      <td>Kg</td>\n",
       "      <td></td>\n",
       "    </tr>\n",
       "    <tr>\n",
       "      <th>1</th>\n",
       "      <td>P-56502</td>\n",
       "      <td>BAKED|Pasta|Shrimp Pesto</td>\n",
       "      <td>67.500</td>\n",
       "      <td>Kg</td>\n",
       "      <td></td>\n",
       "    </tr>\n",
       "    <tr>\n",
       "      <th>2</th>\n",
       "      <td>P-26318</td>\n",
       "      <td>BAKED|Puff Pastry</td>\n",
       "      <td>10.000</td>\n",
       "      <td>ea</td>\n",
       "      <td>ZDONT USE OK - PREP</td>\n",
       "    </tr>\n",
       "    <tr>\n",
       "      <th>3</th>\n",
       "      <td>P-56372</td>\n",
       "      <td>BATCH| Carne Asada</td>\n",
       "      <td>1.000</td>\n",
       "      <td>Kg</td>\n",
       "      <td>PRODUCTION FOOD</td>\n",
       "    </tr>\n",
       "    <tr>\n",
       "      <th>4</th>\n",
       "      <td>P-56399</td>\n",
       "      <td>BATCH| Cilantro lime Rice</td>\n",
       "      <td>29.200</td>\n",
       "      <td>Kg</td>\n",
       "      <td></td>\n",
       "    </tr>\n",
       "    <tr>\n",
       "      <th>...</th>\n",
       "      <td>...</td>\n",
       "      <td>...</td>\n",
       "      <td>...</td>\n",
       "      <td>...</td>\n",
       "      <td>...</td>\n",
       "    </tr>\n",
       "    <tr>\n",
       "      <th>645</th>\n",
       "      <td>P-41047</td>\n",
       "      <td>YIELD|Yam</td>\n",
       "      <td>1.900</td>\n",
       "      <td>Kg</td>\n",
       "      <td></td>\n",
       "    </tr>\n",
       "    <tr>\n",
       "      <th>646</th>\n",
       "      <td>P-24452</td>\n",
       "      <td>YIELD|Yellow Onion*</td>\n",
       "      <td>0.900</td>\n",
       "      <td>lb</td>\n",
       "      <td></td>\n",
       "    </tr>\n",
       "    <tr>\n",
       "      <th>647</th>\n",
       "      <td>P-57145</td>\n",
       "      <td>YIELD|Yellow Pepper*</td>\n",
       "      <td>8.300</td>\n",
       "      <td>Kg</td>\n",
       "      <td></td>\n",
       "    </tr>\n",
       "    <tr>\n",
       "      <th>648</th>\n",
       "      <td>P-62405</td>\n",
       "      <td>YIELD|Zucchini</td>\n",
       "      <td>938.000</td>\n",
       "      <td>g</td>\n",
       "      <td></td>\n",
       "    </tr>\n",
       "    <tr>\n",
       "      <th>649</th>\n",
       "      <td>P-9756</td>\n",
       "      <td>YIELD|Zucchini</td>\n",
       "      <td>0.900</td>\n",
       "      <td>Kg</td>\n",
       "      <td></td>\n",
       "    </tr>\n",
       "  </tbody>\n",
       "</table>\n",
       "<p>650 rows × 5 columns</p>\n",
       "</div>"
      ],
      "text/plain": [
       "      PrepId                 Description   PakQty PakUOM       InventoryGroup\n",
       "0    P-67545       BAKED|4 Cheese Penne*   72.000     Kg                     \n",
       "1    P-56502    BAKED|Pasta|Shrimp Pesto   67.500     Kg                     \n",
       "2    P-26318           BAKED|Puff Pastry   10.000     ea  ZDONT USE OK - PREP\n",
       "3    P-56372         BATCH| Carne Asada     1.000     Kg      PRODUCTION FOOD\n",
       "4    P-56399  BATCH| Cilantro lime Rice    29.200     Kg                     \n",
       "..       ...                         ...      ...    ...                  ...\n",
       "645  P-41047                  YIELD|Yam     1.900     Kg                     \n",
       "646  P-24452         YIELD|Yellow Onion*    0.900     lb                     \n",
       "647  P-57145        YIELD|Yellow Pepper*    8.300     Kg                     \n",
       "648  P-62405              YIELD|Zucchini  938.000      g                     \n",
       "649   P-9756              YIELD|Zucchini    0.900     Kg                     \n",
       "\n",
       "[650 rows x 5 columns]"
      ]
     },
     "execution_count": 25,
     "metadata": {},
     "output_type": "execute_result"
    }
   ],
   "source": [
    "Preps"
   ]
  },
  {
   "cell_type": "code",
   "execution_count": 26,
   "metadata": {},
   "outputs": [
    {
     "name": "stdout",
     "output_type": "stream",
     "text": [
      "False\n"
     ]
    }
   ],
   "source": [
    "# This tells us that there are not any duplicates in the Preps dataframe. There is a different process|ingredient pair for \n",
    "# all the recipes. \n",
    "check = Preps[\"PrepId\"].duplicated().any()\n",
    "print(check)"
   ]
  },
  {
   "cell_type": "code",
   "execution_count": 27,
   "metadata": {},
   "outputs": [
    {
     "data": {
      "text/plain": [
       "(650, 5)"
      ]
     },
     "execution_count": 27,
     "metadata": {},
     "output_type": "execute_result"
    }
   ],
   "source": [
    "# There are 546 rows and 5 columns\n",
    "Preps.shape"
   ]
  },
  {
   "cell_type": "code",
   "execution_count": 28,
   "metadata": {},
   "outputs": [
    {
     "data": {
      "text/html": [
       "<div>\n",
       "<style scoped>\n",
       "    .dataframe tbody tr th:only-of-type {\n",
       "        vertical-align: middle;\n",
       "    }\n",
       "\n",
       "    .dataframe tbody tr th {\n",
       "        vertical-align: top;\n",
       "    }\n",
       "\n",
       "    .dataframe thead th {\n",
       "        text-align: right;\n",
       "    }\n",
       "</style>\n",
       "<table border=\"1\" class=\"dataframe\">\n",
       "  <thead>\n",
       "    <tr style=\"text-align: right;\">\n",
       "      <th></th>\n",
       "      <th>PrepId</th>\n",
       "      <th>Description</th>\n",
       "      <th>PakQty</th>\n",
       "      <th>PakUOM</th>\n",
       "      <th>InventoryGroup</th>\n",
       "    </tr>\n",
       "  </thead>\n",
       "  <tbody>\n",
       "    <tr>\n",
       "      <th>165</th>\n",
       "      <td>P-50739</td>\n",
       "      <td>COMPOTE|Apple Cinnamon</td>\n",
       "      <td>2.500</td>\n",
       "      <td>L</td>\n",
       "      <td>PREP</td>\n",
       "    </tr>\n",
       "  </tbody>\n",
       "</table>\n",
       "</div>"
      ],
      "text/plain": [
       "      PrepId             Description PakQty PakUOM InventoryGroup\n",
       "165  P-50739  COMPOTE|Apple Cinnamon  2.500      L           PREP"
      ]
     },
     "execution_count": 28,
     "metadata": {},
     "output_type": "execute_result"
    }
   ],
   "source": [
    "# Here we see there is only one place P-50739 is used in the Preps\n",
    "Preps.loc[Preps[\"PrepId\"] == \"P-50739\"]"
   ]
  },
  {
   "cell_type": "code",
   "execution_count": 29,
   "metadata": {},
   "outputs": [
    {
     "data": {
      "text/plain": [
       "PrepId            object\n",
       "Description       object\n",
       "PakQty            object\n",
       "PakUOM            object\n",
       "InventoryGroup    object\n",
       "dtype: object"
      ]
     },
     "execution_count": 29,
     "metadata": {},
     "output_type": "execute_result"
    }
   ],
   "source": [
    "Preps.dtypes"
   ]
  },
  {
   "cell_type": "code",
   "execution_count": 30,
   "metadata": {},
   "outputs": [],
   "source": [
    "# Save the dataframe to csv\n",
    "path = os.path.join(os.getcwd(), \"data\", \"preprocessed\", \"Preps_List.csv\")\n",
    "Preps.to_csv(path, index = False, header = True)"
   ]
  },
  {
   "cell_type": "markdown",
   "metadata": {},
   "source": [
    "### Import Products List"
   ]
  },
  {
   "cell_type": "code",
   "execution_count": 31,
   "metadata": {},
   "outputs": [],
   "source": [
    "# Read products.xml files in the filepath_list and construct a dataframe\n",
    "ProdId = []\n",
    "Description = []\n",
    "SalesGroup = []\n",
    "\n",
    "# From the XML file for products append the id into ProdId, description into Description, and SalesGroup into SalesGroup list.\n",
    "# Make a dataframe out of the 3 lists\n",
    "# Then also drop the duplicates in the Products dataframe\n",
    "\n",
    "for filepath in filepath_list:\n",
    "    path = filepath + '/Products.xml'\n",
    "    if os.path.isfile(path):\n",
    "        xtree = et.parse(path)\n",
    "        xroot = xtree.getroot()\n",
    "        for x in xtree.iterfind('Prod'):\n",
    "            ProdId.append(x.attrib['id'])\n",
    "            Description.append(x.findtext('Description'))\n",
    "            SalesGroup.append(x.findtext('SalesGroup'))\n",
    "        \n",
    "Products = pd.DataFrame({'ProdId': ProdId, 'Description': Description, 'SalesGroup': SalesGroup})\n",
    "Products.drop_duplicates(inplace=True)\n",
    "\n",
    "Products.reset_index(drop=True, inplace=True)"
   ]
  },
  {
   "cell_type": "code",
   "execution_count": 32,
   "metadata": {},
   "outputs": [
    {
     "data": {
      "text/html": [
       "<div>\n",
       "<style scoped>\n",
       "    .dataframe tbody tr th:only-of-type {\n",
       "        vertical-align: middle;\n",
       "    }\n",
       "\n",
       "    .dataframe tbody tr th {\n",
       "        vertical-align: top;\n",
       "    }\n",
       "\n",
       "    .dataframe thead th {\n",
       "        text-align: right;\n",
       "    }\n",
       "</style>\n",
       "<table border=\"1\" class=\"dataframe\">\n",
       "  <thead>\n",
       "    <tr style=\"text-align: right;\">\n",
       "      <th></th>\n",
       "      <th>ProdId</th>\n",
       "      <th>Description</th>\n",
       "      <th>SalesGroup</th>\n",
       "    </tr>\n",
       "  </thead>\n",
       "  <tbody>\n",
       "    <tr>\n",
       "      <th>0</th>\n",
       "      <td>R-62187</td>\n",
       "      <td>ADD|Fried Egg</td>\n",
       "      <td>FT STICKS AND SPOONS</td>\n",
       "    </tr>\n",
       "    <tr>\n",
       "      <th>1</th>\n",
       "      <td>R-44853</td>\n",
       "      <td>ADD|Poached Egg</td>\n",
       "      <td>FEAST</td>\n",
       "    </tr>\n",
       "    <tr>\n",
       "      <th>2</th>\n",
       "      <td>R-52741</td>\n",
       "      <td>BAKE|Croissant|Plain</td>\n",
       "      <td>FT BAKERY</td>\n",
       "    </tr>\n",
       "    <tr>\n",
       "      <th>3</th>\n",
       "      <td>R-64998</td>\n",
       "      <td>BNO| Nachos|Loaded</td>\n",
       "      <td>FT BUENO</td>\n",
       "    </tr>\n",
       "    <tr>\n",
       "      <th>4</th>\n",
       "      <td>R-71173</td>\n",
       "      <td>BNO|Achiote Chicken|PLATE</td>\n",
       "      <td>FEAST</td>\n",
       "    </tr>\n",
       "    <tr>\n",
       "      <th>...</th>\n",
       "      <td>...</td>\n",
       "      <td>...</td>\n",
       "      <td>...</td>\n",
       "    </tr>\n",
       "    <tr>\n",
       "      <th>297</th>\n",
       "      <td>R-73214</td>\n",
       "      <td>SOUP|Goodly|Creamy tomato</td>\n",
       "      <td>FEAST</td>\n",
       "    </tr>\n",
       "    <tr>\n",
       "      <th>298</th>\n",
       "      <td>R-73215</td>\n",
       "      <td>SOUP|Goodly|Hearty tomato</td>\n",
       "      <td>FEAST</td>\n",
       "    </tr>\n",
       "    <tr>\n",
       "      <th>299</th>\n",
       "      <td>R-73509</td>\n",
       "      <td>SOUP|House made|Cream Of Shroo</td>\n",
       "      <td>SIDES</td>\n",
       "    </tr>\n",
       "    <tr>\n",
       "      <th>300</th>\n",
       "      <td>R-56906</td>\n",
       "      <td>STEAMED|Bak Choy|SIDE</td>\n",
       "      <td>FT SIDES</td>\n",
       "    </tr>\n",
       "    <tr>\n",
       "      <th>301</th>\n",
       "      <td>R-62695</td>\n",
       "      <td>STUFFING|Wild Mushroom|SIDE</td>\n",
       "      <td>FT HOMESKILLET</td>\n",
       "    </tr>\n",
       "  </tbody>\n",
       "</table>\n",
       "<p>302 rows × 3 columns</p>\n",
       "</div>"
      ],
      "text/plain": [
       "      ProdId                     Description            SalesGroup\n",
       "0    R-62187                   ADD|Fried Egg  FT STICKS AND SPOONS\n",
       "1    R-44853                 ADD|Poached Egg                 FEAST\n",
       "2    R-52741            BAKE|Croissant|Plain             FT BAKERY\n",
       "3    R-64998              BNO| Nachos|Loaded              FT BUENO\n",
       "4    R-71173       BNO|Achiote Chicken|PLATE                 FEAST\n",
       "..       ...                             ...                   ...\n",
       "297  R-73214       SOUP|Goodly|Creamy tomato                 FEAST\n",
       "298  R-73215       SOUP|Goodly|Hearty tomato                 FEAST\n",
       "299  R-73509  SOUP|House made|Cream Of Shroo                 SIDES\n",
       "300  R-56906           STEAMED|Bak Choy|SIDE             FT SIDES \n",
       "301  R-62695     STUFFING|Wild Mushroom|SIDE        FT HOMESKILLET\n",
       "\n",
       "[302 rows x 3 columns]"
      ]
     },
     "execution_count": 32,
     "metadata": {},
     "output_type": "execute_result"
    }
   ],
   "source": [
    "Products"
   ]
  },
  {
   "cell_type": "code",
   "execution_count": 33,
   "metadata": {
    "scrolled": true
   },
   "outputs": [
    {
     "data": {
      "text/html": [
       "<div>\n",
       "<style scoped>\n",
       "    .dataframe tbody tr th:only-of-type {\n",
       "        vertical-align: middle;\n",
       "    }\n",
       "\n",
       "    .dataframe tbody tr th {\n",
       "        vertical-align: top;\n",
       "    }\n",
       "\n",
       "    .dataframe thead th {\n",
       "        text-align: right;\n",
       "    }\n",
       "</style>\n",
       "<table border=\"1\" class=\"dataframe\">\n",
       "  <thead>\n",
       "    <tr style=\"text-align: right;\">\n",
       "      <th></th>\n",
       "      <th>ProdId</th>\n",
       "      <th>Description</th>\n",
       "      <th>SalesGroup</th>\n",
       "    </tr>\n",
       "  </thead>\n",
       "  <tbody>\n",
       "  </tbody>\n",
       "</table>\n",
       "</div>"
      ],
      "text/plain": [
       "Empty DataFrame\n",
       "Columns: [ProdId, Description, SalesGroup]\n",
       "Index: []"
      ]
     },
     "execution_count": 33,
     "metadata": {},
     "output_type": "execute_result"
    }
   ],
   "source": [
    "# Here we can see that there is only one R-56966 in the products \n",
    "Products.loc[Products[\"ProdId\"] == \"R-56966\"]"
   ]
  },
  {
   "cell_type": "code",
   "execution_count": 34,
   "metadata": {},
   "outputs": [
    {
     "data": {
      "text/plain": [
       "ProdId         object\n",
       "Description    object\n",
       "SalesGroup     object\n",
       "dtype: object"
      ]
     },
     "execution_count": 34,
     "metadata": {},
     "output_type": "execute_result"
    }
   ],
   "source": [
    "Products.dtypes"
   ]
  },
  {
   "cell_type": "code",
   "execution_count": 35,
   "metadata": {},
   "outputs": [
    {
     "data": {
      "text/html": [
       "<div>\n",
       "<style scoped>\n",
       "    .dataframe tbody tr th:only-of-type {\n",
       "        vertical-align: middle;\n",
       "    }\n",
       "\n",
       "    .dataframe tbody tr th {\n",
       "        vertical-align: top;\n",
       "    }\n",
       "\n",
       "    .dataframe thead th {\n",
       "        text-align: right;\n",
       "    }\n",
       "</style>\n",
       "<table border=\"1\" class=\"dataframe\">\n",
       "  <thead>\n",
       "    <tr style=\"text-align: right;\">\n",
       "      <th></th>\n",
       "      <th>ProdId</th>\n",
       "      <th>Description</th>\n",
       "      <th>SalesGroup</th>\n",
       "    </tr>\n",
       "  </thead>\n",
       "  <tbody>\n",
       "  </tbody>\n",
       "</table>\n",
       "</div>"
      ],
      "text/plain": [
       "Empty DataFrame\n",
       "Columns: [ProdId, Description, SalesGroup]\n",
       "Index: []"
      ]
     },
     "execution_count": 35,
     "metadata": {},
     "output_type": "execute_result"
    }
   ],
   "source": [
    "# Here we can see that there is only one R-68698 in the products \n",
    "Products.loc[Products[\"ProdId\"] == \"R-68698\"]"
   ]
  },
  {
   "cell_type": "code",
   "execution_count": 36,
   "metadata": {},
   "outputs": [
    {
     "data": {
      "text/plain": [
       "(302, 3)"
      ]
     },
     "execution_count": 36,
     "metadata": {},
     "output_type": "execute_result"
    }
   ],
   "source": [
    "Products.shape"
   ]
  },
  {
   "cell_type": "code",
   "execution_count": 37,
   "metadata": {},
   "outputs": [
    {
     "data": {
      "text/plain": [
       "ProdId         object\n",
       "Description    object\n",
       "SalesGroup     object\n",
       "dtype: object"
      ]
     },
     "execution_count": 37,
     "metadata": {},
     "output_type": "execute_result"
    }
   ],
   "source": [
    "Products.dtypes"
   ]
  },
  {
   "cell_type": "code",
   "execution_count": 38,
   "metadata": {},
   "outputs": [],
   "source": [
    "# Save the dataframe to csv\n",
    "path = os.path.join(os.getcwd(), \"data\", \"preprocessed\", \"Products_List.csv\")\n",
    "Products.to_csv(path, index = False, header = True)"
   ]
  },
  {
   "cell_type": "markdown",
   "metadata": {},
   "source": [
    "### Import Conversions List"
   ]
  },
  {
   "cell_type": "code",
   "execution_count": 39,
   "metadata": {
    "scrolled": true
   },
   "outputs": [],
   "source": [
    "# Read conventions.xml files in the filepath_list and construct a dataframe\n",
    "ConversionId = []\n",
    "Multiplier = []\n",
    "ConvertFromQty = []\n",
    "ConvertFromUom = []\n",
    "ConvertToQty = []\n",
    "ConvertToUom = []\n",
    "\n",
    "# From the XML file for Conversions append the id into ConversionId, multiplier into Multiplier, ConvertFrom->qty into \n",
    "# ConvertFromQty,ConvertFrom->uom into ConvertFromUom, ConvertTo->qty into ConvertToQty and and ConvertTo->uom into the\n",
    "# CovertToUom list. \n",
    "# Make a dataframe out of the 3 lists\n",
    "# Then also drop the duplicates in the Products dataframe\n",
    "\n",
    "\n",
    "for filepath in filepath_list:\n",
    "    path = filepath + '/Conversions.xml'\n",
    "    if os.path.isfile(path):\n",
    "        xtree = et.parse(path)\n",
    "        xroot = xtree.getroot()\n",
    "        for x in xtree.iterfind('Conversion'):\n",
    "            ConversionId.append(x.attrib['id'])\n",
    "            Multiplier.append(x.attrib['multiplier'])\n",
    "            ConvertFromQty.append(x.find('ConvertFrom').attrib['qty'])\n",
    "            ConvertFromUom.append(x.find('ConvertFrom').attrib['uom'])\n",
    "            ConvertToQty.append(x.find('ConvertTo').attrib['qty'])\n",
    "            ConvertToUom.append(x.find('ConvertTo').attrib['uom'])\n",
    "    \n",
    "    \n",
    "Conversions = pd.DataFrame({'ConversionId': ConversionId, 'Multiplier': Multiplier, 'ConvertFromQty': ConvertFromQty,\n",
    "                           'ConvertFromUom': ConvertFromUom, 'ConvertToQty': ConvertToQty, 'ConvertToUom': ConvertToUom}\n",
    "                          ).drop_duplicates()\n",
    "\n",
    "Conversions.reset_index(drop=True, inplace=True)"
   ]
  },
  {
   "cell_type": "code",
   "execution_count": 40,
   "metadata": {},
   "outputs": [
    {
     "data": {
      "text/html": [
       "<div>\n",
       "<style scoped>\n",
       "    .dataframe tbody tr th:only-of-type {\n",
       "        vertical-align: middle;\n",
       "    }\n",
       "\n",
       "    .dataframe tbody tr th {\n",
       "        vertical-align: top;\n",
       "    }\n",
       "\n",
       "    .dataframe thead th {\n",
       "        text-align: right;\n",
       "    }\n",
       "</style>\n",
       "<table border=\"1\" class=\"dataframe\">\n",
       "  <thead>\n",
       "    <tr style=\"text-align: right;\">\n",
       "      <th></th>\n",
       "      <th>ConversionId</th>\n",
       "      <th>Multiplier</th>\n",
       "      <th>ConvertFromQty</th>\n",
       "      <th>ConvertFromUom</th>\n",
       "      <th>ConvertToQty</th>\n",
       "      <th>ConvertToUom</th>\n",
       "    </tr>\n",
       "  </thead>\n",
       "  <tbody>\n",
       "    <tr>\n",
       "      <th>0</th>\n",
       "      <td></td>\n",
       "      <td>1.00000000</td>\n",
       "      <td>1.0000</td>\n",
       "      <td>XXX</td>\n",
       "      <td>1.0000</td>\n",
       "      <td>L</td>\n",
       "    </tr>\n",
       "    <tr>\n",
       "      <th>1</th>\n",
       "      <td></td>\n",
       "      <td>0.87719298</td>\n",
       "      <td>1.0000</td>\n",
       "      <td>1.14L</td>\n",
       "      <td>1.1400</td>\n",
       "      <td>L</td>\n",
       "    </tr>\n",
       "    <tr>\n",
       "      <th>2</th>\n",
       "      <td></td>\n",
       "      <td>0.66666667</td>\n",
       "      <td>1.0000</td>\n",
       "      <td>1.5L</td>\n",
       "      <td>1.5000</td>\n",
       "      <td>L</td>\n",
       "    </tr>\n",
       "    <tr>\n",
       "      <th>3</th>\n",
       "      <td></td>\n",
       "      <td>0.57142857</td>\n",
       "      <td>1.0000</td>\n",
       "      <td>1.75 L</td>\n",
       "      <td>1.7500</td>\n",
       "      <td>L</td>\n",
       "    </tr>\n",
       "    <tr>\n",
       "      <th>4</th>\n",
       "      <td></td>\n",
       "      <td>0.50000000</td>\n",
       "      <td>1.0000</td>\n",
       "      <td>2L</td>\n",
       "      <td>2.0000</td>\n",
       "      <td>L</td>\n",
       "    </tr>\n",
       "    <tr>\n",
       "      <th>...</th>\n",
       "      <td>...</td>\n",
       "      <td>...</td>\n",
       "      <td>...</td>\n",
       "      <td>...</td>\n",
       "      <td>...</td>\n",
       "      <td>...</td>\n",
       "    </tr>\n",
       "    <tr>\n",
       "      <th>274</th>\n",
       "      <td>I-56382</td>\n",
       "      <td>0.00100000</td>\n",
       "      <td>1.0000</td>\n",
       "      <td>L</td>\n",
       "      <td>1000.0000</td>\n",
       "      <td>g</td>\n",
       "    </tr>\n",
       "    <tr>\n",
       "      <th>275</th>\n",
       "      <td>I-60809</td>\n",
       "      <td>0.00406504</td>\n",
       "      <td>1.0000</td>\n",
       "      <td>cup</td>\n",
       "      <td>246.0000</td>\n",
       "      <td>g</td>\n",
       "    </tr>\n",
       "    <tr>\n",
       "      <th>276</th>\n",
       "      <td>I-60809</td>\n",
       "      <td>0.00101626</td>\n",
       "      <td>1.0000</td>\n",
       "      <td>qt</td>\n",
       "      <td>984.0000</td>\n",
       "      <td>g</td>\n",
       "    </tr>\n",
       "    <tr>\n",
       "      <th>277</th>\n",
       "      <td>I-65787</td>\n",
       "      <td>0.02000000</td>\n",
       "      <td>1.0000</td>\n",
       "      <td>ea</td>\n",
       "      <td>50.0000</td>\n",
       "      <td>g</td>\n",
       "    </tr>\n",
       "    <tr>\n",
       "      <th>278</th>\n",
       "      <td>I-65787</td>\n",
       "      <td>0.03529412</td>\n",
       "      <td>3.0000</td>\n",
       "      <td>oz</td>\n",
       "      <td>85.0000</td>\n",
       "      <td>g</td>\n",
       "    </tr>\n",
       "  </tbody>\n",
       "</table>\n",
       "<p>279 rows × 6 columns</p>\n",
       "</div>"
      ],
      "text/plain": [
       "    ConversionId  Multiplier ConvertFromQty ConvertFromUom ConvertToQty  \\\n",
       "0                 1.00000000         1.0000            XXX       1.0000   \n",
       "1                 0.87719298         1.0000          1.14L       1.1400   \n",
       "2                 0.66666667         1.0000           1.5L       1.5000   \n",
       "3                 0.57142857         1.0000         1.75 L       1.7500   \n",
       "4                 0.50000000         1.0000             2L       2.0000   \n",
       "..           ...         ...            ...            ...          ...   \n",
       "274      I-56382  0.00100000         1.0000              L    1000.0000   \n",
       "275      I-60809  0.00406504         1.0000            cup     246.0000   \n",
       "276      I-60809  0.00101626         1.0000             qt     984.0000   \n",
       "277      I-65787  0.02000000         1.0000             ea      50.0000   \n",
       "278      I-65787  0.03529412         3.0000             oz      85.0000   \n",
       "\n",
       "    ConvertToUom  \n",
       "0              L  \n",
       "1              L  \n",
       "2              L  \n",
       "3              L  \n",
       "4              L  \n",
       "..           ...  \n",
       "274            g  \n",
       "275            g  \n",
       "276            g  \n",
       "277            g  \n",
       "278            g  \n",
       "\n",
       "[279 rows x 6 columns]"
      ]
     },
     "execution_count": 40,
     "metadata": {},
     "output_type": "execute_result"
    }
   ],
   "source": [
    "# Here we can see for example that to convert 1.14 L to 1 L the multiplier is 0.877 since 1/1.14 = 0.877\n",
    "Conversions"
   ]
  },
  {
   "cell_type": "code",
   "execution_count": 41,
   "metadata": {},
   "outputs": [
    {
     "data": {
      "text/html": [
       "<div>\n",
       "<style scoped>\n",
       "    .dataframe tbody tr th:only-of-type {\n",
       "        vertical-align: middle;\n",
       "    }\n",
       "\n",
       "    .dataframe tbody tr th {\n",
       "        vertical-align: top;\n",
       "    }\n",
       "\n",
       "    .dataframe thead th {\n",
       "        text-align: right;\n",
       "    }\n",
       "</style>\n",
       "<table border=\"1\" class=\"dataframe\">\n",
       "  <thead>\n",
       "    <tr style=\"text-align: right;\">\n",
       "      <th></th>\n",
       "      <th>ConversionId</th>\n",
       "      <th>Multiplier</th>\n",
       "      <th>ConvertFromQty</th>\n",
       "      <th>ConvertFromUom</th>\n",
       "      <th>ConvertToQty</th>\n",
       "      <th>ConvertToUom</th>\n",
       "    </tr>\n",
       "  </thead>\n",
       "  <tbody>\n",
       "  </tbody>\n",
       "</table>\n",
       "</div>"
      ],
      "text/plain": [
       "Empty DataFrame\n",
       "Columns: [ConversionId, Multiplier, ConvertFromQty, ConvertFromUom, ConvertToQty, ConvertToUom]\n",
       "Index: []"
      ]
     },
     "execution_count": 41,
     "metadata": {},
     "output_type": "execute_result"
    }
   ],
   "source": [
    "# Here we can check that there are no ingredients listed since \n",
    "Conversions.loc[Conversions[\"ConversionId\"] == \"I-4582\"]"
   ]
  },
  {
   "cell_type": "code",
   "execution_count": 42,
   "metadata": {},
   "outputs": [
    {
     "name": "stdout",
     "output_type": "stream",
     "text": [
      "All unique IDs list\n",
      "\n",
      "['I-7631' 'I-3617' 'I-44059' 'I-40957' 'I-43652' 'I-2852' 'I-11181'\n",
      " 'I-30092' 'I-29389' 'I-6775' 'I-4970' 'I-4271' 'I-4971' 'I-2854' 'I-4473'\n",
      " 'I-4472' 'I-4973' 'I-65741' 'I-63697' 'I-1207' 'I-4495' 'I-4497' 'I-3118'\n",
      " 'I-3119' 'I-17203' 'I-6872' 'I-4507' 'I-3130' 'I-3133' 'I-3141' 'I-38906'\n",
      " 'I-53706' 'I-3619' 'I-72463' 'I-2567' 'I-23336' 'I-3143' 'I-11556'\n",
      " 'I-72464' 'I-4515' 'I-4516' 'I-3144' 'I-7935' 'I-3145' 'I-3146' 'I-3149'\n",
      " 'I-3148' 'I-34065' 'I-73836' 'I-7769' 'I-11661' 'I-72216' 'I-73834'\n",
      " 'I-73835' 'I-4521' 'I-32246' 'I-47657' 'I-56745' 'I-72009' 'I-4535'\n",
      " 'I-4531' 'I-43648' 'I-4538' 'I-73415' 'I-4546' 'I-63874' 'I-67659'\n",
      " 'I-72414' 'I-73349' 'I-8060' 'I-4550' 'I-4555' 'I-4557' 'I-4556' 'I-3159'\n",
      " 'I-11214' 'I-11213' 'I-3620' 'I-4589' 'I-4572' 'I-4590' 'I-11048'\n",
      " 'I-73347' 'I-4593' 'I-56920' 'I-3621' 'I-4598' 'I-4605' 'I-7953'\n",
      " 'I-23949' 'I-2055' 'I-71998' 'I-14181' 'I-2245' 'I-2119' 'I-51962'\n",
      " 'I-2122' 'I-15033' 'I-17616' 'I-66118' 'I-14179' 'I-11240' 'I-2140'\n",
      " 'I-2141' 'I-17617' 'I-2146' 'I-17618' 'I-3961' 'I-3999' 'I-65787'\n",
      " 'I-4007' 'I-4008' 'I-4010' 'I-4016' 'I-19665' 'I-37478' 'I-37477'\n",
      " 'I-51441' 'I-41492' 'I-41491' 'I-5975' 'I-3622' 'I-3623' 'I-3624'\n",
      " 'I-72758' 'I-3120' 'I-3222' 'I-40940' 'I-65714' 'I-65852' 'I-2979'\n",
      " 'I-3625' 'I-5977' 'I-44472' 'I-11215' 'I-3628' 'I-2980' 'I-40951'\n",
      " 'I-3225' 'I-3223' 'I-3226' 'I-12823' 'I-37965' 'I-3629' 'I-50750'\n",
      " 'I-3229' 'I-18791' 'I-71999' 'I-3231' 'I-57554' 'I-71858' 'I-4979'\n",
      " 'I-2217' 'I-65801' 'I-65802' 'I-2205' 'I-29690' 'I-3241' 'I-4626'\n",
      " 'I-4628' 'I-4347' 'I-3630' 'I-73579' 'I-17051' 'I-42360' 'I-3631'\n",
      " 'I-9832' 'I-11902' 'I-4637' 'I-32268' 'I-46598' 'I-68700' 'I-2159'\n",
      " 'I-2157' 'I-2156' 'I-68699' 'I-2167' 'I-4642' 'I-4640' 'I-1197' 'I-19561'\n",
      " 'I-3284' 'I-11233' 'I-19631' 'I-6428' 'I-41037' 'I-3290' 'I-11189'\n",
      " 'I-9641' 'I-70737' 'I-73578' 'I-2603' 'I-73346' 'I-2611' 'I-4653'\n",
      " 'I-11207' 'I-4657' 'I-3632' 'I-51440' 'I-4658' 'I-3633' 'I-4660' 'I-3079'\n",
      " 'I-72755' 'I-4665' 'I-3303' 'I-69064' 'I-28899' 'I-2306' 'I-2308'\n",
      " 'I-71921' 'I-17666' 'I-4508' 'I-4620' 'I-4341' 'I-4695' 'I-4708' 'I-4724'\n",
      " 'I-4772' 'I-4847' 'I-4983' 'I-4848' 'I-4917' 'I-4919' 'I-3321' 'I-49128'\n",
      " 'I-10503' 'I-45297' 'I-47441' 'I-4696' 'I-1813' 'I-1759' 'I-6443'\n",
      " 'I-1820' 'I-63091' 'I-1821' 'I-1814' 'I-13254' 'I-4698' 'I-52598'\n",
      " 'I-10282' 'I-11216' 'I-17932' 'I-3337' 'I-72303' 'I-43653' 'I-11312'\n",
      " 'I-4703' 'I-6876' 'I-4709' 'I-2893' 'I-3340' 'I-3341' 'I-4463' 'I-4690'\n",
      " 'I-4693' 'I-4844' 'I-4915' 'I-4712' 'I-1271' 'I-11664' 'I-15032'\n",
      " 'I-71503' 'I-5003' 'I-3345' 'I-3636' 'I-60772' 'I-3348' 'I-3351' 'I-3352'\n",
      " 'I-71922' 'I-60809' 'I-8058' 'I-2208' 'I-69627' 'I-3360' 'I-3363'\n",
      " 'I-5009' 'I-9342' 'I-3358' 'I-6780' 'I-8395' 'I-8340' 'I-4725' 'I-4729'\n",
      " 'I-4731' 'I-4732' 'I-4735' 'I-4736' 'I-4737' 'I-3365' 'I-3367' 'I-2897'\n",
      " 'I-3368' 'I-3369' 'I-3370' 'I-71960' 'I-14278' 'I-7912' 'I-73417'\n",
      " 'I-19295' 'I-72202' 'I-3083' 'I-3089' 'I-3372' 'I-7911' 'I-30178'\n",
      " 'I-22224' 'I-3702' 'I-72053' 'I-10866' 'I-8077' 'I-3381' 'I-3638'\n",
      " 'I-52622' 'I-3182' 'I-43864' 'I-56382' 'I-3386' 'I-3387' 'I-3388'\n",
      " 'I-6006' 'I-3390' 'I-71926' 'I-11241' 'I-3395' 'I-7062' 'I-71931'\n",
      " 'I-6829' 'I-4745' 'I-3639' 'I-4743' 'I-4375' 'I-10149' 'I-4679' 'I-6779'\n",
      " 'I-17150' 'I-5010' 'I-4757' 'I-4750' 'I-5011' 'I-4761' 'I-4764' 'I-4765'\n",
      " 'I-4766' 'I-3314' 'I-2911' 'I-30911' 'I-3243' 'I-71934' 'I-3640' 'I-3641'\n",
      " 'I-5978' 'I-4776' 'I-4775' 'I-71859' 'I-5970' 'I-3408' 'I-3416' 'I-30144'\n",
      " 'I-2648' 'I-3424' 'I-3425' 'I-7766' 'I-37475' 'I-2850' 'I-48542' 'I-3429'\n",
      " 'I-11814' 'I-16215' 'I-9687' 'I-3431' 'I-72515' 'I-3433' 'I-3434'\n",
      " 'I-11813' 'I-3435' 'I-43559' 'I-2654' 'I-5012' 'I-11656' 'I-2656'\n",
      " 'I-35685' 'I-4895' 'I-3643' 'I-2051' 'I-6812' 'I-3642' 'I-3644' 'I-3447'\n",
      " 'I-3449' 'I-3581' 'I-3450' 'I-7787' 'I-3647' 'I-3646' 'I-42230' 'I-3649'\n",
      " 'I-40458' 'I-22444' 'I-72760' 'I-4785' 'I-4786' 'I-35792' 'I-4787'\n",
      " 'I-4788' 'I-30068' 'I-4410' 'I-4792' 'I-4795' 'I-4796' 'I-4797' 'I-2659'\n",
      " 'I-3454' 'I-62556' 'I-1126' 'I-4799' 'I-4800' 'I-30101' 'I-3458' 'I-1033'\n",
      " 'I-1035' 'I-1131' 'I-35897' 'I-49022' 'I-28904' 'I-73838' 'I-73840'\n",
      " 'I-9284' 'I-3854' 'I-3857' 'I-16217' 'I-2681' 'I-72219' 'I-72220'\n",
      " 'I-4819' 'I-8374' 'I-57557' 'I-3588' 'I-3468' 'I-6882' 'I-3016' 'I-15329'\n",
      " 'I-11186' 'I-11185' 'I-3471' 'I-4830' 'I-42143' 'I-11432' 'I-3476'\n",
      " 'I-3477' 'I-3478' 'I-4429' 'I-3651' 'I-72199' 'I-5048' 'I-11101' 'I-5005'\n",
      " 'I-13226' 'I-2314' 'I-71745' 'I-4852' 'I-6466' 'I-3497' 'I-6026'\n",
      " 'I-12176' 'I-13302' 'I-2769' 'I-2771' 'I-71851' 'I-9379' 'I-45114'\n",
      " 'I-10864' 'I-3520' 'I-37469' 'I-73610' 'I-7705' 'I-3530' 'I-2698'\n",
      " 'I-2699' 'I-3531' 'I-16496' 'I-3545' 'I-3553' 'I-47774' 'I-63875'\n",
      " 'I-3563' 'I-22026' 'I-60805' 'I-3575' 'I-19657' 'I-27407' 'I-17667'\n",
      " 'I-13303' 'I-3910' 'I-3577' 'I-16168' 'I-3583' 'I-73411' 'I-37476'\n",
      " 'I-40942' 'I-11211' 'I-3312' 'I-40944' 'I-3591' 'I-3590' 'I-19143'\n",
      " 'I-3589' 'I-4894' 'I-17610' 'I-3595' 'I-2319' 'I-72201' 'I-62665'\n",
      " 'I-72196' 'I-72412' 'I-2755' 'I-2254' 'I-5021' 'I-2786' 'I-19610'\n",
      " 'I-4488' 'I-5022' 'I-4896' 'I-56665' 'I-4450' 'I-4509' 'I-4900' 'I-4437'\n",
      " 'I-4549' 'I-4898' 'I-19978' 'I-12325' 'I-68827' 'I-6820' 'I-40936'\n",
      " 'I-73413' 'I-28907' 'I-28920' 'I-4907' 'I-38431' 'I-6028' 'I-3658'\n",
      " 'I-3660' 'I-35336' 'I-6810' 'I-4914' 'I-49967' 'I-3670' 'I-3671' 'I-7388'\n",
      " 'I-3110' 'I-40935' 'I-44341' 'I-4920' 'I-3676' 'I-3678' 'I-3677' 'I-3679'\n",
      " 'I-2948' 'I-18803' 'I-6434' 'I-17159' 'I-35791' 'I-4933' 'I-15358'\n",
      " 'I-1142' 'I-9341' 'I-1152' 'I-1151' 'I-3688' 'I-7791' 'I-9295' 'I-3968'\n",
      " 'I-3654' 'I-40436' 'I-9382' 'I-3692' 'I-3693' 'I-3694' 'I-3695' 'I-3696'\n",
      " 'I-3697' 'I-3698' 'I-29054' 'I-5983' 'I-73324' 'I-7949' 'I-7061' 'I-7060'\n",
      " 'I-10611' 'I-11180' 'I-11669' 'I-56726' 'I-6850' 'I-2171' 'I-2172'\n",
      " 'I-68112' 'I-68111' 'I-4962' 'I-4967' 'I-4958']\n",
      "\n",
      "\n",
      "All unique Conversions list\n",
      "\n",
      "['' 'I-1131' 'I-1197' 'I-1759' 'I-1813' 'I-1814' 'I-1820' 'I-1821'\n",
      " 'I-2159' 'I-2205' 'I-2208' 'I-2217' 'I-2254' 'I-2306' 'I-2654' 'I-3141'\n",
      " 'I-3143' 'I-3144' 'I-3145' 'I-3146' 'I-3149' 'I-3159' 'I-3223' 'I-3225'\n",
      " 'I-3229' 'I-3284' 'I-3321' 'I-3348' 'I-3365' 'I-3367' 'I-3370' 'I-3386'\n",
      " 'I-3387' 'I-3388' 'I-3390' 'I-3435' 'I-3449' 'I-3458' 'I-3468' 'I-3497'\n",
      " 'I-3545' 'I-3563' 'I-3575' 'I-3577' 'I-3589' 'I-3590' 'I-3591' 'I-3617'\n",
      " 'I-3619' 'I-3620' 'I-3621' 'I-3622' 'I-3623' 'I-3624' 'I-3625' 'I-3628'\n",
      " 'I-3629' 'I-3630' 'I-3631' 'I-3632' 'I-3633' 'I-3636' 'I-3638' 'I-3639'\n",
      " 'I-3640' 'I-3641' 'I-3642' 'I-3643' 'I-3644' 'I-3646' 'I-3647' 'I-3649'\n",
      " 'I-3651' 'I-3654' 'I-3658' 'I-3660' 'I-3670' 'I-3671' 'I-3676' 'I-3678'\n",
      " 'I-3679' 'I-3692' 'I-3695' 'I-3698' 'I-3854' 'I-4271' 'I-4341' 'I-4347'\n",
      " 'I-4375' 'I-4450' 'I-4472' 'I-4473' 'I-4507' 'I-4557' 'I-4593' 'I-4598'\n",
      " 'I-4620' 'I-4626' 'I-4628' 'I-4640' 'I-4679' 'I-4690' 'I-4693' 'I-4698'\n",
      " 'I-4709' 'I-4712' 'I-4736' 'I-4745' 'I-4761' 'I-4764' 'I-4765' 'I-4766'\n",
      " 'I-4772' 'I-4844' 'I-4894' 'I-4915' 'I-5977' 'I-5983' 'I-6006' 'I-6443'\n",
      " 'I-6775' 'I-6812' 'I-7060' 'I-7061' 'I-8058' 'I-8060' 'I-9295' 'I-10149'\n",
      " 'I-11656' 'I-11664' 'I-13302' 'I-13303' 'I-14181' 'I-16217' 'I-17203'\n",
      " 'I-17616' 'I-17618' 'I-18803' 'I-22026' 'I-23336' 'I-27407' 'I-40935'\n",
      " 'I-43559' 'I-45114' 'I-49967' 'I-56382' 'I-60809' 'I-65787']\n"
     ]
    }
   ],
   "source": [
    "all_id_list = Items[\"ItemId\"].unique()\n",
    "all_conv_list = Conversions[\"ConversionId\"].unique()\n",
    "\n",
    "print(\"All unique IDs list\\n\")\n",
    "print(all_id_list)\n",
    "print(\"\\n\")\n",
    "print(\"All unique Conversions list\\n\")\n",
    "print(all_conv_list)"
   ]
  },
  {
   "cell_type": "code",
   "execution_count": 43,
   "metadata": {},
   "outputs": [
    {
     "name": "stdout",
     "output_type": "stream",
     "text": [
      "455\n"
     ]
    }
   ],
   "source": [
    "# Here we have the number of items in the list that are a part of the \"all_id_list\" but not part of the \"all_conv_list\"\n",
    "missing_conv_id = []\n",
    "\n",
    "for item in all_id_list:\n",
    "    if item not in all_conv_list:\n",
    "        missing_conv_id.append(item)\n",
    "        \n",
    "missing_conv_id\n",
    "print(len(missing_conv_id))"
   ]
  },
  {
   "cell_type": "code",
   "execution_count": 44,
   "metadata": {},
   "outputs": [
    {
     "data": {
      "text/plain": [
       "(279, 6)"
      ]
     },
     "execution_count": 44,
     "metadata": {},
     "output_type": "execute_result"
    }
   ],
   "source": [
    "Conversions.shape"
   ]
  },
  {
   "cell_type": "code",
   "execution_count": 45,
   "metadata": {},
   "outputs": [
    {
     "data": {
      "text/html": [
       "<div>\n",
       "<style scoped>\n",
       "    .dataframe tbody tr th:only-of-type {\n",
       "        vertical-align: middle;\n",
       "    }\n",
       "\n",
       "    .dataframe tbody tr th {\n",
       "        vertical-align: top;\n",
       "    }\n",
       "\n",
       "    .dataframe thead th {\n",
       "        text-align: right;\n",
       "    }\n",
       "</style>\n",
       "<table border=\"1\" class=\"dataframe\">\n",
       "  <thead>\n",
       "    <tr style=\"text-align: right;\">\n",
       "      <th></th>\n",
       "      <th>ConversionId</th>\n",
       "      <th>Multiplier</th>\n",
       "      <th>ConvertFromQty</th>\n",
       "      <th>ConvertFromUom</th>\n",
       "      <th>ConvertToQty</th>\n",
       "      <th>ConvertToUom</th>\n",
       "    </tr>\n",
       "  </thead>\n",
       "  <tbody>\n",
       "  </tbody>\n",
       "</table>\n",
       "</div>"
      ],
      "text/plain": [
       "Empty DataFrame\n",
       "Columns: [ConversionId, Multiplier, ConvertFromQty, ConvertFromUom, ConvertToQty, ConvertToUom]\n",
       "Index: []"
      ]
     },
     "execution_count": 45,
     "metadata": {},
     "output_type": "execute_result"
    }
   ],
   "source": [
    "Conversions.loc[Conversions[\"ConversionId\"] == \"I-29389\"]"
   ]
  },
  {
   "cell_type": "code",
   "execution_count": 46,
   "metadata": {
    "scrolled": false
   },
   "outputs": [
    {
     "data": {
      "text/plain": [
       "ConversionId      object\n",
       "Multiplier        object\n",
       "ConvertFromQty    object\n",
       "ConvertFromUom    object\n",
       "ConvertToQty      object\n",
       "ConvertToUom      object\n",
       "dtype: object"
      ]
     },
     "execution_count": 46,
     "metadata": {},
     "output_type": "execute_result"
    }
   ],
   "source": [
    "Conversions.dtypes"
   ]
  },
  {
   "cell_type": "code",
   "execution_count": 47,
   "metadata": {},
   "outputs": [],
   "source": [
    "# Save the dataframe to csv\n",
    "path = os.path.join(os.getcwd(), \"data\", \"preprocessed\", \"Conversions_List.csv\")\n",
    "Conversions.to_csv(path, index = False, header = True)"
   ]
  },
  {
   "cell_type": "markdown",
   "metadata": {},
   "source": [
    "***\n",
    "## Data Summary"
   ]
  },
  {
   "cell_type": "code",
   "execution_count": 48,
   "metadata": {},
   "outputs": [
    {
     "data": {
      "text/html": [
       "<div>\n",
       "<style scoped>\n",
       "    .dataframe tbody tr th:only-of-type {\n",
       "        vertical-align: middle;\n",
       "    }\n",
       "\n",
       "    .dataframe tbody tr th {\n",
       "        vertical-align: top;\n",
       "    }\n",
       "\n",
       "    .dataframe thead th {\n",
       "        text-align: right;\n",
       "    }\n",
       "</style>\n",
       "<table border=\"1\" class=\"dataframe\">\n",
       "  <thead>\n",
       "    <tr style=\"text-align: right;\">\n",
       "      <th></th>\n",
       "      <th>count</th>\n",
       "      <th>columns</th>\n",
       "    </tr>\n",
       "  </thead>\n",
       "  <tbody>\n",
       "    <tr>\n",
       "      <th>Items</th>\n",
       "      <td>602</td>\n",
       "      <td>7</td>\n",
       "    </tr>\n",
       "    <tr>\n",
       "      <th>Preps</th>\n",
       "      <td>650</td>\n",
       "      <td>5</td>\n",
       "    </tr>\n",
       "    <tr>\n",
       "      <th>Ingredients</th>\n",
       "      <td>4497</td>\n",
       "      <td>6</td>\n",
       "    </tr>\n",
       "    <tr>\n",
       "      <th>Products</th>\n",
       "      <td>302</td>\n",
       "      <td>3</td>\n",
       "    </tr>\n",
       "    <tr>\n",
       "      <th>Conversions</th>\n",
       "      <td>279</td>\n",
       "      <td>6</td>\n",
       "    </tr>\n",
       "  </tbody>\n",
       "</table>\n",
       "</div>"
      ],
      "text/plain": [
       "             count  columns\n",
       "Items          602        7\n",
       "Preps          650        5\n",
       "Ingredients   4497        6\n",
       "Products       302        3\n",
       "Conversions    279        6"
      ]
     },
     "execution_count": 48,
     "metadata": {},
     "output_type": "execute_result"
    }
   ],
   "source": [
    "# Summary of raw data imported for evaluation\n",
    "# Here we have a summary of the number of items, preps, ingredients, products, conversions\n",
    "\n",
    "datasum = pd.DataFrame([Items.shape, Preps.shape, Ingredients.shape, Products.shape, Conversions.shape],\n",
    "                       columns = ['count', 'columns'], \n",
    "                       index = ['Items', 'Preps', 'Ingredients', 'Products', 'Conversions'])\n",
    "datasum"
   ]
  }
 ],
 "metadata": {
  "kernelspec": {
   "display_name": "Python 3 (ipykernel)",
   "language": "python",
   "name": "python3"
  },
  "language_info": {
   "codemirror_mode": {
    "name": "ipython",
    "version": 3
   },
   "file_extension": ".py",
   "mimetype": "text/x-python",
   "name": "python",
   "nbconvert_exporter": "python",
   "pygments_lexer": "ipython3",
   "version": "3.12.6"
  }
 },
 "nbformat": 4,
 "nbformat_minor": 4
}
