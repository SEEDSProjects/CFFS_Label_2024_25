{
 "cells": [
  {
   "cell_type": "markdown",
   "metadata": {},
   "source": [
    "![](ubc_header.png)"
   ]
  },
  {
   "cell_type": "markdown",
   "metadata": {},
   "source": [
    "# Climate-Friendly Food Systems (CFFS) Labelling Project\n",
    "\n",
    "### The University of British Columbia\n",
    "\n",
    "****\n",
    "\n",
    "## Part I: Data Preprocessing"
   ]
  },
  {
   "cell_type": "markdown",
   "metadata": {},
   "source": [
    "## Set up and Import Libraries"
   ]
  },
  {
   "cell_type": "code",
   "execution_count": 1,
   "metadata": {},
   "outputs": [],
   "source": [
    "#pip install -r requirements.txt"
   ]
  },
  {
   "cell_type": "code",
   "execution_count": 2,
   "metadata": {},
   "outputs": [],
   "source": [
    "import numpy as np\n",
    "import pandas as pd\n",
    "import matplotlib.pyplot as plt\n",
    "import glob\n",
    "import os\n",
    "import csv\n",
    "from itertools import islice\n",
    "from decimal import Decimal\n",
    "import xml.etree.ElementTree as et\n",
    "from xml.etree.ElementTree import parse\n",
    "import openpyxl\n",
    "import pytest"
   ]
  },
  {
   "cell_type": "code",
   "execution_count": 3,
   "metadata": {},
   "outputs": [
    {
     "name": "stdout",
     "output_type": "stream",
     "text": [
      "/Users/vivaanwadhwa/Documents/GitHub/CFFS_sharon_2024\n"
     ]
    }
   ],
   "source": [
    "# RUN ONLY ONCE\n",
    "# os.chdir is used to change the current directory to the specified path\n",
    "os.chdir(\"../\") # Sets path to the repo folder as it is one level above where this file exists!\n",
    "path = os.getcwd()\n",
    "print(path)"
   ]
  },
  {
   "cell_type": "markdown",
   "metadata": {},
   "source": [
    "****\n",
    "\n",
    "## Load Data Files\n",
    "\n",
    "### Set Data File Path"
   ]
  },
  {
   "cell_type": "code",
   "execution_count": 4,
   "metadata": {},
   "outputs": [
    {
     "data": {
      "text/plain": [
       "['/Users/vivaanwadhwa/Documents/GitHub/CFFS_sharon_2024/data/raw/OK/OK_Menu_23_07_2024.oc']"
      ]
     },
     "execution_count": 4,
     "metadata": {},
     "output_type": "execute_result"
    }
   ],
   "source": [
    "# Select data file path for the chosen venue and time range where the recipes data stored\n",
    "\n",
    "# OK 2023\n",
    "filepath_list = glob.glob(os.path.join(os.getcwd(), \"data\", \"raw\", \"OK\", \"*.oc\"))\n",
    "\n",
    "# Totem 2023\n",
    "# filepath_list = glob.glob(os.path.join(os.getcwd(), \"data\", \"raw\", \"Feast 23-24 Sep-Dec*\", \"*.oc\"))\n",
    "\n",
    "# Gather 2023\n",
    "# filepath_list = glob.glob(os.path.join(os.getcwd(), \"data\", \"raw\", \"Gather\", \"*.oc\"))\n",
    "\n",
    "# filepath_list = glob.glob(os.path.join(os.getcwd(), \"data\", \"raw\", \"BLUEBERRY_FESTIVAL_24\"))\n",
    "\n",
    "filepath_list"
   ]
  },
  {
   "cell_type": "markdown",
   "metadata": {},
   "source": [
    "### Import Items List"
   ]
  },
  {
   "cell_type": "code",
   "execution_count": 5,
   "metadata": {
    "scrolled": true
   },
   "outputs": [],
   "source": [
    "# Read items.xml files in the filepath_list and construct a dataframe\n",
    "ItemId = []\n",
    "Description = []\n",
    "CaseQty = []\n",
    "CaseUOM = []\n",
    "PakQty = []\n",
    "PakUOM = []\n",
    "InventoryGroup = []\n",
    "\n",
    "\n",
    "# from the items xml file, findtext of CaseQty, CaseUOM, PakQty, PakUOM, and InventoryGroup\n",
    "# then append it on the lists above\n",
    "\n",
    "for filepath in filepath_list:\n",
    "    path = filepath + '/Items.xml'\n",
    "    if os.path.isfile(path):\n",
    "        xtree = et.parse(path)\n",
    "        xroot = xtree.getroot()\n",
    "        for item in xtree.iterfind('Item'):\n",
    "            ItemId.append(item.attrib['id'])\n",
    "            Description.append(item.findtext('Description'))\n",
    "            CaseQty.append(item.findtext('CaseQty'))\n",
    "            CaseUOM.append(item.findtext('CaseUOM'))\n",
    "            PakQty.append(item.findtext('PakQty'))\n",
    "            PakUOM.append(item.findtext('PakUOM'))\n",
    "            InventoryGroup.append(item.findtext('InventoryGroup'))\n",
    "\n",
    "            \n",
    "# Create a dataframe from the lists created above.\n",
    "        \n",
    "Items = pd.DataFrame({'ItemId': ItemId, 'Description': Description, 'CaseQty': CaseQty, \n",
    "                      'CaseUOM': CaseUOM, 'PakQty': PakQty, 'PakUOM': PakUOM, 'InventoryGroup': InventoryGroup}\n",
    "                    )\n",
    "\n",
    "Items.drop_duplicates(inplace=True)\n",
    "\n",
    "Items.reset_index(drop=True, inplace=True)"
   ]
  },
  {
   "cell_type": "code",
   "execution_count": 6,
   "metadata": {},
   "outputs": [],
   "source": [
    "# creates a new array with unique ItemIds\n",
    "all_id_list = Items[\"ItemId\"].unique()"
   ]
  },
  {
   "cell_type": "code",
   "execution_count": 7,
   "metadata": {},
   "outputs": [
    {
     "data": {
      "text/html": [
       "<div>\n",
       "<style scoped>\n",
       "    .dataframe tbody tr th:only-of-type {\n",
       "        vertical-align: middle;\n",
       "    }\n",
       "\n",
       "    .dataframe tbody tr th {\n",
       "        vertical-align: top;\n",
       "    }\n",
       "\n",
       "    .dataframe thead th {\n",
       "        text-align: right;\n",
       "    }\n",
       "</style>\n",
       "<table border=\"1\" class=\"dataframe\">\n",
       "  <thead>\n",
       "    <tr style=\"text-align: right;\">\n",
       "      <th></th>\n",
       "      <th>ItemId</th>\n",
       "      <th>Description</th>\n",
       "      <th>CaseQty</th>\n",
       "      <th>CaseUOM</th>\n",
       "      <th>PakQty</th>\n",
       "      <th>PakUOM</th>\n",
       "      <th>InventoryGroup</th>\n",
       "    </tr>\n",
       "  </thead>\n",
       "  <tbody>\n",
       "  </tbody>\n",
       "</table>\n",
       "</div>"
      ],
      "text/plain": [
       "Empty DataFrame\n",
       "Columns: [ItemId, Description, CaseQty, CaseUOM, PakQty, PakUOM, InventoryGroup]\n",
       "Index: []"
      ]
     },
     "execution_count": 7,
     "metadata": {},
     "output_type": "execute_result"
    }
   ],
   "source": [
    "# None of the items are egg yolk liq\n",
    "Items.loc[Items[\"Description\"] == \"Egg Yolk Liq\"]"
   ]
  },
  {
   "cell_type": "code",
   "execution_count": 8,
   "metadata": {},
   "outputs": [
    {
     "data": {
      "text/html": [
       "<div>\n",
       "<style scoped>\n",
       "    .dataframe tbody tr th:only-of-type {\n",
       "        vertical-align: middle;\n",
       "    }\n",
       "\n",
       "    .dataframe tbody tr th {\n",
       "        vertical-align: top;\n",
       "    }\n",
       "\n",
       "    .dataframe thead th {\n",
       "        text-align: right;\n",
       "    }\n",
       "</style>\n",
       "<table border=\"1\" class=\"dataframe\">\n",
       "  <thead>\n",
       "    <tr style=\"text-align: right;\">\n",
       "      <th></th>\n",
       "      <th>ItemId</th>\n",
       "      <th>Description</th>\n",
       "      <th>CaseQty</th>\n",
       "      <th>CaseUOM</th>\n",
       "      <th>PakQty</th>\n",
       "      <th>PakUOM</th>\n",
       "      <th>InventoryGroup</th>\n",
       "    </tr>\n",
       "  </thead>\n",
       "  <tbody>\n",
       "  </tbody>\n",
       "</table>\n",
       "</div>"
      ],
      "text/plain": [
       "Empty DataFrame\n",
       "Columns: [ItemId, Description, CaseQty, CaseUOM, PakQty, PakUOM, InventoryGroup]\n",
       "Index: []"
      ]
     },
     "execution_count": 8,
     "metadata": {},
     "output_type": "execute_result"
    }
   ],
   "source": [
    "# Sumplemental option for egg, vegan option\n",
    "Items.loc[Items[\"ItemId\"] == \"I-68700\"]"
   ]
  },
  {
   "cell_type": "code",
   "execution_count": 9,
   "metadata": {},
   "outputs": [
    {
     "data": {
      "text/plain": [
       "['I-13004',\n",
       " 'I-1186',\n",
       " 'I-1187',\n",
       " 'I-64492',\n",
       " 'I-1232',\n",
       " 'I-14190',\n",
       " 'I-11664',\n",
       " 'I-15032',\n",
       " 'I-12478',\n",
       " 'I-11842']"
      ]
     },
     "execution_count": 9,
     "metadata": {},
     "output_type": "execute_result"
    }
   ],
   "source": [
    "# Gives you the list of breads\n",
    "breadlist = []\n",
    "\n",
    "\n",
    "# If the items in the Items list is a \"LOAF\", \"SANDWICH\", or \"BREAD\" then we should add it in the breadlist\n",
    "# We append it onto the breadlist at position row[\"ItemId\"]\n",
    "for ind, row in Items.iterrows():\n",
    "    if (\"LOAF\" or \"SANDWICH\" \"BREAD\") in row[\"Description\"]:\n",
    "        breadlist.append(row[\"ItemId\"])\n",
    "\n",
    "breadlist"
   ]
  },
  {
   "cell_type": "code",
   "execution_count": 10,
   "metadata": {},
   "outputs": [],
   "source": [
    "Items = Items[~Items[\"InventoryGroup\"].isin([\"DISPOSABLES\", \"SUPPLY\"])]"
   ]
  },
  {
   "cell_type": "code",
   "execution_count": 11,
   "metadata": {},
   "outputs": [
    {
     "data": {
      "text/plain": [
       "(667, 7)"
      ]
     },
     "execution_count": 11,
     "metadata": {},
     "output_type": "execute_result"
    }
   ],
   "source": [
    "# Based on info below there are 486 rows and 7 columns\n",
    "Items.shape"
   ]
  },
  {
   "cell_type": "code",
   "execution_count": 12,
   "metadata": {},
   "outputs": [
    {
     "data": {
      "text/plain": [
       "ItemId            object\n",
       "Description       object\n",
       "CaseQty           object\n",
       "CaseUOM           object\n",
       "PakQty            object\n",
       "PakUOM            object\n",
       "InventoryGroup    object\n",
       "dtype: object"
      ]
     },
     "execution_count": 12,
     "metadata": {},
     "output_type": "execute_result"
    }
   ],
   "source": [
    "Items.dtypes"
   ]
  },
  {
   "cell_type": "code",
   "execution_count": 13,
   "metadata": {},
   "outputs": [],
   "source": [
    "# Save the dataframe to csv\n",
    "path = os.path.join(os.getcwd(), \"data\", \"preprocessed\", \"Items_List.csv\")\n",
    "Items.to_csv(path, index = False, header = True)"
   ]
  },
  {
   "cell_type": "markdown",
   "metadata": {},
   "source": [
    "### Import Ingredients List"
   ]
  },
  {
   "cell_type": "code",
   "execution_count": 14,
   "metadata": {},
   "outputs": [],
   "source": [
    "# Read ingredients.xml files in the filepath_list and construct a dataframe\n",
    "IngredientId = []\n",
    "Conversion = []\n",
    "InvFactor = []\n",
    "Qty = []\n",
    "Recipe = []\n",
    "Uom = []\n",
    "\n",
    "# Using the Ingredients XML file, we extract attributes containing ingredients, conversion, invFactor, qty, recipe, and uom. \n",
    "# Then we append it onto the IngredientId, Coversion, InvFactor, Qty, Recipe, and Uom lists\n",
    "# Then we create a dataframe using the lists created. \n",
    "\n",
    "for filepath in filepath_list:\n",
    "    path = filepath + '/Ingredients.xml'\n",
    "    if os.path.isfile(path):\n",
    "        xtree = et.parse(path)\n",
    "        xroot = xtree.getroot()\n",
    "        for x in xtree.iterfind('Ingredient'):\n",
    "            IngredientId.append(x.attrib['ingredient'])\n",
    "            Conversion.append(x.attrib['conversion'])\n",
    "            InvFactor.append(x.attrib['invFactor'])\n",
    "            Qty.append(x.attrib['qty'])\n",
    "            Recipe.append(x.attrib['recipe'])\n",
    "            Uom.append(x.attrib['uom'])\n",
    "    \n",
    "Ingredients = pd.DataFrame({'IngredientId': IngredientId, 'Qty': Qty,'Uom': Uom, 'Conversion': Conversion, \n",
    "                      'InvFactor': InvFactor,'Recipe': Recipe}).drop_duplicates()\n",
    "Ingredients.drop_duplicates(subset=[\"IngredientId\", \"Recipe\"], inplace=True)\n",
    "\n",
    "Ingredients.reset_index(drop=True, inplace=True)"
   ]
  },
  {
   "cell_type": "code",
   "execution_count": 15,
   "metadata": {
    "scrolled": false
   },
   "outputs": [
    {
     "data": {
      "text/html": [
       "<div>\n",
       "<style scoped>\n",
       "    .dataframe tbody tr th:only-of-type {\n",
       "        vertical-align: middle;\n",
       "    }\n",
       "\n",
       "    .dataframe tbody tr th {\n",
       "        vertical-align: top;\n",
       "    }\n",
       "\n",
       "    .dataframe thead th {\n",
       "        text-align: right;\n",
       "    }\n",
       "</style>\n",
       "<table border=\"1\" class=\"dataframe\">\n",
       "  <thead>\n",
       "    <tr style=\"text-align: right;\">\n",
       "      <th></th>\n",
       "      <th>IngredientId</th>\n",
       "      <th>Qty</th>\n",
       "      <th>Uom</th>\n",
       "      <th>Conversion</th>\n",
       "      <th>InvFactor</th>\n",
       "      <th>Recipe</th>\n",
       "    </tr>\n",
       "  </thead>\n",
       "  <tbody>\n",
       "    <tr>\n",
       "      <th>1624</th>\n",
       "      <td>I-29389</td>\n",
       "      <td>2.500</td>\n",
       "      <td>Kg</td>\n",
       "      <td>1.00000000</td>\n",
       "      <td>1.0000</td>\n",
       "      <td>P-50739</td>\n",
       "    </tr>\n",
       "  </tbody>\n",
       "</table>\n",
       "</div>"
      ],
      "text/plain": [
       "     IngredientId    Qty Uom  Conversion InvFactor   Recipe\n",
       "1624      I-29389  2.500  Kg  1.00000000    1.0000  P-50739"
      ]
     },
     "execution_count": 15,
     "metadata": {},
     "output_type": "execute_result"
    }
   ],
   "source": [
    "Ingredients.loc[Ingredients[\"IngredientId\"] == \"I-29389\"]"
   ]
  },
  {
   "cell_type": "code",
   "execution_count": 16,
   "metadata": {},
   "outputs": [
    {
     "data": {
      "text/plain": [
       "15       I-3388\n",
       "16       I-3642\n",
       "24       I-6026\n",
       "27       I-4598\n",
       "37      I-09837\n",
       "         ...   \n",
       "5104    I-17152\n",
       "5105    I-17675\n",
       "5106    I-72756\n",
       "5107     I-7787\n",
       "5109    P-38661\n",
       "Name: IngredientId, Length: 3692, dtype: object"
      ]
     },
     "execution_count": 16,
     "metadata": {},
     "output_type": "execute_result"
    }
   ],
   "source": [
    "# This will output the IngredientId on the right side and the number of times the ingredient appears in the Ingredients\n",
    "# dataframe on the left side. \n",
    "\n",
    "# The duplicated() method returns a Series with True and False values that describe which rows in the DataFrame are \n",
    "# duplicated and not.\n",
    "\n",
    "check = Ingredients[\"IngredientId\"].duplicated()\n",
    "\n",
    "# The line below tells us at which index is the ingredient duplicated. For example I-4598 exists on index 2 of the dataframe and\n",
    "# then again on index 8. So duplicate is first true on index 8, which is why it is printed below. It also appears in a below \n",
    "# index so it is printed again with that index number. \n",
    "Ingredients[\"IngredientId\"][check]"
   ]
  },
  {
   "cell_type": "code",
   "execution_count": 17,
   "metadata": {},
   "outputs": [
    {
     "data": {
      "text/html": [
       "<div>\n",
       "<style scoped>\n",
       "    .dataframe tbody tr th:only-of-type {\n",
       "        vertical-align: middle;\n",
       "    }\n",
       "\n",
       "    .dataframe tbody tr th {\n",
       "        vertical-align: top;\n",
       "    }\n",
       "\n",
       "    .dataframe thead th {\n",
       "        text-align: right;\n",
       "    }\n",
       "</style>\n",
       "<table border=\"1\" class=\"dataframe\">\n",
       "  <thead>\n",
       "    <tr style=\"text-align: right;\">\n",
       "      <th></th>\n",
       "      <th>IngredientId</th>\n",
       "      <th>Qty</th>\n",
       "      <th>Uom</th>\n",
       "      <th>Conversion</th>\n",
       "      <th>InvFactor</th>\n",
       "      <th>Recipe</th>\n",
       "    </tr>\n",
       "  </thead>\n",
       "  <tbody>\n",
       "  </tbody>\n",
       "</table>\n",
       "</div>"
      ],
      "text/plain": [
       "Empty DataFrame\n",
       "Columns: [IngredientId, Qty, Uom, Conversion, InvFactor, Recipe]\n",
       "Index: []"
      ]
     },
     "execution_count": 17,
     "metadata": {},
     "output_type": "execute_result"
    }
   ],
   "source": [
    "# We can see from the printed items above that I-64877 does not appear because it does not get duplicated\n",
    "Ingredients.loc[Ingredients[\"IngredientId\"] == \"I-64877\"]"
   ]
  },
  {
   "cell_type": "code",
   "execution_count": 18,
   "metadata": {},
   "outputs": [
    {
     "data": {
      "text/html": [
       "<div>\n",
       "<style scoped>\n",
       "    .dataframe tbody tr th:only-of-type {\n",
       "        vertical-align: middle;\n",
       "    }\n",
       "\n",
       "    .dataframe tbody tr th {\n",
       "        vertical-align: top;\n",
       "    }\n",
       "\n",
       "    .dataframe thead th {\n",
       "        text-align: right;\n",
       "    }\n",
       "</style>\n",
       "<table border=\"1\" class=\"dataframe\">\n",
       "  <thead>\n",
       "    <tr style=\"text-align: right;\">\n",
       "      <th></th>\n",
       "      <th>IngredientId</th>\n",
       "      <th>Qty</th>\n",
       "      <th>Uom</th>\n",
       "      <th>Conversion</th>\n",
       "      <th>InvFactor</th>\n",
       "      <th>Recipe</th>\n",
       "    </tr>\n",
       "  </thead>\n",
       "  <tbody>\n",
       "    <tr>\n",
       "      <th>0</th>\n",
       "      <td>P-48933</td>\n",
       "      <td>1.000</td>\n",
       "      <td>Kg</td>\n",
       "      <td>1.00000000</td>\n",
       "      <td>1.0000</td>\n",
       "      <td>P-10113</td>\n",
       "    </tr>\n",
       "    <tr>\n",
       "      <th>1</th>\n",
       "      <td>P-18746</td>\n",
       "      <td>1.000</td>\n",
       "      <td>Kg</td>\n",
       "      <td>1.00000000</td>\n",
       "      <td>1.0000</td>\n",
       "      <td>P-10241</td>\n",
       "    </tr>\n",
       "    <tr>\n",
       "      <th>2</th>\n",
       "      <td>I-3388</td>\n",
       "      <td>1.000</td>\n",
       "      <td>L</td>\n",
       "      <td>1.00000000</td>\n",
       "      <td>0.3058</td>\n",
       "      <td>P-10496</td>\n",
       "    </tr>\n",
       "    <tr>\n",
       "      <th>3</th>\n",
       "      <td>I-4658</td>\n",
       "      <td>2.270</td>\n",
       "      <td>Kg</td>\n",
       "      <td>2.20462000</td>\n",
       "      <td>0.6942</td>\n",
       "      <td>P-10496</td>\n",
       "    </tr>\n",
       "    <tr>\n",
       "      <th>4</th>\n",
       "      <td>I-12176</td>\n",
       "      <td>4.000</td>\n",
       "      <td>g</td>\n",
       "      <td>0.00100000</td>\n",
       "      <td>0.3636</td>\n",
       "      <td>P-12112</td>\n",
       "    </tr>\n",
       "    <tr>\n",
       "      <th>...</th>\n",
       "      <td>...</td>\n",
       "      <td>...</td>\n",
       "      <td>...</td>\n",
       "      <td>...</td>\n",
       "      <td>...</td>\n",
       "      <td>...</td>\n",
       "    </tr>\n",
       "    <tr>\n",
       "      <th>5107</th>\n",
       "      <td>I-7787</td>\n",
       "      <td>50.000</td>\n",
       "      <td>ml</td>\n",
       "      <td>0.00100000</td>\n",
       "      <td>1.0000</td>\n",
       "      <td>R-73430</td>\n",
       "    </tr>\n",
       "    <tr>\n",
       "      <th>5108</th>\n",
       "      <td>I-8281</td>\n",
       "      <td>50.000</td>\n",
       "      <td>g</td>\n",
       "      <td>0.00100000</td>\n",
       "      <td>1.0000</td>\n",
       "      <td>R-73430</td>\n",
       "    </tr>\n",
       "    <tr>\n",
       "      <th>5109</th>\n",
       "      <td>P-38661</td>\n",
       "      <td>25.000</td>\n",
       "      <td>mg</td>\n",
       "      <td>0.00000100</td>\n",
       "      <td>1.0000</td>\n",
       "      <td>R-73430</td>\n",
       "    </tr>\n",
       "    <tr>\n",
       "      <th>5110</th>\n",
       "      <td>P-73445</td>\n",
       "      <td>150.000</td>\n",
       "      <td>g</td>\n",
       "      <td>0.00100000</td>\n",
       "      <td>1.0000</td>\n",
       "      <td>R-73452</td>\n",
       "    </tr>\n",
       "    <tr>\n",
       "      <th>5111</th>\n",
       "      <td>P-68191</td>\n",
       "      <td>125.000</td>\n",
       "      <td>g</td>\n",
       "      <td>0.00100000</td>\n",
       "      <td>1.0000</td>\n",
       "      <td>R-73874</td>\n",
       "    </tr>\n",
       "  </tbody>\n",
       "</table>\n",
       "<p>5112 rows × 6 columns</p>\n",
       "</div>"
      ],
      "text/plain": [
       "     IngredientId      Qty Uom  Conversion InvFactor   Recipe\n",
       "0         P-48933    1.000  Kg  1.00000000    1.0000  P-10113\n",
       "1         P-18746    1.000  Kg  1.00000000    1.0000  P-10241\n",
       "2          I-3388    1.000   L  1.00000000    0.3058  P-10496\n",
       "3          I-4658    2.270  Kg  2.20462000    0.6942  P-10496\n",
       "4         I-12176    4.000   g  0.00100000    0.3636  P-12112\n",
       "...           ...      ...  ..         ...       ...      ...\n",
       "5107       I-7787   50.000  ml  0.00100000    1.0000  R-73430\n",
       "5108       I-8281   50.000   g  0.00100000    1.0000  R-73430\n",
       "5109      P-38661   25.000  mg  0.00000100    1.0000  R-73430\n",
       "5110      P-73445  150.000   g  0.00100000    1.0000  R-73452\n",
       "5111      P-68191  125.000   g  0.00100000    1.0000  R-73874\n",
       "\n",
       "[5112 rows x 6 columns]"
      ]
     },
     "execution_count": 18,
     "metadata": {},
     "output_type": "execute_result"
    }
   ],
   "source": [
    "Ingredients"
   ]
  },
  {
   "cell_type": "code",
   "execution_count": 19,
   "metadata": {},
   "outputs": [
    {
     "data": {
      "text/html": [
       "<div>\n",
       "<style scoped>\n",
       "    .dataframe tbody tr th:only-of-type {\n",
       "        vertical-align: middle;\n",
       "    }\n",
       "\n",
       "    .dataframe tbody tr th {\n",
       "        vertical-align: top;\n",
       "    }\n",
       "\n",
       "    .dataframe thead th {\n",
       "        text-align: right;\n",
       "    }\n",
       "</style>\n",
       "<table border=\"1\" class=\"dataframe\">\n",
       "  <thead>\n",
       "    <tr style=\"text-align: right;\">\n",
       "      <th></th>\n",
       "      <th>IngredientId</th>\n",
       "      <th>Qty</th>\n",
       "      <th>Uom</th>\n",
       "      <th>Conversion</th>\n",
       "      <th>InvFactor</th>\n",
       "      <th>Recipe</th>\n",
       "    </tr>\n",
       "  </thead>\n",
       "  <tbody>\n",
       "  </tbody>\n",
       "</table>\n",
       "</div>"
      ],
      "text/plain": [
       "Empty DataFrame\n",
       "Columns: [IngredientId, Qty, Uom, Conversion, InvFactor, Recipe]\n",
       "Index: []"
      ]
     },
     "execution_count": 19,
     "metadata": {},
     "output_type": "execute_result"
    }
   ],
   "source": [
    "# Below we are checking if we can extract an entire recipe. So we can do .loc with the particular recipe id and then \n",
    "# print all the data points (ingredientId, Qty, Uom, Conversion, InvFactor) for that recipe. \n",
    "Ingredients.loc[Ingredients[\"Recipe\"] == \"R-68698\"]"
   ]
  },
  {
   "cell_type": "code",
   "execution_count": 20,
   "metadata": {},
   "outputs": [
    {
     "data": {
      "text/html": [
       "<div>\n",
       "<style scoped>\n",
       "    .dataframe tbody tr th:only-of-type {\n",
       "        vertical-align: middle;\n",
       "    }\n",
       "\n",
       "    .dataframe tbody tr th {\n",
       "        vertical-align: top;\n",
       "    }\n",
       "\n",
       "    .dataframe thead th {\n",
       "        text-align: right;\n",
       "    }\n",
       "</style>\n",
       "<table border=\"1\" class=\"dataframe\">\n",
       "  <thead>\n",
       "    <tr style=\"text-align: right;\">\n",
       "      <th></th>\n",
       "      <th>ItemId</th>\n",
       "      <th>Description</th>\n",
       "      <th>CaseQty</th>\n",
       "      <th>CaseUOM</th>\n",
       "      <th>PakQty</th>\n",
       "      <th>PakUOM</th>\n",
       "      <th>InventoryGroup</th>\n",
       "    </tr>\n",
       "  </thead>\n",
       "  <tbody>\n",
       "    <tr>\n",
       "      <th>0</th>\n",
       "      <td>I-7631</td>\n",
       "      <td>5 SPICE POWDER</td>\n",
       "      <td>1.000</td>\n",
       "      <td>ea</td>\n",
       "      <td>1.000</td>\n",
       "      <td>lb</td>\n",
       "      <td>SPICES</td>\n",
       "    </tr>\n",
       "    <tr>\n",
       "      <th>1</th>\n",
       "      <td>I-3617</td>\n",
       "      <td>ALLSPICE GROUND SHAKER</td>\n",
       "      <td>8.000</td>\n",
       "      <td>each</td>\n",
       "      <td>454.000</td>\n",
       "      <td>g</td>\n",
       "      <td>SPICES</td>\n",
       "    </tr>\n",
       "    <tr>\n",
       "      <th>2</th>\n",
       "      <td>I-44059</td>\n",
       "      <td>ALMOND BUTTER*</td>\n",
       "      <td>10.000</td>\n",
       "      <td>Kg</td>\n",
       "      <td>1.000</td>\n",
       "      <td>Kg</td>\n",
       "      <td>FOOD - GROCERY</td>\n",
       "    </tr>\n",
       "    <tr>\n",
       "      <th>3</th>\n",
       "      <td>I-43652</td>\n",
       "      <td>ANCHO CHILLI</td>\n",
       "      <td>1.200</td>\n",
       "      <td>Kg</td>\n",
       "      <td>1.000</td>\n",
       "      <td>Kg</td>\n",
       "      <td>FOOD - GROCERY</td>\n",
       "    </tr>\n",
       "    <tr>\n",
       "      <th>4</th>\n",
       "      <td>I-2853</td>\n",
       "      <td>ANCHOVIES FILLET*</td>\n",
       "      <td>1.700</td>\n",
       "      <td>Kg</td>\n",
       "      <td>1.000</td>\n",
       "      <td>Kg</td>\n",
       "      <td>FOOD - GROCERY</td>\n",
       "    </tr>\n",
       "    <tr>\n",
       "      <th>...</th>\n",
       "      <td>...</td>\n",
       "      <td>...</td>\n",
       "      <td>...</td>\n",
       "      <td>...</td>\n",
       "      <td>...</td>\n",
       "      <td>...</td>\n",
       "      <td>...</td>\n",
       "    </tr>\n",
       "    <tr>\n",
       "      <th>662</th>\n",
       "      <td>I-72037</td>\n",
       "      <td>YOGURT YOGG*COCONUT VEGAN</td>\n",
       "      <td>3.500</td>\n",
       "      <td>Kg</td>\n",
       "      <td>1.000</td>\n",
       "      <td>Kg</td>\n",
       "      <td>DAIRY</td>\n",
       "    </tr>\n",
       "    <tr>\n",
       "      <th>663</th>\n",
       "      <td>I-68111</td>\n",
       "      <td>YOGURT YOGGU*PLAIN COCONUT</td>\n",
       "      <td>3.500</td>\n",
       "      <td>Kg</td>\n",
       "      <td>1.000</td>\n",
       "      <td>Kg</td>\n",
       "      <td>DAIRY</td>\n",
       "    </tr>\n",
       "    <tr>\n",
       "      <th>664</th>\n",
       "      <td>I-1490</td>\n",
       "      <td>ZEST FLAVOURS SUGAR ORANG</td>\n",
       "      <td>6.000</td>\n",
       "      <td>lb</td>\n",
       "      <td>1.000</td>\n",
       "      <td>lb</td>\n",
       "      <td>BAKING-RAW INGREDIENTS</td>\n",
       "    </tr>\n",
       "    <tr>\n",
       "      <th>665</th>\n",
       "      <td>I-1489</td>\n",
       "      <td>ZEST SUGARED LEMON</td>\n",
       "      <td>5.000</td>\n",
       "      <td>lb</td>\n",
       "      <td>1.000</td>\n",
       "      <td>lb</td>\n",
       "      <td>BAKING-RAW INGREDIENTS</td>\n",
       "    </tr>\n",
       "    <tr>\n",
       "      <th>666</th>\n",
       "      <td>I-4967</td>\n",
       "      <td>ZUCCHINI MED FCY MX</td>\n",
       "      <td>25.000</td>\n",
       "      <td>lb</td>\n",
       "      <td>1.000</td>\n",
       "      <td>lb</td>\n",
       "      <td>PRODUCE</td>\n",
       "    </tr>\n",
       "  </tbody>\n",
       "</table>\n",
       "<p>667 rows × 7 columns</p>\n",
       "</div>"
      ],
      "text/plain": [
       "      ItemId                 Description CaseQty CaseUOM   PakQty PakUOM  \\\n",
       "0     I-7631              5 SPICE POWDER   1.000      ea    1.000     lb   \n",
       "1     I-3617     ALLSPICE GROUND SHAKER    8.000    each  454.000      g   \n",
       "2    I-44059              ALMOND BUTTER*  10.000      Kg    1.000     Kg   \n",
       "3    I-43652                ANCHO CHILLI   1.200      Kg    1.000     Kg   \n",
       "4     I-2853           ANCHOVIES FILLET*   1.700      Kg    1.000     Kg   \n",
       "..       ...                         ...     ...     ...      ...    ...   \n",
       "662  I-72037   YOGURT YOGG*COCONUT VEGAN   3.500      Kg    1.000     Kg   \n",
       "663  I-68111  YOGURT YOGGU*PLAIN COCONUT   3.500      Kg    1.000     Kg   \n",
       "664   I-1490   ZEST FLAVOURS SUGAR ORANG   6.000      lb    1.000     lb   \n",
       "665   I-1489          ZEST SUGARED LEMON   5.000      lb    1.000     lb   \n",
       "666   I-4967         ZUCCHINI MED FCY MX  25.000      lb    1.000     lb   \n",
       "\n",
       "             InventoryGroup  \n",
       "0                    SPICES  \n",
       "1                    SPICES  \n",
       "2            FOOD - GROCERY  \n",
       "3            FOOD - GROCERY  \n",
       "4            FOOD - GROCERY  \n",
       "..                      ...  \n",
       "662                   DAIRY  \n",
       "663                   DAIRY  \n",
       "664  BAKING-RAW INGREDIENTS  \n",
       "665  BAKING-RAW INGREDIENTS  \n",
       "666                 PRODUCE  \n",
       "\n",
       "[667 rows x 7 columns]"
      ]
     },
     "execution_count": 20,
     "metadata": {},
     "output_type": "execute_result"
    }
   ],
   "source": [
    "Items"
   ]
  },
  {
   "cell_type": "code",
   "execution_count": 21,
   "metadata": {},
   "outputs": [
    {
     "data": {
      "text/plain": [
       "(5112, 6)"
      ]
     },
     "execution_count": 21,
     "metadata": {},
     "output_type": "execute_result"
    }
   ],
   "source": [
    "Ingredients.shape"
   ]
  },
  {
   "cell_type": "code",
   "execution_count": 22,
   "metadata": {},
   "outputs": [
    {
     "data": {
      "text/plain": [
       "IngredientId    object\n",
       "Qty             object\n",
       "Uom             object\n",
       "Conversion      object\n",
       "InvFactor       object\n",
       "Recipe          object\n",
       "dtype: object"
      ]
     },
     "execution_count": 22,
     "metadata": {},
     "output_type": "execute_result"
    }
   ],
   "source": [
    "Ingredients.dtypes"
   ]
  },
  {
   "cell_type": "code",
   "execution_count": 23,
   "metadata": {},
   "outputs": [],
   "source": [
    "# Save the dataframe to csv\n",
    "path = os.path.join(os.getcwd(), \"data\", \"preprocessed\", \"Ingredients_List.csv\")\n",
    "Ingredients.to_csv(path, index = False, header = True)"
   ]
  },
  {
   "cell_type": "markdown",
   "metadata": {},
   "source": [
    "### Import Preps List"
   ]
  },
  {
   "cell_type": "code",
   "execution_count": 24,
   "metadata": {},
   "outputs": [],
   "source": [
    "# Read preps.xml files in the filepath_list and construct a dataframe\n",
    "PrepId = []\n",
    "Description = []\n",
    "PakQty = []\n",
    "PakUOM = []\n",
    "InventoryGroup = []\n",
    "\n",
    "\n",
    "# Here we do the same thing for the Preps XML file where we find the columns using attrib function and then append it onto\n",
    "# the dataframe called Preps. \n",
    "\n",
    "for filepath in filepath_list:\n",
    "    path = filepath + '/Preps.xml'\n",
    "    if os.path.isfile(path):\n",
    "        xtree = et.parse(path)\n",
    "        xroot = xtree.getroot()\n",
    "        for x in xtree.iterfind('Prep'):\n",
    "            PrepId.append(x.attrib['id'])\n",
    "            Description.append(x.findtext('Description'))\n",
    "            PakQty.append(x.findtext('PakQty'))\n",
    "            PakUOM.append(x.findtext('PakUOM'))\n",
    "            InventoryGroup.append(x.findtext('InventoryGroup'))\n",
    "    \n",
    "Preps = pd.DataFrame({'PrepId': PrepId, 'Description': Description,\n",
    "                  'PakQty': PakQty, 'PakUOM':PakUOM, 'InventoryGroup': InventoryGroup}).drop_duplicates()\n",
    "preps_columns = Preps.columns\n",
    "Preps.drop_duplicates(subset=[\"PrepId\"], inplace=True)\n",
    "\n",
    "Preps.reset_index(drop=True, inplace=True)"
   ]
  },
  {
   "cell_type": "code",
   "execution_count": 25,
   "metadata": {},
   "outputs": [
    {
     "data": {
      "text/html": [
       "<div>\n",
       "<style scoped>\n",
       "    .dataframe tbody tr th:only-of-type {\n",
       "        vertical-align: middle;\n",
       "    }\n",
       "\n",
       "    .dataframe tbody tr th {\n",
       "        vertical-align: top;\n",
       "    }\n",
       "\n",
       "    .dataframe thead th {\n",
       "        text-align: right;\n",
       "    }\n",
       "</style>\n",
       "<table border=\"1\" class=\"dataframe\">\n",
       "  <thead>\n",
       "    <tr style=\"text-align: right;\">\n",
       "      <th></th>\n",
       "      <th>PrepId</th>\n",
       "      <th>Description</th>\n",
       "      <th>PakQty</th>\n",
       "      <th>PakUOM</th>\n",
       "      <th>InventoryGroup</th>\n",
       "    </tr>\n",
       "  </thead>\n",
       "  <tbody>\n",
       "    <tr>\n",
       "      <th>0</th>\n",
       "      <td>P-61322</td>\n",
       "      <td>AIOLI|Pesto</td>\n",
       "      <td>4.000</td>\n",
       "      <td>L</td>\n",
       "      <td>ZDONT USE OK - PREP</td>\n",
       "    </tr>\n",
       "    <tr>\n",
       "      <th>1</th>\n",
       "      <td>P-26184</td>\n",
       "      <td>BAKED|Beans</td>\n",
       "      <td>9.000</td>\n",
       "      <td>Kg</td>\n",
       "      <td>PREP</td>\n",
       "    </tr>\n",
       "    <tr>\n",
       "      <th>2</th>\n",
       "      <td>P-54644</td>\n",
       "      <td>BAKED|Moussaka</td>\n",
       "      <td>16.000</td>\n",
       "      <td>PTN</td>\n",
       "      <td></td>\n",
       "    </tr>\n",
       "    <tr>\n",
       "      <th>3</th>\n",
       "      <td>P-54666</td>\n",
       "      <td>BAKED|Pasta|Chicken Alfredo</td>\n",
       "      <td>6.176</td>\n",
       "      <td>Kg</td>\n",
       "      <td></td>\n",
       "    </tr>\n",
       "    <tr>\n",
       "      <th>4</th>\n",
       "      <td>P-54664</td>\n",
       "      <td>BAKED|Pasta|Chorizo Penne</td>\n",
       "      <td>7.360</td>\n",
       "      <td>Kg</td>\n",
       "      <td></td>\n",
       "    </tr>\n",
       "    <tr>\n",
       "      <th>...</th>\n",
       "      <td>...</td>\n",
       "      <td>...</td>\n",
       "      <td>...</td>\n",
       "      <td>...</td>\n",
       "      <td>...</td>\n",
       "    </tr>\n",
       "    <tr>\n",
       "      <th>771</th>\n",
       "      <td>P-46079</td>\n",
       "      <td>YIELD|Watermelon*</td>\n",
       "      <td>3.000</td>\n",
       "      <td>Kg</td>\n",
       "      <td></td>\n",
       "    </tr>\n",
       "    <tr>\n",
       "      <th>772</th>\n",
       "      <td>P-41047</td>\n",
       "      <td>YIELD|Yam</td>\n",
       "      <td>1.900</td>\n",
       "      <td>Kg</td>\n",
       "      <td></td>\n",
       "    </tr>\n",
       "    <tr>\n",
       "      <th>773</th>\n",
       "      <td>P-24452</td>\n",
       "      <td>YIELD|Yellow Onion</td>\n",
       "      <td>0.900</td>\n",
       "      <td>lb</td>\n",
       "      <td></td>\n",
       "    </tr>\n",
       "    <tr>\n",
       "      <th>774</th>\n",
       "      <td>P-57145</td>\n",
       "      <td>YIELD|Yellow Pepper</td>\n",
       "      <td>8.300</td>\n",
       "      <td>Kg</td>\n",
       "      <td></td>\n",
       "    </tr>\n",
       "    <tr>\n",
       "      <th>775</th>\n",
       "      <td>P-9756</td>\n",
       "      <td>YIELD|Zucchini</td>\n",
       "      <td>0.900</td>\n",
       "      <td>Kg</td>\n",
       "      <td></td>\n",
       "    </tr>\n",
       "  </tbody>\n",
       "</table>\n",
       "<p>776 rows × 5 columns</p>\n",
       "</div>"
      ],
      "text/plain": [
       "      PrepId                  Description  PakQty PakUOM       InventoryGroup\n",
       "0    P-61322                  AIOLI|Pesto   4.000      L  ZDONT USE OK - PREP\n",
       "1    P-26184                  BAKED|Beans   9.000     Kg                 PREP\n",
       "2    P-54644               BAKED|Moussaka  16.000    PTN                     \n",
       "3    P-54666  BAKED|Pasta|Chicken Alfredo   6.176     Kg                     \n",
       "4    P-54664    BAKED|Pasta|Chorizo Penne   7.360     Kg                     \n",
       "..       ...                          ...     ...    ...                  ...\n",
       "771  P-46079            YIELD|Watermelon*   3.000     Kg                     \n",
       "772  P-41047                   YIELD|Yam    1.900     Kg                     \n",
       "773  P-24452           YIELD|Yellow Onion   0.900     lb                     \n",
       "774  P-57145          YIELD|Yellow Pepper   8.300     Kg                     \n",
       "775   P-9756               YIELD|Zucchini   0.900     Kg                     \n",
       "\n",
       "[776 rows x 5 columns]"
      ]
     },
     "execution_count": 25,
     "metadata": {},
     "output_type": "execute_result"
    }
   ],
   "source": [
    "Preps"
   ]
  },
  {
   "cell_type": "code",
   "execution_count": 26,
   "metadata": {},
   "outputs": [
    {
     "name": "stdout",
     "output_type": "stream",
     "text": [
      "False\n"
     ]
    }
   ],
   "source": [
    "# This tells us that there are not any duplicates in the Preps dataframe. There is a different process|ingredient pair for \n",
    "# all the recipes. \n",
    "check = Preps[\"PrepId\"].duplicated().any()\n",
    "print(check)"
   ]
  },
  {
   "cell_type": "code",
   "execution_count": 27,
   "metadata": {},
   "outputs": [
    {
     "data": {
      "text/plain": [
       "(776, 5)"
      ]
     },
     "execution_count": 27,
     "metadata": {},
     "output_type": "execute_result"
    }
   ],
   "source": [
    "# There are 546 rows and 5 columns\n",
    "Preps.shape"
   ]
  },
  {
   "cell_type": "code",
   "execution_count": 28,
   "metadata": {},
   "outputs": [
    {
     "data": {
      "text/html": [
       "<div>\n",
       "<style scoped>\n",
       "    .dataframe tbody tr th:only-of-type {\n",
       "        vertical-align: middle;\n",
       "    }\n",
       "\n",
       "    .dataframe tbody tr th {\n",
       "        vertical-align: top;\n",
       "    }\n",
       "\n",
       "    .dataframe thead th {\n",
       "        text-align: right;\n",
       "    }\n",
       "</style>\n",
       "<table border=\"1\" class=\"dataframe\">\n",
       "  <thead>\n",
       "    <tr style=\"text-align: right;\">\n",
       "      <th></th>\n",
       "      <th>PrepId</th>\n",
       "      <th>Description</th>\n",
       "      <th>PakQty</th>\n",
       "      <th>PakUOM</th>\n",
       "      <th>InventoryGroup</th>\n",
       "    </tr>\n",
       "  </thead>\n",
       "  <tbody>\n",
       "    <tr>\n",
       "      <th>70</th>\n",
       "      <td>P-50739</td>\n",
       "      <td>COMPOTE|Apple Cinnamon</td>\n",
       "      <td>2.500</td>\n",
       "      <td>L</td>\n",
       "      <td>PREP</td>\n",
       "    </tr>\n",
       "  </tbody>\n",
       "</table>\n",
       "</div>"
      ],
      "text/plain": [
       "     PrepId             Description PakQty PakUOM InventoryGroup\n",
       "70  P-50739  COMPOTE|Apple Cinnamon  2.500      L           PREP"
      ]
     },
     "execution_count": 28,
     "metadata": {},
     "output_type": "execute_result"
    }
   ],
   "source": [
    "# Here we see there is only one place P-50739 is used in the Preps\n",
    "Preps.loc[Preps[\"PrepId\"] == \"P-50739\"]"
   ]
  },
  {
   "cell_type": "code",
   "execution_count": 29,
   "metadata": {},
   "outputs": [
    {
     "data": {
      "text/plain": [
       "PrepId            object\n",
       "Description       object\n",
       "PakQty            object\n",
       "PakUOM            object\n",
       "InventoryGroup    object\n",
       "dtype: object"
      ]
     },
     "execution_count": 29,
     "metadata": {},
     "output_type": "execute_result"
    }
   ],
   "source": [
    "Preps.dtypes"
   ]
  },
  {
   "cell_type": "code",
   "execution_count": 30,
   "metadata": {},
   "outputs": [],
   "source": [
    "# Save the dataframe to csv\n",
    "path = os.path.join(os.getcwd(), \"data\", \"preprocessed\", \"Preps_List.csv\")\n",
    "Preps.to_csv(path, index = False, header = True)"
   ]
  },
  {
   "cell_type": "markdown",
   "metadata": {},
   "source": [
    "### Import Products List"
   ]
  },
  {
   "cell_type": "code",
   "execution_count": 31,
   "metadata": {},
   "outputs": [],
   "source": [
    "# Read products.xml files in the filepath_list and construct a dataframe\n",
    "ProdId = []\n",
    "Description = []\n",
    "SalesGroup = []\n",
    "\n",
    "# From the XML file for products append the id into ProdId, description into Description, and SalesGroup into SalesGroup list.\n",
    "# Make a dataframe out of the 3 lists\n",
    "# Then also drop the duplicates in the Products dataframe\n",
    "\n",
    "for filepath in filepath_list:\n",
    "    path = filepath + '/Products.xml'\n",
    "    if os.path.isfile(path):\n",
    "        xtree = et.parse(path)\n",
    "        xroot = xtree.getroot()\n",
    "        for x in xtree.iterfind('Prod'):\n",
    "            ProdId.append(x.attrib['id'])\n",
    "            Description.append(x.findtext('Description'))\n",
    "            SalesGroup.append(x.findtext('SalesGroup'))\n",
    "        \n",
    "Products = pd.DataFrame({'ProdId': ProdId, 'Description': Description, 'SalesGroup': SalesGroup})\n",
    "Products.drop_duplicates(inplace=True)\n",
    "\n",
    "Products.reset_index(drop=True, inplace=True)"
   ]
  },
  {
   "cell_type": "code",
   "execution_count": 32,
   "metadata": {},
   "outputs": [
    {
     "data": {
      "text/html": [
       "<div>\n",
       "<style scoped>\n",
       "    .dataframe tbody tr th:only-of-type {\n",
       "        vertical-align: middle;\n",
       "    }\n",
       "\n",
       "    .dataframe tbody tr th {\n",
       "        vertical-align: top;\n",
       "    }\n",
       "\n",
       "    .dataframe thead th {\n",
       "        text-align: right;\n",
       "    }\n",
       "</style>\n",
       "<table border=\"1\" class=\"dataframe\">\n",
       "  <thead>\n",
       "    <tr style=\"text-align: right;\">\n",
       "      <th></th>\n",
       "      <th>ProdId</th>\n",
       "      <th>Description</th>\n",
       "      <th>SalesGroup</th>\n",
       "    </tr>\n",
       "  </thead>\n",
       "  <tbody>\n",
       "    <tr>\n",
       "      <th>0</th>\n",
       "      <td>R-61778</td>\n",
       "      <td>ALF|Flatbread|4 Cheese</td>\n",
       "      <td>OK - AL FORNO</td>\n",
       "    </tr>\n",
       "    <tr>\n",
       "      <th>1</th>\n",
       "      <td>R-61780</td>\n",
       "      <td>ALF|Flatbread|Apple &amp; Pancetta</td>\n",
       "      <td>OK - AL FORNO</td>\n",
       "    </tr>\n",
       "    <tr>\n",
       "      <th>2</th>\n",
       "      <td>R-61749</td>\n",
       "      <td>ALF|Flatbread|BBQ Chicken</td>\n",
       "      <td>OK - AL FORNO</td>\n",
       "    </tr>\n",
       "    <tr>\n",
       "      <th>3</th>\n",
       "      <td>R-61737</td>\n",
       "      <td>ALF|Flatbread|Beef &amp; Onion</td>\n",
       "      <td>OK - AL FORNO</td>\n",
       "    </tr>\n",
       "    <tr>\n",
       "      <th>4</th>\n",
       "      <td>R-68122</td>\n",
       "      <td>ALF|Flatbread|Beef Onion|TMRW</td>\n",
       "      <td>OK - AL FORNO</td>\n",
       "    </tr>\n",
       "    <tr>\n",
       "      <th>...</th>\n",
       "      <td>...</td>\n",
       "      <td>...</td>\n",
       "      <td>...</td>\n",
       "    </tr>\n",
       "    <tr>\n",
       "      <th>337</th>\n",
       "      <td>R-27273</td>\n",
       "      <td>VEG|Toast|OK Avocado</td>\n",
       "      <td>OK - VEGETARIAN KITCHEN</td>\n",
       "    </tr>\n",
       "    <tr>\n",
       "      <th>338</th>\n",
       "      <td>R-73241</td>\n",
       "      <td>VEG|Toast|Roasted Tomato</td>\n",
       "      <td>OK- VEGETARIAN KITCHEN FEATURE</td>\n",
       "    </tr>\n",
       "    <tr>\n",
       "      <th>339</th>\n",
       "      <td>R-56510</td>\n",
       "      <td>VEG|Toast|Southwest Avocado</td>\n",
       "      <td>OK - VEGETARIAN KITCHEN</td>\n",
       "    </tr>\n",
       "    <tr>\n",
       "      <th>340</th>\n",
       "      <td>R-56511</td>\n",
       "      <td>VEG|Toast|Westcoast Avocado</td>\n",
       "      <td>OK - VEGETARIAN KITCHEN</td>\n",
       "    </tr>\n",
       "    <tr>\n",
       "      <th>341</th>\n",
       "      <td>R-27272</td>\n",
       "      <td>VEG|Tuscan Breakfast Bowl</td>\n",
       "      <td>OK - SQUARE MEAL</td>\n",
       "    </tr>\n",
       "  </tbody>\n",
       "</table>\n",
       "<p>342 rows × 3 columns</p>\n",
       "</div>"
      ],
      "text/plain": [
       "      ProdId                     Description                      SalesGroup\n",
       "0    R-61778          ALF|Flatbread|4 Cheese                   OK - AL FORNO\n",
       "1    R-61780  ALF|Flatbread|Apple & Pancetta                   OK - AL FORNO\n",
       "2    R-61749       ALF|Flatbread|BBQ Chicken                   OK - AL FORNO\n",
       "3    R-61737      ALF|Flatbread|Beef & Onion                   OK - AL FORNO\n",
       "4    R-68122   ALF|Flatbread|Beef Onion|TMRW                   OK - AL FORNO\n",
       "..       ...                             ...                             ...\n",
       "337  R-27273            VEG|Toast|OK Avocado         OK - VEGETARIAN KITCHEN\n",
       "338  R-73241        VEG|Toast|Roasted Tomato  OK- VEGETARIAN KITCHEN FEATURE\n",
       "339  R-56510     VEG|Toast|Southwest Avocado         OK - VEGETARIAN KITCHEN\n",
       "340  R-56511     VEG|Toast|Westcoast Avocado         OK - VEGETARIAN KITCHEN\n",
       "341  R-27272       VEG|Tuscan Breakfast Bowl                OK - SQUARE MEAL\n",
       "\n",
       "[342 rows x 3 columns]"
      ]
     },
     "execution_count": 32,
     "metadata": {},
     "output_type": "execute_result"
    }
   ],
   "source": [
    "Products"
   ]
  },
  {
   "cell_type": "code",
   "execution_count": 33,
   "metadata": {
    "scrolled": true
   },
   "outputs": [
    {
     "data": {
      "text/html": [
       "<div>\n",
       "<style scoped>\n",
       "    .dataframe tbody tr th:only-of-type {\n",
       "        vertical-align: middle;\n",
       "    }\n",
       "\n",
       "    .dataframe tbody tr th {\n",
       "        vertical-align: top;\n",
       "    }\n",
       "\n",
       "    .dataframe thead th {\n",
       "        text-align: right;\n",
       "    }\n",
       "</style>\n",
       "<table border=\"1\" class=\"dataframe\">\n",
       "  <thead>\n",
       "    <tr style=\"text-align: right;\">\n",
       "      <th></th>\n",
       "      <th>ProdId</th>\n",
       "      <th>Description</th>\n",
       "      <th>SalesGroup</th>\n",
       "    </tr>\n",
       "  </thead>\n",
       "  <tbody>\n",
       "  </tbody>\n",
       "</table>\n",
       "</div>"
      ],
      "text/plain": [
       "Empty DataFrame\n",
       "Columns: [ProdId, Description, SalesGroup]\n",
       "Index: []"
      ]
     },
     "execution_count": 33,
     "metadata": {},
     "output_type": "execute_result"
    }
   ],
   "source": [
    "# Here we can see that there is only one R-56966 in the products \n",
    "Products.loc[Products[\"ProdId\"] == \"R-56966\"]"
   ]
  },
  {
   "cell_type": "code",
   "execution_count": 34,
   "metadata": {},
   "outputs": [
    {
     "data": {
      "text/plain": [
       "ProdId         object\n",
       "Description    object\n",
       "SalesGroup     object\n",
       "dtype: object"
      ]
     },
     "execution_count": 34,
     "metadata": {},
     "output_type": "execute_result"
    }
   ],
   "source": [
    "Products.dtypes"
   ]
  },
  {
   "cell_type": "code",
   "execution_count": 35,
   "metadata": {},
   "outputs": [
    {
     "data": {
      "text/html": [
       "<div>\n",
       "<style scoped>\n",
       "    .dataframe tbody tr th:only-of-type {\n",
       "        vertical-align: middle;\n",
       "    }\n",
       "\n",
       "    .dataframe tbody tr th {\n",
       "        vertical-align: top;\n",
       "    }\n",
       "\n",
       "    .dataframe thead th {\n",
       "        text-align: right;\n",
       "    }\n",
       "</style>\n",
       "<table border=\"1\" class=\"dataframe\">\n",
       "  <thead>\n",
       "    <tr style=\"text-align: right;\">\n",
       "      <th></th>\n",
       "      <th>ProdId</th>\n",
       "      <th>Description</th>\n",
       "      <th>SalesGroup</th>\n",
       "    </tr>\n",
       "  </thead>\n",
       "  <tbody>\n",
       "  </tbody>\n",
       "</table>\n",
       "</div>"
      ],
      "text/plain": [
       "Empty DataFrame\n",
       "Columns: [ProdId, Description, SalesGroup]\n",
       "Index: []"
      ]
     },
     "execution_count": 35,
     "metadata": {},
     "output_type": "execute_result"
    }
   ],
   "source": [
    "# Here we can see that there is only one R-68698 in the products \n",
    "Products.loc[Products[\"ProdId\"] == \"R-68698\"]"
   ]
  },
  {
   "cell_type": "code",
   "execution_count": 36,
   "metadata": {},
   "outputs": [
    {
     "data": {
      "text/plain": [
       "(342, 3)"
      ]
     },
     "execution_count": 36,
     "metadata": {},
     "output_type": "execute_result"
    }
   ],
   "source": [
    "Products.shape"
   ]
  },
  {
   "cell_type": "code",
   "execution_count": 37,
   "metadata": {},
   "outputs": [
    {
     "data": {
      "text/plain": [
       "ProdId         object\n",
       "Description    object\n",
       "SalesGroup     object\n",
       "dtype: object"
      ]
     },
     "execution_count": 37,
     "metadata": {},
     "output_type": "execute_result"
    }
   ],
   "source": [
    "Products.dtypes"
   ]
  },
  {
   "cell_type": "code",
   "execution_count": 38,
   "metadata": {},
   "outputs": [],
   "source": [
    "# Save the dataframe to csv\n",
    "path = os.path.join(os.getcwd(), \"data\", \"preprocessed\", \"Products_List.csv\")\n",
    "Products.to_csv(path, index = False, header = True)"
   ]
  },
  {
   "cell_type": "markdown",
   "metadata": {},
   "source": [
    "### Import Conversions List"
   ]
  },
  {
   "cell_type": "code",
   "execution_count": 39,
   "metadata": {
    "scrolled": true
   },
   "outputs": [],
   "source": [
    "# Read conventions.xml files in the filepath_list and construct a dataframe\n",
    "ConversionId = []\n",
    "Multiplier = []\n",
    "ConvertFromQty = []\n",
    "ConvertFromUom = []\n",
    "ConvertToQty = []\n",
    "ConvertToUom = []\n",
    "\n",
    "# From the XML file for Conversions append the id into ConversionId, multiplier into Multiplier, ConvertFrom->qty into \n",
    "# ConvertFromQty,ConvertFrom->uom into ConvertFromUom, ConvertTo->qty into ConvertToQty and and ConvertTo->uom into the\n",
    "# CovertToUom list. \n",
    "# Make a dataframe out of the 3 lists\n",
    "# Then also drop the duplicates in the Products dataframe\n",
    "\n",
    "\n",
    "for filepath in filepath_list:\n",
    "    path = filepath + '/Conversions.xml'\n",
    "    if os.path.isfile(path):\n",
    "        xtree = et.parse(path)\n",
    "        xroot = xtree.getroot()\n",
    "        for x in xtree.iterfind('Conversion'):\n",
    "            ConversionId.append(x.attrib['id'])\n",
    "            Multiplier.append(x.attrib['multiplier'])\n",
    "            ConvertFromQty.append(x.find('ConvertFrom').attrib['qty'])\n",
    "            ConvertFromUom.append(x.find('ConvertFrom').attrib['uom'])\n",
    "            ConvertToQty.append(x.find('ConvertTo').attrib['qty'])\n",
    "            ConvertToUom.append(x.find('ConvertTo').attrib['uom'])\n",
    "    \n",
    "    \n",
    "Conversions = pd.DataFrame({'ConversionId': ConversionId, 'Multiplier': Multiplier, 'ConvertFromQty': ConvertFromQty,\n",
    "                           'ConvertFromUom': ConvertFromUom, 'ConvertToQty': ConvertToQty, 'ConvertToUom': ConvertToUom}\n",
    "                          ).drop_duplicates()\n",
    "\n",
    "Conversions.reset_index(drop=True, inplace=True)"
   ]
  },
  {
   "cell_type": "code",
   "execution_count": 40,
   "metadata": {},
   "outputs": [
    {
     "data": {
      "text/html": [
       "<div>\n",
       "<style scoped>\n",
       "    .dataframe tbody tr th:only-of-type {\n",
       "        vertical-align: middle;\n",
       "    }\n",
       "\n",
       "    .dataframe tbody tr th {\n",
       "        vertical-align: top;\n",
       "    }\n",
       "\n",
       "    .dataframe thead th {\n",
       "        text-align: right;\n",
       "    }\n",
       "</style>\n",
       "<table border=\"1\" class=\"dataframe\">\n",
       "  <thead>\n",
       "    <tr style=\"text-align: right;\">\n",
       "      <th></th>\n",
       "      <th>ConversionId</th>\n",
       "      <th>Multiplier</th>\n",
       "      <th>ConvertFromQty</th>\n",
       "      <th>ConvertFromUom</th>\n",
       "      <th>ConvertToQty</th>\n",
       "      <th>ConvertToUom</th>\n",
       "    </tr>\n",
       "  </thead>\n",
       "  <tbody>\n",
       "    <tr>\n",
       "      <th>0</th>\n",
       "      <td></td>\n",
       "      <td>1.00000000</td>\n",
       "      <td>1.0000</td>\n",
       "      <td>XXX</td>\n",
       "      <td>1.0000</td>\n",
       "      <td>L</td>\n",
       "    </tr>\n",
       "    <tr>\n",
       "      <th>1</th>\n",
       "      <td></td>\n",
       "      <td>0.87719298</td>\n",
       "      <td>1.0000</td>\n",
       "      <td>1.14L</td>\n",
       "      <td>1.1400</td>\n",
       "      <td>L</td>\n",
       "    </tr>\n",
       "    <tr>\n",
       "      <th>2</th>\n",
       "      <td></td>\n",
       "      <td>0.66666667</td>\n",
       "      <td>1.0000</td>\n",
       "      <td>1.5L</td>\n",
       "      <td>1.5000</td>\n",
       "      <td>L</td>\n",
       "    </tr>\n",
       "    <tr>\n",
       "      <th>3</th>\n",
       "      <td></td>\n",
       "      <td>0.57142857</td>\n",
       "      <td>1.0000</td>\n",
       "      <td>1.75 L</td>\n",
       "      <td>1.7500</td>\n",
       "      <td>L</td>\n",
       "    </tr>\n",
       "    <tr>\n",
       "      <th>4</th>\n",
       "      <td></td>\n",
       "      <td>0.50000000</td>\n",
       "      <td>1.0000</td>\n",
       "      <td>2L</td>\n",
       "      <td>2.0000</td>\n",
       "      <td>L</td>\n",
       "    </tr>\n",
       "    <tr>\n",
       "      <th>...</th>\n",
       "      <td>...</td>\n",
       "      <td>...</td>\n",
       "      <td>...</td>\n",
       "      <td>...</td>\n",
       "      <td>...</td>\n",
       "      <td>...</td>\n",
       "    </tr>\n",
       "    <tr>\n",
       "      <th>305</th>\n",
       "      <td>I-45114</td>\n",
       "      <td>0.03333333</td>\n",
       "      <td>0.5000</td>\n",
       "      <td>fl oz</td>\n",
       "      <td>15.0000</td>\n",
       "      <td>g</td>\n",
       "    </tr>\n",
       "    <tr>\n",
       "      <th>306</th>\n",
       "      <td>I-56382</td>\n",
       "      <td>0.00100000</td>\n",
       "      <td>1.0000</td>\n",
       "      <td>L</td>\n",
       "      <td>1000.0000</td>\n",
       "      <td>g</td>\n",
       "    </tr>\n",
       "    <tr>\n",
       "      <th>307</th>\n",
       "      <td>I-65787</td>\n",
       "      <td>0.02000000</td>\n",
       "      <td>1.0000</td>\n",
       "      <td>ea</td>\n",
       "      <td>50.0000</td>\n",
       "      <td>g</td>\n",
       "    </tr>\n",
       "    <tr>\n",
       "      <th>308</th>\n",
       "      <td>I-65787</td>\n",
       "      <td>0.03529412</td>\n",
       "      <td>3.0000</td>\n",
       "      <td>oz</td>\n",
       "      <td>85.0000</td>\n",
       "      <td>g</td>\n",
       "    </tr>\n",
       "    <tr>\n",
       "      <th>309</th>\n",
       "      <td>I-65951</td>\n",
       "      <td>0.00661800</td>\n",
       "      <td>1.0000</td>\n",
       "      <td>each</td>\n",
       "      <td>151.1030</td>\n",
       "      <td>g</td>\n",
       "    </tr>\n",
       "  </tbody>\n",
       "</table>\n",
       "<p>310 rows × 6 columns</p>\n",
       "</div>"
      ],
      "text/plain": [
       "    ConversionId  Multiplier ConvertFromQty ConvertFromUom ConvertToQty  \\\n",
       "0                 1.00000000         1.0000            XXX       1.0000   \n",
       "1                 0.87719298         1.0000          1.14L       1.1400   \n",
       "2                 0.66666667         1.0000           1.5L       1.5000   \n",
       "3                 0.57142857         1.0000         1.75 L       1.7500   \n",
       "4                 0.50000000         1.0000             2L       2.0000   \n",
       "..           ...         ...            ...            ...          ...   \n",
       "305      I-45114  0.03333333         0.5000          fl oz      15.0000   \n",
       "306      I-56382  0.00100000         1.0000              L    1000.0000   \n",
       "307      I-65787  0.02000000         1.0000             ea      50.0000   \n",
       "308      I-65787  0.03529412         3.0000             oz      85.0000   \n",
       "309      I-65951  0.00661800         1.0000           each     151.1030   \n",
       "\n",
       "    ConvertToUom  \n",
       "0              L  \n",
       "1              L  \n",
       "2              L  \n",
       "3              L  \n",
       "4              L  \n",
       "..           ...  \n",
       "305            g  \n",
       "306            g  \n",
       "307            g  \n",
       "308            g  \n",
       "309            g  \n",
       "\n",
       "[310 rows x 6 columns]"
      ]
     },
     "execution_count": 40,
     "metadata": {},
     "output_type": "execute_result"
    }
   ],
   "source": [
    "# Here we can see for example that to convert 1.14 L to 1 L the multiplier is 0.877 since 1/1.14 = 0.877\n",
    "Conversions"
   ]
  },
  {
   "cell_type": "code",
   "execution_count": 41,
   "metadata": {},
   "outputs": [
    {
     "data": {
      "text/html": [
       "<div>\n",
       "<style scoped>\n",
       "    .dataframe tbody tr th:only-of-type {\n",
       "        vertical-align: middle;\n",
       "    }\n",
       "\n",
       "    .dataframe tbody tr th {\n",
       "        vertical-align: top;\n",
       "    }\n",
       "\n",
       "    .dataframe thead th {\n",
       "        text-align: right;\n",
       "    }\n",
       "</style>\n",
       "<table border=\"1\" class=\"dataframe\">\n",
       "  <thead>\n",
       "    <tr style=\"text-align: right;\">\n",
       "      <th></th>\n",
       "      <th>ConversionId</th>\n",
       "      <th>Multiplier</th>\n",
       "      <th>ConvertFromQty</th>\n",
       "      <th>ConvertFromUom</th>\n",
       "      <th>ConvertToQty</th>\n",
       "      <th>ConvertToUom</th>\n",
       "    </tr>\n",
       "  </thead>\n",
       "  <tbody>\n",
       "  </tbody>\n",
       "</table>\n",
       "</div>"
      ],
      "text/plain": [
       "Empty DataFrame\n",
       "Columns: [ConversionId, Multiplier, ConvertFromQty, ConvertFromUom, ConvertToQty, ConvertToUom]\n",
       "Index: []"
      ]
     },
     "execution_count": 41,
     "metadata": {},
     "output_type": "execute_result"
    }
   ],
   "source": [
    "# Here we can check that there are no ingredients listed since \n",
    "Conversions.loc[Conversions[\"ConversionId\"] == \"I-4582\"]"
   ]
  },
  {
   "cell_type": "code",
   "execution_count": 42,
   "metadata": {},
   "outputs": [
    {
     "name": "stdout",
     "output_type": "stream",
     "text": [
      "All unique IDs list\n",
      "\n",
      "['I-7631' 'I-3617' 'I-44059' 'I-43652' 'I-2853' 'I-11181' 'I-29389'\n",
      " 'I-6775' 'I-4461' 'I-4271' 'I-3117' 'I-4971' 'I-4467' 'I-4473' 'I-4472'\n",
      " 'I-4973' 'I-65741' 'I-27410' 'I-2305' 'I-62928' 'I-19178' 'I-1252'\n",
      " 'I-1207' 'I-18089' 'I-4495' 'I-4496' 'I-4491' 'I-3118' 'I-3119' 'I-17203'\n",
      " 'I-6872' 'I-4507' 'I-3130' 'I-3133' 'I-3141' 'I-3619' 'I-72463' 'I-2567'\n",
      " 'I-3143' 'I-11556' 'I-72464' 'I-57743' 'I-4516' 'I-3144' 'I-7935'\n",
      " 'I-3145' 'I-3146' 'I-3149' 'I-43544' 'I-3838' 'I-37002' 'I-3846' 'I-3837'\n",
      " 'I-10869' 'I-4521' 'I-13050' 'I-4288' 'I-4535' 'I-4531' 'I-72753'\n",
      " 'I-43648' 'I-4538' 'I-41921' 'I-73416' 'I-73415' 'I-31126' 'I-70023'\n",
      " 'I-32258' 'I-1257' 'I-65951' 'I-72414' 'I-69988' 'I-69728' 'I-8060'\n",
      " 'I-2074' 'I-60804' 'I-4550' 'I-4555' 'I-4558' 'I-4557' 'I-4556' 'I-4560'\n",
      " 'I-3159' 'I-3586' 'I-11214' 'I-3620' 'I-4568' 'I-4589' 'I-4572' 'I-11549'\n",
      " 'I-4574' 'I-4975' 'I-4593' 'I-4594' 'I-56920' 'I-3621' 'I-4598' 'I-4605'\n",
      " 'I-4599' 'I-39077' 'I-34504' 'I-36383' 'I-7953' 'I-2078' 'I-17152'\n",
      " 'I-9344' 'I-47399' 'I-11903' 'I-2110' 'I-14177' 'I-14181' 'I-71937'\n",
      " 'I-2117' 'I-2119' 'I-43721' 'I-2081' 'I-51962' 'I-02341' 'I-2122'\n",
      " 'I-2126' 'I-54711' 'I-17615' 'I-14179' 'I-11240' 'I-2140' 'I-2141'\n",
      " 'I-17617' 'I-2144' 'I-2068' 'I-2146' 'I-68966' 'I-17618' 'I-19152'\n",
      " 'I-4976' 'I-3992' 'I-31898' 'I-64468' 'I-3979' 'I-65787' 'I-3965'\n",
      " 'I-4007' 'I-4027' 'I-4010' 'I-4016' 'I-19665' 'I-37478' 'I-37477'\n",
      " 'I-41492' 'I-43615' 'I-5975' 'I-40451' 'I-3622' 'I-3623' 'I-3624'\n",
      " 'I-19283' 'I-3222' 'I-51590' 'I-57545' 'I-65714' 'I-1254' 'I-72756'\n",
      " 'I-1253' 'I-2979' 'I-3625' 'I-3627' 'I-11215' 'I-3628' 'I-2980' 'I-40951'\n",
      " 'I-3223' 'I-3225' 'I-3226' 'I-17557' 'I-56844' 'I-3629' 'I-50750'\n",
      " 'I-11094' 'I-4978' 'I-6875' 'I-3231' 'I-37657' 'I-3233' 'I-3239' 'I-2217'\n",
      " 'I-2586' 'I-29688' 'I-72427' 'I-4626' 'I-6832' 'I-3630' 'I-42360'\n",
      " 'I-9832' 'I-20206' 'I-4637' 'I-32268' 'I-46598' 'I-3272' 'I-2159'\n",
      " 'I-2155' 'I-2157' 'I-2167' 'I-14014' 'I-4642' 'I-4640' 'I-1197' 'I-20348'\n",
      " 'I-3284' 'I-3898' 'I-3753' 'I-13903' 'I-51856' 'I-1120' 'I-2986' 'I-3290'\n",
      " 'I-3291' 'I-10865' 'I-2603' 'I-2612' 'I-4655' 'I-11207' 'I-4657' 'I-3632'\n",
      " 'I-51440' 'I-4658' 'I-3633' 'I-9685' 'I-4660' 'I-3079' 'I-9830' 'I-29665'\n",
      " 'I-29663' 'I-28899' 'I-17563' 'I-2306' 'I-2308' 'I-2310' 'I-17675'\n",
      " 'I-71921' 'I-22493' 'I-23753' 'I-4508' 'I-4617' 'I-4341' 'I-4695'\n",
      " 'I-4708' 'I-4724' 'I-4767' 'I-4772' 'I-4847' 'I-4983' 'I-4848' 'I-4917'\n",
      " 'I-4918' 'I-4919' 'I-3321' 'I-71665' 'I-1792' 'I-1813' 'I-6443' 'I-1820'\n",
      " 'I-63091' 'I-1816' 'I-1821' 'I-11182' 'I-52016' 'I-4699' 'I-4698'\n",
      " 'I-11216' 'I-17932' 'I-3336' 'I-3337' 'I-54025' 'I-11312' 'I-4703'\n",
      " 'I-4705' 'I-6876' 'I-4709' 'I-2893' 'I-3340' 'I-4463' 'I-4690' 'I-4677'\n",
      " 'I-4673' 'I-4693' 'I-6777' 'I-4915' 'I-4712' 'I-13004' 'I-1186' 'I-1187'\n",
      " 'I-64492' 'I-1232' 'I-14190' 'I-11664' 'I-15032' 'I-12478' 'I-3342'\n",
      " 'I-5003' 'I-3636' 'I-60772' 'I-3348' 'I-3077' 'I-3352' 'I-72877'\n",
      " 'I-37005' 'I-2220' 'I-02378' 'I-3355' 'I-8058' 'I-3356' 'I-6791'\n",
      " 'I-71306' 'I-3360' 'I-5009' 'I-5006' 'I-01239' 'I-3358' 'I-4727' 'I-8395'\n",
      " 'I-8340' 'I-21188' 'I-4725' 'I-4729' 'I-4731' 'I-41022' 'I-4732'\n",
      " 'I-31021' 'I-4735' 'I-4737' 'I-3365' 'I-3367' 'I-2897' 'I-3368' 'I-3370'\n",
      " 'I-2898' 'I-3637' 'I-34956' 'I-1028' 'I-14278' 'I-7912' 'I-73414'\n",
      " 'I-73417' 'I-19295' 'I-19464' 'I-3083' 'I-36577' 'I-3089' 'I-21186'\n",
      " 'I-3086' 'I-30178' 'I-3701' 'I-3373' 'I-10866' 'I-7389' 'I-3381' 'I-3638'\n",
      " 'I-11195' 'I-4308' 'I-3182' 'I-3006' 'I-56382' 'I-71925' 'I-3386'\n",
      " 'I-3387' 'I-3388' 'I-26014' 'I-3390' 'I-6006' 'I-3389' 'I-3391' 'I-3392'\n",
      " 'I-11241' 'I-6829' 'I-4745' 'I-3639' 'I-4742' 'I-4743' 'I-40968' 'I-4375'\n",
      " 'I-4679' 'I-10482' 'I-17150' 'I-5010' 'I-4757' 'I-6807' 'I-4747' 'I-4750'\n",
      " 'I-5011' 'I-2911' 'I-3243' 'I-41181' 'I-4771' 'I-3640' 'I-3641' 'I-5978'\n",
      " 'I-3316' 'I-4775' 'I-16348' 'I-5970' 'I-3408' 'I-37842' 'I-3416' 'I-2648'\n",
      " 'I-3424' 'I-2850' 'I-41267' 'I-3428' 'I-3245' 'I-3429' 'I-11814'\n",
      " 'I-16215' 'I-9687' 'I-3431' 'I-3433' 'I-3434' 'I-11813' 'I-3435'\n",
      " 'I-19735' 'I-69060' 'I-69062' 'I-41924' 'I-5012' 'I-11656' 'I-2656'\n",
      " 'I-35685' 'I-4895' 'I-3643' 'I-2051' 'I-6812' 'I-11172' 'I-3642' 'I-3644'\n",
      " 'I-3447' 'I-3449' 'I-30504' 'I-7787' 'I-3451' 'I-3646' 'I-42230' 'I-3649'\n",
      " 'I-40458' 'I-22444' 'I-72760' 'I-4785' 'I-35792' 'I-4787' 'I-30068'\n",
      " 'I-4792' 'I-4832' 'I-4833' 'I-4796' 'I-4797' 'I-2658' 'I-6017' 'I-3454'\n",
      " 'I-1126' 'I-1127' 'I-30101' 'I-01293' 'I-3460' 'I-1034' 'I-1035'\n",
      " 'I-22916' 'I-3851' 'I-3853' 'I-3854' 'I-3855' 'I-3856' 'I-43646' 'I-4815'\n",
      " 'I-13252' 'I-33795' 'I-4818' 'I-4819' 'I-8374' 'I-65576' 'I-3588'\n",
      " 'I-3468' 'I-3016' 'I-15329' 'I-3779' 'I-11185' 'I-4826' 'I-28909'\n",
      " 'I-3471' 'I-4830' 'I-3472' 'I-65882' 'I-5016' 'I-3475' 'I-36794'\n",
      " 'I-36672' 'I-3477' 'I-3478' 'I-3099' 'I-3635' 'I-26887' 'I-58278'\n",
      " 'I-5115' 'I-17584' 'I-11101' 'I-13226' 'I-8281' 'I-65770' 'I-6466'\n",
      " 'I-3497' 'I-6026' 'I-12176' 'I-13302' 'I-26960' 'I-3507' 'I-17054'\n",
      " 'I-3511' 'I-9379' 'I-45114' 'I-10864' 'I-3371' 'I-3519' 'I-3520' 'I-7705'\n",
      " 'I-14773' 'I-2697' 'I-2699' 'I-71070' 'I-54207' 'I-3538' 'I-56710'\n",
      " 'I-3545' 'I-47774' 'I-63875' 'I-3557' 'I-3560' 'I-22026' 'I-60805'\n",
      " 'I-3572' 'I-3575' 'I-27407' 'I-8140' 'I-17667' 'I-2317' 'I-57497'\n",
      " 'I-50575' 'I-13303' 'I-57496' 'I-72222' 'I-3582' 'I-3583' 'I-37476'\n",
      " 'I-11211' 'I-3312' 'I-40944' 'I-3587' 'I-3590' 'I-3591' 'I-19143'\n",
      " 'I-3589' 'I-4894' 'I-17593' 'I-28904' 'I-3595' 'I-2319' 'I-2254' 'I-9381'\n",
      " 'I-25290' 'I-11842' 'I-5021' 'I-19610' 'I-4488' 'I-5022' 'I-4896'\n",
      " 'I-2899' 'I-18915' 'I-4450' 'I-4509' 'I-4437' 'I-4898' 'I-25504'\n",
      " 'I-12325' 'I-11218' 'I-3656' 'I-6820' 'I-28907' 'I-28920' 'I-4905'\n",
      " 'I-4907' 'I-48356' 'I-6028' 'I-3658' 'I-3657' 'I-3660' 'I-3661' 'I-35336'\n",
      " 'I-16060' 'I-3592' 'I-3667' 'I-30167' 'I-4913' 'I-16979' 'I-4914'\n",
      " 'I-3670' 'I-3671' 'I-60843' 'I-3318' 'I-07630' 'I-71932' 'I-7388'\n",
      " 'I-3110' 'I-44341' 'I-4920' 'I-19737' 'I-3676' 'I-3677' 'I-3679' 'I-3680'\n",
      " 'I-2948' 'I-63866' 'I-3681' 'I-18803' 'I-4927' 'I-17159' 'I-35333'\n",
      " 'I-35791' 'I-4933' 'I-1141' 'I-15358' 'I-1143' 'I-9341' 'I-1152' 'I-3688'\n",
      " 'I-61712' 'I-3690' 'I-9295' 'I-7065' 'I-3654' 'I-40436' 'I-3113' 'I-9382'\n",
      " 'I-16186' 'I-2953' 'I-3692' 'I-3694' 'I-3695' 'I-3696' 'I-3697' 'I-3698'\n",
      " 'I-6825' 'I-3738' 'I-62651' 'I-09837' 'I-4949' 'I-72924' 'I-73324'\n",
      " 'I-7949' 'I-7061' 'I-7060' 'I-4951' 'I-11669' 'I-29081' 'I-62559'\n",
      " 'I-10791' 'I-43722' 'I-6850' 'I-72037' 'I-68111' 'I-1490' 'I-1489'\n",
      " 'I-4967']\n",
      "\n",
      "\n",
      "All unique Conversions list\n",
      "\n",
      "['' 'I-1120' 'I-1197' 'I-1232' 'I-1813' 'I-1820' 'I-1821' 'I-2074'\n",
      " 'I-2159' 'I-2217' 'I-2220' 'I-02378' 'I-2254' 'I-2306' 'I-2310' 'I-3113'\n",
      " 'I-3141' 'I-3143' 'I-3144' 'I-3145' 'I-3146' 'I-3149' 'I-3159' 'I-3223'\n",
      " 'I-3225' 'I-3284' 'I-3321' 'I-3342' 'I-3348' 'I-3356' 'I-3365' 'I-3367'\n",
      " 'I-3370' 'I-3386' 'I-3387' 'I-3388' 'I-3389' 'I-3390' 'I-3391' 'I-3392'\n",
      " 'I-3435' 'I-3449' 'I-01293' 'I-3468' 'I-3497' 'I-3545' 'I-3572' 'I-3575'\n",
      " 'I-3582' 'I-3589' 'I-3590' 'I-3591' 'I-3617' 'I-3619' 'I-3620' 'I-3621'\n",
      " 'I-3622' 'I-3623' 'I-3624' 'I-3625' 'I-3628' 'I-3629' 'I-3630' 'I-3632'\n",
      " 'I-3633' 'I-3635' 'I-3636' 'I-3637' 'I-3638' 'I-3639' 'I-3640' 'I-3641'\n",
      " 'I-3642' 'I-3643' 'I-3644' 'I-3646' 'I-3649' 'I-3654' 'I-3657' 'I-3658'\n",
      " 'I-3660' 'I-3661' 'I-3670' 'I-3671' 'I-3676' 'I-3679' 'I-3681' 'I-3692'\n",
      " 'I-3695' 'I-3698' 'I-3738' 'I-3853' 'I-3854' 'I-4271' 'I-4341' 'I-4375'\n",
      " 'I-4450' 'I-4461' 'I-4472' 'I-4473' 'I-4507' 'I-4557' 'I-4560' 'I-4574'\n",
      " 'I-4593' 'I-4594' 'I-4598' 'I-4599' 'I-4626' 'I-4640' 'I-4677' 'I-4679'\n",
      " 'I-4690' 'I-4693' 'I-4698' 'I-4699' 'I-4709' 'I-4712' 'I-4745' 'I-4772'\n",
      " 'I-4826' 'I-4894' 'I-4915' 'I-4949' 'I-09837' 'I-6006' 'I-6017' 'I-6443'\n",
      " 'I-6775' 'I-6777' 'I-6791' 'I-6812' 'I-6832' 'P-6888' 'I-7060' 'I-7061'\n",
      " 'I-8058' 'I-8060' 'I-9295' 'I-9381' 'I-11656' 'I-11664' 'I-12478'\n",
      " 'I-13303' 'I-14181' 'I-17203' 'I-17618' 'I-19283' 'I-19737' 'I-20348'\n",
      " 'I-22026' 'I-26014' 'I-26887' 'I-27407' 'I-31126' 'I-43646' 'I-45114'\n",
      " 'I-56382' 'I-65787' 'I-65951']\n"
     ]
    }
   ],
   "source": [
    "all_id_list = Items[\"ItemId\"].unique()\n",
    "all_conv_list = Conversions[\"ConversionId\"].unique()\n",
    "\n",
    "print(\"All unique IDs list\\n\")\n",
    "print(all_id_list)\n",
    "print(\"\\n\")\n",
    "print(\"All unique Conversions list\\n\")\n",
    "print(all_conv_list)"
   ]
  },
  {
   "cell_type": "code",
   "execution_count": 43,
   "metadata": {},
   "outputs": [
    {
     "name": "stdout",
     "output_type": "stream",
     "text": [
      "509\n"
     ]
    }
   ],
   "source": [
    "# Here we have the number of items in the list that are a part of the \"all_id_list\" but not part of the \"all_conv_list\"\n",
    "missing_conv_id = []\n",
    "\n",
    "for item in all_id_list:\n",
    "    if item not in all_conv_list:\n",
    "        missing_conv_id.append(item)\n",
    "        \n",
    "missing_conv_id\n",
    "print(len(missing_conv_id))"
   ]
  },
  {
   "cell_type": "code",
   "execution_count": 44,
   "metadata": {},
   "outputs": [
    {
     "data": {
      "text/plain": [
       "(310, 6)"
      ]
     },
     "execution_count": 44,
     "metadata": {},
     "output_type": "execute_result"
    }
   ],
   "source": [
    "Conversions.shape"
   ]
  },
  {
   "cell_type": "code",
   "execution_count": 45,
   "metadata": {},
   "outputs": [
    {
     "data": {
      "text/html": [
       "<div>\n",
       "<style scoped>\n",
       "    .dataframe tbody tr th:only-of-type {\n",
       "        vertical-align: middle;\n",
       "    }\n",
       "\n",
       "    .dataframe tbody tr th {\n",
       "        vertical-align: top;\n",
       "    }\n",
       "\n",
       "    .dataframe thead th {\n",
       "        text-align: right;\n",
       "    }\n",
       "</style>\n",
       "<table border=\"1\" class=\"dataframe\">\n",
       "  <thead>\n",
       "    <tr style=\"text-align: right;\">\n",
       "      <th></th>\n",
       "      <th>ConversionId</th>\n",
       "      <th>Multiplier</th>\n",
       "      <th>ConvertFromQty</th>\n",
       "      <th>ConvertFromUom</th>\n",
       "      <th>ConvertToQty</th>\n",
       "      <th>ConvertToUom</th>\n",
       "    </tr>\n",
       "  </thead>\n",
       "  <tbody>\n",
       "  </tbody>\n",
       "</table>\n",
       "</div>"
      ],
      "text/plain": [
       "Empty DataFrame\n",
       "Columns: [ConversionId, Multiplier, ConvertFromQty, ConvertFromUom, ConvertToQty, ConvertToUom]\n",
       "Index: []"
      ]
     },
     "execution_count": 45,
     "metadata": {},
     "output_type": "execute_result"
    }
   ],
   "source": [
    "Conversions.loc[Conversions[\"ConversionId\"] == \"I-29389\"]"
   ]
  },
  {
   "cell_type": "code",
   "execution_count": 46,
   "metadata": {
    "scrolled": false
   },
   "outputs": [
    {
     "data": {
      "text/plain": [
       "ConversionId      object\n",
       "Multiplier        object\n",
       "ConvertFromQty    object\n",
       "ConvertFromUom    object\n",
       "ConvertToQty      object\n",
       "ConvertToUom      object\n",
       "dtype: object"
      ]
     },
     "execution_count": 46,
     "metadata": {},
     "output_type": "execute_result"
    }
   ],
   "source": [
    "Conversions.dtypes"
   ]
  },
  {
   "cell_type": "code",
   "execution_count": 47,
   "metadata": {},
   "outputs": [],
   "source": [
    "# Save the dataframe to csv\n",
    "path = os.path.join(os.getcwd(), \"data\", \"preprocessed\", \"Conversions_List.csv\")\n",
    "Conversions.to_csv(path, index = False, header = True)"
   ]
  },
  {
   "cell_type": "markdown",
   "metadata": {},
   "source": [
    "***\n",
    "## Data Summary"
   ]
  },
  {
   "cell_type": "code",
   "execution_count": 48,
   "metadata": {},
   "outputs": [
    {
     "data": {
      "text/html": [
       "<div>\n",
       "<style scoped>\n",
       "    .dataframe tbody tr th:only-of-type {\n",
       "        vertical-align: middle;\n",
       "    }\n",
       "\n",
       "    .dataframe tbody tr th {\n",
       "        vertical-align: top;\n",
       "    }\n",
       "\n",
       "    .dataframe thead th {\n",
       "        text-align: right;\n",
       "    }\n",
       "</style>\n",
       "<table border=\"1\" class=\"dataframe\">\n",
       "  <thead>\n",
       "    <tr style=\"text-align: right;\">\n",
       "      <th></th>\n",
       "      <th>count</th>\n",
       "      <th>columns</th>\n",
       "    </tr>\n",
       "  </thead>\n",
       "  <tbody>\n",
       "    <tr>\n",
       "      <th>Items</th>\n",
       "      <td>667</td>\n",
       "      <td>7</td>\n",
       "    </tr>\n",
       "    <tr>\n",
       "      <th>Preps</th>\n",
       "      <td>776</td>\n",
       "      <td>5</td>\n",
       "    </tr>\n",
       "    <tr>\n",
       "      <th>Ingredients</th>\n",
       "      <td>5112</td>\n",
       "      <td>6</td>\n",
       "    </tr>\n",
       "    <tr>\n",
       "      <th>Products</th>\n",
       "      <td>342</td>\n",
       "      <td>3</td>\n",
       "    </tr>\n",
       "    <tr>\n",
       "      <th>Conversions</th>\n",
       "      <td>310</td>\n",
       "      <td>6</td>\n",
       "    </tr>\n",
       "  </tbody>\n",
       "</table>\n",
       "</div>"
      ],
      "text/plain": [
       "             count  columns\n",
       "Items          667        7\n",
       "Preps          776        5\n",
       "Ingredients   5112        6\n",
       "Products       342        3\n",
       "Conversions    310        6"
      ]
     },
     "execution_count": 48,
     "metadata": {},
     "output_type": "execute_result"
    }
   ],
   "source": [
    "# Summary of raw data imported for evaluation\n",
    "# Here we have a summary of the number of items, preps, ingredients, products, conversions\n",
    "\n",
    "datasum = pd.DataFrame([Items.shape, Preps.shape, Ingredients.shape, Products.shape, Conversions.shape],\n",
    "                       columns = ['count', 'columns'], \n",
    "                       index = ['Items', 'Preps', 'Ingredients', 'Products', 'Conversions'])\n",
    "datasum"
   ]
  },
  {
   "cell_type": "code",
   "execution_count": null,
   "metadata": {},
   "outputs": [],
   "source": []
  },
  {
   "cell_type": "code",
   "execution_count": null,
   "metadata": {},
   "outputs": [],
   "source": []
  }
 ],
 "metadata": {
  "kernelspec": {
   "display_name": "Python 3 (ipykernel)",
   "language": "python",
   "name": "python3"
  },
  "language_info": {
   "codemirror_mode": {
    "name": "ipython",
    "version": 3
   },
   "file_extension": ".py",
   "mimetype": "text/x-python",
   "name": "python",
   "nbconvert_exporter": "python",
   "pygments_lexer": "ipython3",
   "version": "3.12.3"
  }
 },
 "nbformat": 4,
 "nbformat_minor": 4
}
