{
 "cells": [
  {
   "cell_type": "markdown",
   "metadata": {},
   "source": [
    "![](ubc_header.png)"
   ]
  },
  {
   "cell_type": "markdown",
   "metadata": {},
   "source": [
    "# Climate-Friendly Food Systems (CFFS) Labelling Project\n",
    "\n",
    "### The University of British Columbia\n",
    "\n",
    "****\n",
    "\n",
    "## Part I: Data Preprocessing"
   ]
  },
  {
   "cell_type": "markdown",
   "metadata": {},
   "source": [
    "## Set up and Import Libraries"
   ]
  },
  {
   "cell_type": "code",
   "execution_count": 1,
   "metadata": {},
   "outputs": [],
   "source": [
    "#pip install -r requirements.txt"
   ]
  },
  {
   "cell_type": "code",
   "execution_count": 2,
   "metadata": {},
   "outputs": [],
   "source": [
    "import numpy as np\n",
    "import pandas as pd\n",
    "import matplotlib.pyplot as plt\n",
    "import glob\n",
    "import os\n",
    "import csv\n",
    "from itertools import islice\n",
    "from decimal import Decimal\n",
    "import xml.etree.ElementTree as et\n",
    "from xml.etree.ElementTree import parse"
   ]
  },
  {
   "cell_type": "code",
   "execution_count": 3,
   "metadata": {},
   "outputs": [
    {
     "name": "stdout",
     "output_type": "stream",
     "text": [
      "/Users/vivaanwadhwa/Documents/GitHub/CFFS_sharon_2024\n"
     ]
    }
   ],
   "source": [
    "# RUN ONLY ONCE\n",
    "# os.chdir is used to change the current directory to the specified path\n",
    "os.chdir(\"../\") # Sets path to the repo folder as it is one level above where this file exists!\n",
    "path = os.getcwd()\n",
    "print(path)"
   ]
  },
  {
   "cell_type": "markdown",
   "metadata": {},
   "source": [
    "****\n",
    "\n",
    "## Load Data Files\n",
    "\n",
    "### Set Data File Path"
   ]
  },
  {
   "cell_type": "code",
   "execution_count": 4,
   "metadata": {},
   "outputs": [
    {
     "data": {
      "text/plain": [
       "['/Users/vivaanwadhwa/Documents/GitHub/CFFS_sharon_2024/data/raw/SAGE_CATERING/SageCatering_26Nov.oc',\n",
       " '/Users/vivaanwadhwa/Documents/GitHub/CFFS_sharon_2024/data/raw/SAGE_CATERING/SageCatering_12thNov.oc']"
      ]
     },
     "execution_count": 4,
     "metadata": {},
     "output_type": "execute_result"
    }
   ],
   "source": [
    "# Select data file path for the chosen venue and time range where the recipes data stored\n",
    "\n",
    "# OK\n",
    "# filepath_list = glob.glob(os.path.join(os.getcwd(), \"data\", \"raw\", \"OK\", \"*.oc\"))\n",
    "\n",
    "# Totem\n",
    "# filepath_list = glob.glob(os.path.join(os.getcwd(), \"data\", \"raw\", \"Feast\", \"*.oc\"))\n",
    "\n",
    "# Gather\n",
    "# filepath_list = glob.glob(os.path.join(os.getcwd(), \"data\", \"raw\", \"Gather\", \"*.oc\"))\n",
    "\n",
    "# Blueberry 2024\n",
    "# filepath_list = glob.glob(os.path.join(os.getcwd(), \"data\", \"raw\", \"BLUEBERRY_FESTIVAL_24\"))\n",
    "\n",
    "# Harvest 2024\n",
    "# filepath_list = glob.glob(os.path.join(os.getcwd(), \"data\", \"raw\", \"HARVEST_FESTIVAL_24\"))\n",
    "\n",
    "#Mercante \n",
    "# filepath_list = glob.glob(os.path.join(os.getcwd(), \"data\", \"raw\", \"MERCANTE\", \"*.oc\"))\n",
    "\n",
    "#Sage Catering\n",
    "filepath_list = glob.glob(os.path.join(os.getcwd(), \"data\", \"raw\", \"SAGE_CATERING\", \"*.oc\"))\n",
    "\n",
    "filepath_list"
   ]
  },
  {
   "cell_type": "markdown",
   "metadata": {},
   "source": [
    "### Import Items List"
   ]
  },
  {
   "cell_type": "code",
   "execution_count": 5,
   "metadata": {
    "scrolled": true
   },
   "outputs": [],
   "source": [
    "# Read items.xml files in the filepath_list and construct a dataframe\n",
    "ItemId = []\n",
    "Description = []\n",
    "CaseQty = []\n",
    "CaseUOM = []\n",
    "PakQty = []\n",
    "PakUOM = []\n",
    "InventoryGroup = []\n",
    "\n",
    "\n",
    "# from the items xml file, findtext of CaseQty, CaseUOM, PakQty, PakUOM, and InventoryGroup\n",
    "# then append it on the lists above\n",
    "\n",
    "for filepath in filepath_list:\n",
    "    path = filepath + '/Items.xml'\n",
    "    if os.path.isfile(path):\n",
    "        xtree = et.parse(path)\n",
    "        xroot = xtree.getroot()\n",
    "        for item in xtree.iterfind('Item'):\n",
    "            ItemId.append(item.attrib['id'])\n",
    "            Description.append(item.findtext('Description'))\n",
    "            CaseQty.append(item.findtext('CaseQty'))\n",
    "            CaseUOM.append(item.findtext('CaseUOM'))\n",
    "            PakQty.append(item.findtext('PakQty'))\n",
    "            PakUOM.append(item.findtext('PakUOM'))\n",
    "            InventoryGroup.append(item.findtext('InventoryGroup'))\n",
    "\n",
    "            \n",
    "# Create a dataframe from the lists created above.\n",
    "        \n",
    "Items = pd.DataFrame({'ItemId': ItemId, 'Description': Description, 'CaseQty': CaseQty, \n",
    "                      'CaseUOM': CaseUOM, 'PakQty': PakQty, 'PakUOM': PakUOM, 'InventoryGroup': InventoryGroup}\n",
    "                    )\n",
    "\n",
    "Items.drop_duplicates(inplace=True)\n",
    "\n",
    "Items.reset_index(drop=True, inplace=True)"
   ]
  },
  {
   "cell_type": "code",
   "execution_count": 6,
   "metadata": {},
   "outputs": [],
   "source": [
    "# creates a new array with unique ItemIds\n",
    "all_id_list = Items[\"ItemId\"].unique()"
   ]
  },
  {
   "cell_type": "code",
   "execution_count": 7,
   "metadata": {},
   "outputs": [
    {
     "data": {
      "text/html": [
       "<div>\n",
       "<style scoped>\n",
       "    .dataframe tbody tr th:only-of-type {\n",
       "        vertical-align: middle;\n",
       "    }\n",
       "\n",
       "    .dataframe tbody tr th {\n",
       "        vertical-align: top;\n",
       "    }\n",
       "\n",
       "    .dataframe thead th {\n",
       "        text-align: right;\n",
       "    }\n",
       "</style>\n",
       "<table border=\"1\" class=\"dataframe\">\n",
       "  <thead>\n",
       "    <tr style=\"text-align: right;\">\n",
       "      <th></th>\n",
       "      <th>ItemId</th>\n",
       "      <th>Description</th>\n",
       "      <th>CaseQty</th>\n",
       "      <th>CaseUOM</th>\n",
       "      <th>PakQty</th>\n",
       "      <th>PakUOM</th>\n",
       "      <th>InventoryGroup</th>\n",
       "    </tr>\n",
       "  </thead>\n",
       "  <tbody>\n",
       "  </tbody>\n",
       "</table>\n",
       "</div>"
      ],
      "text/plain": [
       "Empty DataFrame\n",
       "Columns: [ItemId, Description, CaseQty, CaseUOM, PakQty, PakUOM, InventoryGroup]\n",
       "Index: []"
      ]
     },
     "execution_count": 7,
     "metadata": {},
     "output_type": "execute_result"
    }
   ],
   "source": [
    "# None of the items are egg yolk liq\n",
    "Items.loc[Items[\"Description\"] == \"Egg Yolk Liq\"]"
   ]
  },
  {
   "cell_type": "code",
   "execution_count": 8,
   "metadata": {},
   "outputs": [
    {
     "data": {
      "text/html": [
       "<div>\n",
       "<style scoped>\n",
       "    .dataframe tbody tr th:only-of-type {\n",
       "        vertical-align: middle;\n",
       "    }\n",
       "\n",
       "    .dataframe tbody tr th {\n",
       "        vertical-align: top;\n",
       "    }\n",
       "\n",
       "    .dataframe thead th {\n",
       "        text-align: right;\n",
       "    }\n",
       "</style>\n",
       "<table border=\"1\" class=\"dataframe\">\n",
       "  <thead>\n",
       "    <tr style=\"text-align: right;\">\n",
       "      <th></th>\n",
       "      <th>ItemId</th>\n",
       "      <th>Description</th>\n",
       "      <th>CaseQty</th>\n",
       "      <th>CaseUOM</th>\n",
       "      <th>PakQty</th>\n",
       "      <th>PakUOM</th>\n",
       "      <th>InventoryGroup</th>\n",
       "    </tr>\n",
       "  </thead>\n",
       "  <tbody>\n",
       "  </tbody>\n",
       "</table>\n",
       "</div>"
      ],
      "text/plain": [
       "Empty DataFrame\n",
       "Columns: [ItemId, Description, CaseQty, CaseUOM, PakQty, PakUOM, InventoryGroup]\n",
       "Index: []"
      ]
     },
     "execution_count": 8,
     "metadata": {},
     "output_type": "execute_result"
    }
   ],
   "source": [
    "# Sumplemental option for egg, vegan option\n",
    "Items.loc[Items[\"ItemId\"] == \"I-68700\"]"
   ]
  },
  {
   "cell_type": "code",
   "execution_count": 9,
   "metadata": {},
   "outputs": [
    {
     "data": {
      "text/plain": [
       "[]"
      ]
     },
     "execution_count": 9,
     "metadata": {},
     "output_type": "execute_result"
    }
   ],
   "source": [
    "# Gives you the list of breads\n",
    "breadlist = []\n",
    "\n",
    "\n",
    "# If the items in the Items list is a \"LOAF\", \"SANDWICH\", or \"BREAD\" then we should add it in the breadlist\n",
    "# We append it onto the breadlist at position row[\"ItemId\"]\n",
    "for ind, row in Items.iterrows():\n",
    "    if (\"LOAF\" or \"SANDWICH\" \"BREAD\") in row[\"Description\"]:\n",
    "        breadlist.append(row[\"ItemId\"])\n",
    "\n",
    "breadlist"
   ]
  },
  {
   "cell_type": "code",
   "execution_count": 10,
   "metadata": {},
   "outputs": [],
   "source": [
    "Items = Items[~Items[\"InventoryGroup\"].isin([\"DISPOSABLES\", \"SUPPLY\"])]"
   ]
  },
  {
   "cell_type": "code",
   "execution_count": 11,
   "metadata": {},
   "outputs": [
    {
     "data": {
      "text/plain": [
       "(220, 7)"
      ]
     },
     "execution_count": 11,
     "metadata": {},
     "output_type": "execute_result"
    }
   ],
   "source": [
    "# Based on info below there are 486 rows and 7 columns\n",
    "Items.shape"
   ]
  },
  {
   "cell_type": "code",
   "execution_count": 12,
   "metadata": {},
   "outputs": [
    {
     "data": {
      "text/plain": [
       "ItemId            object\n",
       "Description       object\n",
       "CaseQty           object\n",
       "CaseUOM           object\n",
       "PakQty            object\n",
       "PakUOM            object\n",
       "InventoryGroup    object\n",
       "dtype: object"
      ]
     },
     "execution_count": 12,
     "metadata": {},
     "output_type": "execute_result"
    }
   ],
   "source": [
    "Items.dtypes"
   ]
  },
  {
   "cell_type": "code",
   "execution_count": 13,
   "metadata": {},
   "outputs": [],
   "source": [
    "# Save the dataframe to csv\n",
    "path = os.path.join(os.getcwd(), \"data\", \"preprocessed\", \"Items_List.csv\")\n",
    "Items.to_csv(path, index = False, header = True)"
   ]
  },
  {
   "cell_type": "markdown",
   "metadata": {},
   "source": [
    "### Import Ingredients List"
   ]
  },
  {
   "cell_type": "code",
   "execution_count": 14,
   "metadata": {},
   "outputs": [],
   "source": [
    "# Read ingredients.xml files in the filepath_list and construct a dataframe\n",
    "IngredientId = []\n",
    "Conversion = []\n",
    "InvFactor = []\n",
    "Qty = []\n",
    "Recipe = []\n",
    "Uom = []\n",
    "\n",
    "# Using the Ingredients XML file, we extract attributes containing ingredients, conversion, invFactor, qty, recipe, and uom. \n",
    "# Then we append it onto the IngredientId, Coversion, InvFactor, Qty, Recipe, and Uom lists\n",
    "# Then we create a dataframe using the lists created. \n",
    "\n",
    "for filepath in filepath_list:\n",
    "    path = filepath + '/Ingredients.xml'\n",
    "    if os.path.isfile(path):\n",
    "        xtree = et.parse(path)\n",
    "        xroot = xtree.getroot()\n",
    "        for x in xtree.iterfind('Ingredient'):\n",
    "            IngredientId.append(x.attrib['ingredient'])\n",
    "            Conversion.append(x.attrib['conversion'])\n",
    "            InvFactor.append(x.attrib['invFactor'])\n",
    "            Qty.append(x.attrib['qty'])\n",
    "            Recipe.append(x.attrib['recipe'])\n",
    "            Uom.append(x.attrib['uom'])\n",
    "    \n",
    "Ingredients = pd.DataFrame({'IngredientId': IngredientId, 'Qty': Qty,'Uom': Uom, 'Conversion': Conversion, \n",
    "                      'InvFactor': InvFactor,'Recipe': Recipe}).drop_duplicates()\n",
    "Ingredients.drop_duplicates(subset=[\"IngredientId\", \"Recipe\"], inplace=True)\n",
    "\n",
    "Ingredients.reset_index(drop=True, inplace=True)"
   ]
  },
  {
   "cell_type": "code",
   "execution_count": 15,
   "metadata": {
    "scrolled": false
   },
   "outputs": [
    {
     "data": {
      "text/html": [
       "<div>\n",
       "<style scoped>\n",
       "    .dataframe tbody tr th:only-of-type {\n",
       "        vertical-align: middle;\n",
       "    }\n",
       "\n",
       "    .dataframe tbody tr th {\n",
       "        vertical-align: top;\n",
       "    }\n",
       "\n",
       "    .dataframe thead th {\n",
       "        text-align: right;\n",
       "    }\n",
       "</style>\n",
       "<table border=\"1\" class=\"dataframe\">\n",
       "  <thead>\n",
       "    <tr style=\"text-align: right;\">\n",
       "      <th></th>\n",
       "      <th>IngredientId</th>\n",
       "      <th>Qty</th>\n",
       "      <th>Uom</th>\n",
       "      <th>Conversion</th>\n",
       "      <th>InvFactor</th>\n",
       "      <th>Recipe</th>\n",
       "    </tr>\n",
       "  </thead>\n",
       "  <tbody>\n",
       "  </tbody>\n",
       "</table>\n",
       "</div>"
      ],
      "text/plain": [
       "Empty DataFrame\n",
       "Columns: [IngredientId, Qty, Uom, Conversion, InvFactor, Recipe]\n",
       "Index: []"
      ]
     },
     "execution_count": 15,
     "metadata": {},
     "output_type": "execute_result"
    }
   ],
   "source": [
    "Ingredients.loc[Ingredients[\"IngredientId\"] == \"I-29389\"]"
   ]
  },
  {
   "cell_type": "code",
   "execution_count": 16,
   "metadata": {},
   "outputs": [
    {
     "data": {
      "text/plain": [
       "23      I-3660\n",
       "26      I-4657\n",
       "27      I-5983\n",
       "35      I-4657\n",
       "39      I-3660\n",
       "        ...   \n",
       "578    I-71959\n",
       "580     I-1109\n",
       "581     I-3434\n",
       "588     I-1109\n",
       "590    I-71937\n",
       "Name: IngredientId, Length: 310, dtype: object"
      ]
     },
     "execution_count": 16,
     "metadata": {},
     "output_type": "execute_result"
    }
   ],
   "source": [
    "# This will output the IngredientId on the right side and the number of times the ingredient appears in the Ingredients\n",
    "# dataframe on the left side. \n",
    "\n",
    "# The duplicated() method returns a Series with True and False values that describe which rows in the DataFrame are \n",
    "# duplicated and not.\n",
    "\n",
    "check = Ingredients[\"IngredientId\"].duplicated()\n",
    "\n",
    "# The line below tells us at which index is the ingredient duplicated. For example I-4598 exists on index 2 of the dataframe and\n",
    "# then again on index 8. So duplicate is first true on index 8, which is why it is printed below. It also appears in a below \n",
    "# index so it is printed again with that index number. \n",
    "Ingredients[\"IngredientId\"][check]"
   ]
  },
  {
   "cell_type": "code",
   "execution_count": 17,
   "metadata": {},
   "outputs": [
    {
     "data": {
      "text/html": [
       "<div>\n",
       "<style scoped>\n",
       "    .dataframe tbody tr th:only-of-type {\n",
       "        vertical-align: middle;\n",
       "    }\n",
       "\n",
       "    .dataframe tbody tr th {\n",
       "        vertical-align: top;\n",
       "    }\n",
       "\n",
       "    .dataframe thead th {\n",
       "        text-align: right;\n",
       "    }\n",
       "</style>\n",
       "<table border=\"1\" class=\"dataframe\">\n",
       "  <thead>\n",
       "    <tr style=\"text-align: right;\">\n",
       "      <th></th>\n",
       "      <th>IngredientId</th>\n",
       "      <th>Qty</th>\n",
       "      <th>Uom</th>\n",
       "      <th>Conversion</th>\n",
       "      <th>InvFactor</th>\n",
       "      <th>Recipe</th>\n",
       "    </tr>\n",
       "  </thead>\n",
       "  <tbody>\n",
       "  </tbody>\n",
       "</table>\n",
       "</div>"
      ],
      "text/plain": [
       "Empty DataFrame\n",
       "Columns: [IngredientId, Qty, Uom, Conversion, InvFactor, Recipe]\n",
       "Index: []"
      ]
     },
     "execution_count": 17,
     "metadata": {},
     "output_type": "execute_result"
    }
   ],
   "source": [
    "# We can see from the printed items above that I-64877 does not appear because it does not get duplicated\n",
    "Ingredients.loc[Ingredients[\"IngredientId\"] == \"I-64877\"]"
   ]
  },
  {
   "cell_type": "code",
   "execution_count": 18,
   "metadata": {},
   "outputs": [
    {
     "data": {
      "text/html": [
       "<div>\n",
       "<style scoped>\n",
       "    .dataframe tbody tr th:only-of-type {\n",
       "        vertical-align: middle;\n",
       "    }\n",
       "\n",
       "    .dataframe tbody tr th {\n",
       "        vertical-align: top;\n",
       "    }\n",
       "\n",
       "    .dataframe thead th {\n",
       "        text-align: right;\n",
       "    }\n",
       "</style>\n",
       "<table border=\"1\" class=\"dataframe\">\n",
       "  <thead>\n",
       "    <tr style=\"text-align: right;\">\n",
       "      <th></th>\n",
       "      <th>IngredientId</th>\n",
       "      <th>Qty</th>\n",
       "      <th>Uom</th>\n",
       "      <th>Conversion</th>\n",
       "      <th>InvFactor</th>\n",
       "      <th>Recipe</th>\n",
       "    </tr>\n",
       "  </thead>\n",
       "  <tbody>\n",
       "    <tr>\n",
       "      <th>0</th>\n",
       "      <td>I-3386</td>\n",
       "      <td>500.000</td>\n",
       "      <td>ml</td>\n",
       "      <td>0.00100000</td>\n",
       "      <td>500.0000</td>\n",
       "      <td>P-12957</td>\n",
       "    </tr>\n",
       "    <tr>\n",
       "      <th>1</th>\n",
       "      <td>I-4657</td>\n",
       "      <td>1.250</td>\n",
       "      <td>lb</td>\n",
       "      <td>1.00000000</td>\n",
       "      <td>1.2500</td>\n",
       "      <td>P-12957</td>\n",
       "    </tr>\n",
       "    <tr>\n",
       "      <th>2</th>\n",
       "      <td>I-4695</td>\n",
       "      <td>1.000</td>\n",
       "      <td>lb</td>\n",
       "      <td>1.00000000</td>\n",
       "      <td>2.5000</td>\n",
       "      <td>P-12983</td>\n",
       "    </tr>\n",
       "    <tr>\n",
       "      <th>3</th>\n",
       "      <td>I-2254</td>\n",
       "      <td>1.000</td>\n",
       "      <td>L</td>\n",
       "      <td>1.00000000</td>\n",
       "      <td>0.6667</td>\n",
       "      <td>P-14877</td>\n",
       "    </tr>\n",
       "    <tr>\n",
       "      <th>4</th>\n",
       "      <td>I-3348</td>\n",
       "      <td>0.500</td>\n",
       "      <td>L</td>\n",
       "      <td>1.00000000</td>\n",
       "      <td>0.3333</td>\n",
       "      <td>P-14877</td>\n",
       "    </tr>\n",
       "    <tr>\n",
       "      <th>...</th>\n",
       "      <td>...</td>\n",
       "      <td>...</td>\n",
       "      <td>...</td>\n",
       "      <td>...</td>\n",
       "      <td>...</td>\n",
       "      <td>...</td>\n",
       "    </tr>\n",
       "    <tr>\n",
       "      <th>586</th>\n",
       "      <td>I-72653</td>\n",
       "      <td>1.000</td>\n",
       "      <td>ea</td>\n",
       "      <td>1.00000000</td>\n",
       "      <td>1.0000</td>\n",
       "      <td>R-74608</td>\n",
       "    </tr>\n",
       "    <tr>\n",
       "      <th>587</th>\n",
       "      <td>I-29692</td>\n",
       "      <td>1.000</td>\n",
       "      <td>ea</td>\n",
       "      <td>1.00000000</td>\n",
       "      <td>1.0000</td>\n",
       "      <td>R-74650</td>\n",
       "    </tr>\n",
       "    <tr>\n",
       "      <th>588</th>\n",
       "      <td>I-1109</td>\n",
       "      <td>1.000</td>\n",
       "      <td>CT</td>\n",
       "      <td>1.00000000</td>\n",
       "      <td>1.0000</td>\n",
       "      <td>R-74699</td>\n",
       "    </tr>\n",
       "    <tr>\n",
       "      <th>589</th>\n",
       "      <td>I-2306</td>\n",
       "      <td>32.000</td>\n",
       "      <td>g</td>\n",
       "      <td>1.00000000</td>\n",
       "      <td>1.0000</td>\n",
       "      <td>R-74699</td>\n",
       "    </tr>\n",
       "    <tr>\n",
       "      <th>590</th>\n",
       "      <td>I-71937</td>\n",
       "      <td>40.000</td>\n",
       "      <td>g</td>\n",
       "      <td>0.00100000</td>\n",
       "      <td>1.0000</td>\n",
       "      <td>R-74699</td>\n",
       "    </tr>\n",
       "  </tbody>\n",
       "</table>\n",
       "<p>591 rows × 6 columns</p>\n",
       "</div>"
      ],
      "text/plain": [
       "    IngredientId      Qty Uom  Conversion InvFactor   Recipe\n",
       "0         I-3386  500.000  ml  0.00100000  500.0000  P-12957\n",
       "1         I-4657    1.250  lb  1.00000000    1.2500  P-12957\n",
       "2         I-4695    1.000  lb  1.00000000    2.5000  P-12983\n",
       "3         I-2254    1.000   L  1.00000000    0.6667  P-14877\n",
       "4         I-3348    0.500   L  1.00000000    0.3333  P-14877\n",
       "..           ...      ...  ..         ...       ...      ...\n",
       "586      I-72653    1.000  ea  1.00000000    1.0000  R-74608\n",
       "587      I-29692    1.000  ea  1.00000000    1.0000  R-74650\n",
       "588       I-1109    1.000  CT  1.00000000    1.0000  R-74699\n",
       "589       I-2306   32.000   g  1.00000000    1.0000  R-74699\n",
       "590      I-71937   40.000   g  0.00100000    1.0000  R-74699\n",
       "\n",
       "[591 rows x 6 columns]"
      ]
     },
     "execution_count": 18,
     "metadata": {},
     "output_type": "execute_result"
    }
   ],
   "source": [
    "Ingredients"
   ]
  },
  {
   "cell_type": "code",
   "execution_count": 19,
   "metadata": {},
   "outputs": [
    {
     "data": {
      "text/html": [
       "<div>\n",
       "<style scoped>\n",
       "    .dataframe tbody tr th:only-of-type {\n",
       "        vertical-align: middle;\n",
       "    }\n",
       "\n",
       "    .dataframe tbody tr th {\n",
       "        vertical-align: top;\n",
       "    }\n",
       "\n",
       "    .dataframe thead th {\n",
       "        text-align: right;\n",
       "    }\n",
       "</style>\n",
       "<table border=\"1\" class=\"dataframe\">\n",
       "  <thead>\n",
       "    <tr style=\"text-align: right;\">\n",
       "      <th></th>\n",
       "      <th>IngredientId</th>\n",
       "      <th>Qty</th>\n",
       "      <th>Uom</th>\n",
       "      <th>Conversion</th>\n",
       "      <th>InvFactor</th>\n",
       "      <th>Recipe</th>\n",
       "    </tr>\n",
       "  </thead>\n",
       "  <tbody>\n",
       "  </tbody>\n",
       "</table>\n",
       "</div>"
      ],
      "text/plain": [
       "Empty DataFrame\n",
       "Columns: [IngredientId, Qty, Uom, Conversion, InvFactor, Recipe]\n",
       "Index: []"
      ]
     },
     "execution_count": 19,
     "metadata": {},
     "output_type": "execute_result"
    }
   ],
   "source": [
    "# Below we are checking if we can extract an entire recipe. So we can do .loc with the particular recipe id and then \n",
    "# print all the data points (ingredientId, Qty, Uom, Conversion, InvFactor) for that recipe. \n",
    "Ingredients.loc[Ingredients[\"Recipe\"] == \"R-68698\"]"
   ]
  },
  {
   "cell_type": "code",
   "execution_count": 20,
   "metadata": {},
   "outputs": [
    {
     "data": {
      "text/html": [
       "<div>\n",
       "<style scoped>\n",
       "    .dataframe tbody tr th:only-of-type {\n",
       "        vertical-align: middle;\n",
       "    }\n",
       "\n",
       "    .dataframe tbody tr th {\n",
       "        vertical-align: top;\n",
       "    }\n",
       "\n",
       "    .dataframe thead th {\n",
       "        text-align: right;\n",
       "    }\n",
       "</style>\n",
       "<table border=\"1\" class=\"dataframe\">\n",
       "  <thead>\n",
       "    <tr style=\"text-align: right;\">\n",
       "      <th></th>\n",
       "      <th>ItemId</th>\n",
       "      <th>Description</th>\n",
       "      <th>CaseQty</th>\n",
       "      <th>CaseUOM</th>\n",
       "      <th>PakQty</th>\n",
       "      <th>PakUOM</th>\n",
       "      <th>InventoryGroup</th>\n",
       "    </tr>\n",
       "  </thead>\n",
       "  <tbody>\n",
       "    <tr>\n",
       "      <th>0</th>\n",
       "      <td>I-4473</td>\n",
       "      <td>AVOCADO (20CT) MX</td>\n",
       "      <td>20.000</td>\n",
       "      <td>CT</td>\n",
       "      <td>1.000</td>\n",
       "      <td>ea</td>\n",
       "      <td>PRODUCE</td>\n",
       "    </tr>\n",
       "    <tr>\n",
       "      <th>1</th>\n",
       "      <td>I-28775</td>\n",
       "      <td>BAGUETTE BUN*DEMI 150G</td>\n",
       "      <td>1.000</td>\n",
       "      <td>cs</td>\n",
       "      <td>50.000</td>\n",
       "      <td>ea</td>\n",
       "      <td>BREAD</td>\n",
       "    </tr>\n",
       "    <tr>\n",
       "      <th>2</th>\n",
       "      <td>I-3619</td>\n",
       "      <td>BAY LEAF WHL SHAKER TFC</td>\n",
       "      <td>12.000</td>\n",
       "      <td>ea</td>\n",
       "      <td>60.000</td>\n",
       "      <td>g</td>\n",
       "      <td>SPICES</td>\n",
       "    </tr>\n",
       "    <tr>\n",
       "      <th>3</th>\n",
       "      <td>I-71746</td>\n",
       "      <td>BEANS BLACK*</td>\n",
       "      <td>24.000</td>\n",
       "      <td>can</td>\n",
       "      <td>540.000</td>\n",
       "      <td>ml</td>\n",
       "      <td>FOOD - GROCERY</td>\n",
       "    </tr>\n",
       "    <tr>\n",
       "      <th>4</th>\n",
       "      <td>I-4288</td>\n",
       "      <td>BEETS RED</td>\n",
       "      <td>5.000</td>\n",
       "      <td>lb</td>\n",
       "      <td>1.000</td>\n",
       "      <td>lb</td>\n",
       "      <td>PRODUCE</td>\n",
       "    </tr>\n",
       "    <tr>\n",
       "      <th>...</th>\n",
       "      <td>...</td>\n",
       "      <td>...</td>\n",
       "      <td>...</td>\n",
       "      <td>...</td>\n",
       "      <td>...</td>\n",
       "      <td>...</td>\n",
       "      <td>...</td>\n",
       "    </tr>\n",
       "    <tr>\n",
       "      <th>215</th>\n",
       "      <td>I-61420</td>\n",
       "      <td>TOFU FIRM*MEDIUM</td>\n",
       "      <td>12.000</td>\n",
       "      <td>pak</td>\n",
       "      <td>454.000</td>\n",
       "      <td>g</td>\n",
       "      <td>FOOD - GROCERY</td>\n",
       "    </tr>\n",
       "    <tr>\n",
       "      <th>216</th>\n",
       "      <td>I-68648</td>\n",
       "      <td>TOPPING CHOC*SYRP EZ FLOW</td>\n",
       "      <td>8.000</td>\n",
       "      <td>bag</td>\n",
       "      <td>1.500</td>\n",
       "      <td>L</td>\n",
       "      <td>FOOD - GROCERY</td>\n",
       "    </tr>\n",
       "    <tr>\n",
       "      <th>217</th>\n",
       "      <td>I-1143</td>\n",
       "      <td>TORTILLA FLOUR*12IN</td>\n",
       "      <td>6.000</td>\n",
       "      <td>bag</td>\n",
       "      <td>10.000</td>\n",
       "      <td>CT</td>\n",
       "      <td>BAKED GOODS</td>\n",
       "    </tr>\n",
       "    <tr>\n",
       "      <th>218</th>\n",
       "      <td>I-3986</td>\n",
       "      <td>TURKEY BREAST BONELESS -FRESH</td>\n",
       "      <td>1.000</td>\n",
       "      <td>Kg</td>\n",
       "      <td>1.000</td>\n",
       "      <td>Kg</td>\n",
       "      <td>POULTRY</td>\n",
       "    </tr>\n",
       "    <tr>\n",
       "      <th>219</th>\n",
       "      <td>I-9382</td>\n",
       "      <td>VINEGAR APPLE*CIDER PURE</td>\n",
       "      <td>1.000</td>\n",
       "      <td>JUG</td>\n",
       "      <td>5.000</td>\n",
       "      <td>L</td>\n",
       "      <td>FOOD - GROCERY</td>\n",
       "    </tr>\n",
       "  </tbody>\n",
       "</table>\n",
       "<p>220 rows × 7 columns</p>\n",
       "</div>"
      ],
      "text/plain": [
       "      ItemId                    Description CaseQty CaseUOM   PakQty PakUOM  \\\n",
       "0     I-4473              AVOCADO (20CT) MX  20.000      CT    1.000     ea   \n",
       "1    I-28775         BAGUETTE BUN*DEMI 150G   1.000      cs   50.000     ea   \n",
       "2     I-3619        BAY LEAF WHL SHAKER TFC  12.000      ea   60.000      g   \n",
       "3    I-71746                   BEANS BLACK*  24.000     can  540.000     ml   \n",
       "4     I-4288                     BEETS RED    5.000      lb    1.000     lb   \n",
       "..       ...                            ...     ...     ...      ...    ...   \n",
       "215  I-61420               TOFU FIRM*MEDIUM  12.000     pak  454.000      g   \n",
       "216  I-68648     TOPPING CHOC*SYRP EZ FLOW    8.000     bag    1.500      L   \n",
       "217   I-1143            TORTILLA FLOUR*12IN   6.000     bag   10.000     CT   \n",
       "218   I-3986  TURKEY BREAST BONELESS -FRESH   1.000      Kg    1.000     Kg   \n",
       "219   I-9382       VINEGAR APPLE*CIDER PURE   1.000     JUG    5.000      L   \n",
       "\n",
       "     InventoryGroup  \n",
       "0           PRODUCE  \n",
       "1             BREAD  \n",
       "2            SPICES  \n",
       "3    FOOD - GROCERY  \n",
       "4           PRODUCE  \n",
       "..              ...  \n",
       "215  FOOD - GROCERY  \n",
       "216  FOOD - GROCERY  \n",
       "217     BAKED GOODS  \n",
       "218         POULTRY  \n",
       "219  FOOD - GROCERY  \n",
       "\n",
       "[220 rows x 7 columns]"
      ]
     },
     "execution_count": 20,
     "metadata": {},
     "output_type": "execute_result"
    }
   ],
   "source": [
    "Items"
   ]
  },
  {
   "cell_type": "code",
   "execution_count": 21,
   "metadata": {},
   "outputs": [
    {
     "data": {
      "text/plain": [
       "(591, 6)"
      ]
     },
     "execution_count": 21,
     "metadata": {},
     "output_type": "execute_result"
    }
   ],
   "source": [
    "Ingredients.shape"
   ]
  },
  {
   "cell_type": "code",
   "execution_count": 22,
   "metadata": {},
   "outputs": [
    {
     "data": {
      "text/plain": [
       "IngredientId    object\n",
       "Qty             object\n",
       "Uom             object\n",
       "Conversion      object\n",
       "InvFactor       object\n",
       "Recipe          object\n",
       "dtype: object"
      ]
     },
     "execution_count": 22,
     "metadata": {},
     "output_type": "execute_result"
    }
   ],
   "source": [
    "Ingredients.dtypes"
   ]
  },
  {
   "cell_type": "code",
   "execution_count": 23,
   "metadata": {},
   "outputs": [],
   "source": [
    "# Save the dataframe to csv\n",
    "path = os.path.join(os.getcwd(), \"data\", \"preprocessed\", \"Ingredients_List.csv\")\n",
    "Ingredients.to_csv(path, index = False, header = True)"
   ]
  },
  {
   "cell_type": "markdown",
   "metadata": {},
   "source": [
    "### Import Preps List"
   ]
  },
  {
   "cell_type": "code",
   "execution_count": 24,
   "metadata": {},
   "outputs": [],
   "source": [
    "# Read preps.xml files in the filepath_list and construct a dataframe\n",
    "PrepId = []\n",
    "Description = []\n",
    "PakQty = []\n",
    "PakUOM = []\n",
    "InventoryGroup = []\n",
    "\n",
    "\n",
    "# Here we do the same thing for the Preps XML file where we find the columns using attrib function and then append it onto\n",
    "# the dataframe called Preps. \n",
    "\n",
    "for filepath in filepath_list:\n",
    "    path = filepath + '/Preps.xml'\n",
    "    if os.path.isfile(path):\n",
    "        xtree = et.parse(path)\n",
    "        xroot = xtree.getroot()\n",
    "        for x in xtree.iterfind('Prep'):\n",
    "            PrepId.append(x.attrib['id'])\n",
    "            Description.append(x.findtext('Description'))\n",
    "            PakQty.append(x.findtext('PakQty'))\n",
    "            PakUOM.append(x.findtext('PakUOM'))\n",
    "            InventoryGroup.append(x.findtext('InventoryGroup'))\n",
    "    \n",
    "Preps = pd.DataFrame({'PrepId': PrepId, 'Description': Description,\n",
    "                  'PakQty': PakQty, 'PakUOM':PakUOM, 'InventoryGroup': InventoryGroup}).drop_duplicates()\n",
    "preps_columns = Preps.columns\n",
    "Preps.drop_duplicates(subset=[\"PrepId\"], inplace=True)\n",
    "\n",
    "Preps.reset_index(drop=True, inplace=True)"
   ]
  },
  {
   "cell_type": "code",
   "execution_count": 25,
   "metadata": {},
   "outputs": [
    {
     "data": {
      "text/html": [
       "<div>\n",
       "<style scoped>\n",
       "    .dataframe tbody tr th:only-of-type {\n",
       "        vertical-align: middle;\n",
       "    }\n",
       "\n",
       "    .dataframe tbody tr th {\n",
       "        vertical-align: top;\n",
       "    }\n",
       "\n",
       "    .dataframe thead th {\n",
       "        text-align: right;\n",
       "    }\n",
       "</style>\n",
       "<table border=\"1\" class=\"dataframe\">\n",
       "  <thead>\n",
       "    <tr style=\"text-align: right;\">\n",
       "      <th></th>\n",
       "      <th>PrepId</th>\n",
       "      <th>Description</th>\n",
       "      <th>PakQty</th>\n",
       "      <th>PakUOM</th>\n",
       "      <th>InventoryGroup</th>\n",
       "    </tr>\n",
       "  </thead>\n",
       "  <tbody>\n",
       "    <tr>\n",
       "      <th>0</th>\n",
       "      <td>P-74330</td>\n",
       "      <td>DRESSING|Garlic Tahini Dressin</td>\n",
       "      <td>750.000</td>\n",
       "      <td>ml</td>\n",
       "      <td></td>\n",
       "    </tr>\n",
       "    <tr>\n",
       "      <th>1</th>\n",
       "      <td>P-71838</td>\n",
       "      <td>DRESSING|Goma Mayo</td>\n",
       "      <td>3.000</td>\n",
       "      <td>L</td>\n",
       "      <td></td>\n",
       "    </tr>\n",
       "    <tr>\n",
       "      <th>2</th>\n",
       "      <td>P-74391</td>\n",
       "      <td>DRESSING|Lemon Thyme</td>\n",
       "      <td>4.193</td>\n",
       "      <td>Kg</td>\n",
       "      <td></td>\n",
       "    </tr>\n",
       "    <tr>\n",
       "      <th>3</th>\n",
       "      <td>P-70074</td>\n",
       "      <td>DRESSING|Sesame Ginger Vin</td>\n",
       "      <td>1.695</td>\n",
       "      <td>L</td>\n",
       "      <td>PREP</td>\n",
       "    </tr>\n",
       "    <tr>\n",
       "      <th>4</th>\n",
       "      <td>P-74713</td>\n",
       "      <td>DRESSING|Tamarind Cumin Vin</td>\n",
       "      <td>0.920</td>\n",
       "      <td>L</td>\n",
       "      <td></td>\n",
       "    </tr>\n",
       "    <tr>\n",
       "      <th>...</th>\n",
       "      <td>...</td>\n",
       "      <td>...</td>\n",
       "      <td>...</td>\n",
       "      <td>...</td>\n",
       "      <td>...</td>\n",
       "    </tr>\n",
       "    <tr>\n",
       "      <th>56</th>\n",
       "      <td>P-74597</td>\n",
       "      <td>SAUCE|Pesto Mayo</td>\n",
       "      <td>1.000</td>\n",
       "      <td>Kg</td>\n",
       "      <td></td>\n",
       "    </tr>\n",
       "    <tr>\n",
       "      <th>57</th>\n",
       "      <td>P-74673</td>\n",
       "      <td>SMD24|PREP|Brined Turkey</td>\n",
       "      <td>5.000</td>\n",
       "      <td>Kg</td>\n",
       "      <td></td>\n",
       "    </tr>\n",
       "    <tr>\n",
       "      <th>58</th>\n",
       "      <td>P-74674</td>\n",
       "      <td>SMD24|PREP|Roasted Turkey</td>\n",
       "      <td>850.000</td>\n",
       "      <td>g</td>\n",
       "      <td></td>\n",
       "    </tr>\n",
       "    <tr>\n",
       "      <th>59</th>\n",
       "      <td>P-70366</td>\n",
       "      <td>SMD24|YIELD|Red Cabbage</td>\n",
       "      <td>765.000</td>\n",
       "      <td>g</td>\n",
       "      <td></td>\n",
       "    </tr>\n",
       "    <tr>\n",
       "      <th>60</th>\n",
       "      <td>P-74672</td>\n",
       "      <td>SMD4|PREP|Lemongrass Chick</td>\n",
       "      <td>4.000</td>\n",
       "      <td>Kg</td>\n",
       "      <td></td>\n",
       "    </tr>\n",
       "  </tbody>\n",
       "</table>\n",
       "<p>61 rows × 5 columns</p>\n",
       "</div>"
      ],
      "text/plain": [
       "     PrepId                     Description   PakQty PakUOM InventoryGroup\n",
       "0   P-74330  DRESSING|Garlic Tahini Dressin  750.000     ml               \n",
       "1   P-71838              DRESSING|Goma Mayo    3.000      L               \n",
       "2   P-74391            DRESSING|Lemon Thyme    4.193     Kg               \n",
       "3   P-70074      DRESSING|Sesame Ginger Vin    1.695      L           PREP\n",
       "4   P-74713     DRESSING|Tamarind Cumin Vin    0.920      L               \n",
       "..      ...                             ...      ...    ...            ...\n",
       "56  P-74597                SAUCE|Pesto Mayo    1.000     Kg               \n",
       "57  P-74673        SMD24|PREP|Brined Turkey    5.000     Kg               \n",
       "58  P-74674       SMD24|PREP|Roasted Turkey  850.000      g               \n",
       "59  P-70366         SMD24|YIELD|Red Cabbage  765.000      g               \n",
       "60  P-74672      SMD4|PREP|Lemongrass Chick    4.000     Kg               \n",
       "\n",
       "[61 rows x 5 columns]"
      ]
     },
     "execution_count": 25,
     "metadata": {},
     "output_type": "execute_result"
    }
   ],
   "source": [
    "Preps"
   ]
  },
  {
   "cell_type": "code",
   "execution_count": 26,
   "metadata": {},
   "outputs": [
    {
     "name": "stdout",
     "output_type": "stream",
     "text": [
      "False\n"
     ]
    }
   ],
   "source": [
    "# This tells us that there are not any duplicates in the Preps dataframe. There is a different process|ingredient pair for \n",
    "# all the recipes. \n",
    "check = Preps[\"PrepId\"].duplicated().any()\n",
    "print(check)"
   ]
  },
  {
   "cell_type": "code",
   "execution_count": 27,
   "metadata": {},
   "outputs": [
    {
     "data": {
      "text/plain": [
       "(61, 5)"
      ]
     },
     "execution_count": 27,
     "metadata": {},
     "output_type": "execute_result"
    }
   ],
   "source": [
    "# There are 546 rows and 5 columns\n",
    "Preps.shape"
   ]
  },
  {
   "cell_type": "code",
   "execution_count": 28,
   "metadata": {},
   "outputs": [
    {
     "data": {
      "text/html": [
       "<div>\n",
       "<style scoped>\n",
       "    .dataframe tbody tr th:only-of-type {\n",
       "        vertical-align: middle;\n",
       "    }\n",
       "\n",
       "    .dataframe tbody tr th {\n",
       "        vertical-align: top;\n",
       "    }\n",
       "\n",
       "    .dataframe thead th {\n",
       "        text-align: right;\n",
       "    }\n",
       "</style>\n",
       "<table border=\"1\" class=\"dataframe\">\n",
       "  <thead>\n",
       "    <tr style=\"text-align: right;\">\n",
       "      <th></th>\n",
       "      <th>PrepId</th>\n",
       "      <th>Description</th>\n",
       "      <th>PakQty</th>\n",
       "      <th>PakUOM</th>\n",
       "      <th>InventoryGroup</th>\n",
       "    </tr>\n",
       "  </thead>\n",
       "  <tbody>\n",
       "  </tbody>\n",
       "</table>\n",
       "</div>"
      ],
      "text/plain": [
       "Empty DataFrame\n",
       "Columns: [PrepId, Description, PakQty, PakUOM, InventoryGroup]\n",
       "Index: []"
      ]
     },
     "execution_count": 28,
     "metadata": {},
     "output_type": "execute_result"
    }
   ],
   "source": [
    "# Here we see there is only one place P-50739 is used in the Preps\n",
    "Preps.loc[Preps[\"PrepId\"] == \"P-50739\"]"
   ]
  },
  {
   "cell_type": "code",
   "execution_count": 29,
   "metadata": {},
   "outputs": [
    {
     "data": {
      "text/plain": [
       "PrepId            object\n",
       "Description       object\n",
       "PakQty            object\n",
       "PakUOM            object\n",
       "InventoryGroup    object\n",
       "dtype: object"
      ]
     },
     "execution_count": 29,
     "metadata": {},
     "output_type": "execute_result"
    }
   ],
   "source": [
    "Preps.dtypes"
   ]
  },
  {
   "cell_type": "code",
   "execution_count": 30,
   "metadata": {},
   "outputs": [],
   "source": [
    "# Save the dataframe to csv\n",
    "path = os.path.join(os.getcwd(), \"data\", \"preprocessed\", \"Preps_List.csv\")\n",
    "Preps.to_csv(path, index = False, header = True)"
   ]
  },
  {
   "cell_type": "markdown",
   "metadata": {},
   "source": [
    "### Import Products List"
   ]
  },
  {
   "cell_type": "code",
   "execution_count": 31,
   "metadata": {},
   "outputs": [],
   "source": [
    "# Read products.xml files in the filepath_list and construct a dataframe\n",
    "ProdId = []\n",
    "Description = []\n",
    "SalesGroup = []\n",
    "\n",
    "# From the XML file for products append the id into ProdId, description into Description, and SalesGroup into SalesGroup list.\n",
    "# Make a dataframe out of the 3 lists\n",
    "# Then also drop the duplicates in the Products dataframe\n",
    "\n",
    "for filepath in filepath_list:\n",
    "    path = filepath + '/Products.xml'\n",
    "    if os.path.isfile(path):\n",
    "        xtree = et.parse(path)\n",
    "        xroot = xtree.getroot()\n",
    "        for x in xtree.iterfind('Prod'):\n",
    "            ProdId.append(x.attrib['id'])\n",
    "            Description.append(x.findtext('Description'))\n",
    "            SalesGroup.append(x.findtext('SalesGroup'))\n",
    "        \n",
    "Products = pd.DataFrame({'ProdId': ProdId, 'Description': Description, 'SalesGroup': SalesGroup})\n",
    "Products.drop_duplicates(inplace=True)\n",
    "\n",
    "Products.reset_index(drop=True, inplace=True)"
   ]
  },
  {
   "cell_type": "code",
   "execution_count": 32,
   "metadata": {},
   "outputs": [
    {
     "data": {
      "text/html": [
       "<div>\n",
       "<style scoped>\n",
       "    .dataframe tbody tr th:only-of-type {\n",
       "        vertical-align: middle;\n",
       "    }\n",
       "\n",
       "    .dataframe tbody tr th {\n",
       "        vertical-align: top;\n",
       "    }\n",
       "\n",
       "    .dataframe thead th {\n",
       "        text-align: right;\n",
       "    }\n",
       "</style>\n",
       "<table border=\"1\" class=\"dataframe\">\n",
       "  <thead>\n",
       "    <tr style=\"text-align: right;\">\n",
       "      <th></th>\n",
       "      <th>ProdId</th>\n",
       "      <th>Description</th>\n",
       "      <th>SalesGroup</th>\n",
       "    </tr>\n",
       "  </thead>\n",
       "  <tbody>\n",
       "    <tr>\n",
       "      <th>0</th>\n",
       "      <td>R-74333</td>\n",
       "      <td>SMD24|BOWL|Lemongrass Chicken</td>\n",
       "      <td>FOOD</td>\n",
       "    </tr>\n",
       "    <tr>\n",
       "      <th>1</th>\n",
       "      <td>R-74334</td>\n",
       "      <td>SMD24|BOWL|Lemongrass Prawn</td>\n",
       "      <td>FOOD</td>\n",
       "    </tr>\n",
       "    <tr>\n",
       "      <th>2</th>\n",
       "      <td>R-74332</td>\n",
       "      <td>SMD24|BOWL|Lemongrass Tofu</td>\n",
       "      <td>FOOD</td>\n",
       "    </tr>\n",
       "    <tr>\n",
       "      <th>3</th>\n",
       "      <td>R-74329</td>\n",
       "      <td>SMD24|BOWL|Pacific Delight</td>\n",
       "      <td>FOOD</td>\n",
       "    </tr>\n",
       "    <tr>\n",
       "      <th>4</th>\n",
       "      <td>R-74599</td>\n",
       "      <td>SMD24|BOWL|Salmon Poke</td>\n",
       "      <td>FOOD</td>\n",
       "    </tr>\n",
       "    <tr>\n",
       "      <th>5</th>\n",
       "      <td>R-74331</td>\n",
       "      <td>SMD24|BOWL|Salutation Bowl</td>\n",
       "      <td>FOOD</td>\n",
       "    </tr>\n",
       "    <tr>\n",
       "      <th>6</th>\n",
       "      <td>R-74600</td>\n",
       "      <td>SMD24|BOWL|Tuna Poke</td>\n",
       "      <td>FOOD</td>\n",
       "    </tr>\n",
       "    <tr>\n",
       "      <th>7</th>\n",
       "      <td>R-74441</td>\n",
       "      <td>SMD24|Dessert|Blueberry Tart</td>\n",
       "      <td>FOOD</td>\n",
       "    </tr>\n",
       "    <tr>\n",
       "      <th>8</th>\n",
       "      <td>R-74442</td>\n",
       "      <td>SMD24|DESSERT|Lemon Tart</td>\n",
       "      <td>FOOD</td>\n",
       "    </tr>\n",
       "    <tr>\n",
       "      <th>9</th>\n",
       "      <td>R-74410</td>\n",
       "      <td>SMD24|LP|Apollo</td>\n",
       "      <td>FOOD</td>\n",
       "    </tr>\n",
       "    <tr>\n",
       "      <th>10</th>\n",
       "      <td>R-73105</td>\n",
       "      <td>SMD24|LP|Molto Bene Lasagna</td>\n",
       "      <td>FOOD</td>\n",
       "    </tr>\n",
       "    <tr>\n",
       "      <th>11</th>\n",
       "      <td>R-74394</td>\n",
       "      <td>SMD24|LP|Nann Stop Butter Chic</td>\n",
       "      <td>FOOD</td>\n",
       "    </tr>\n",
       "    <tr>\n",
       "      <th>12</th>\n",
       "      <td>R-74403</td>\n",
       "      <td>SMD24|LP|Zipolite Chicken</td>\n",
       "      <td>FOOD</td>\n",
       "    </tr>\n",
       "    <tr>\n",
       "      <th>13</th>\n",
       "      <td>R-74405</td>\n",
       "      <td>SMD24|LP|Zipolite Vegetable</td>\n",
       "      <td>FOOD</td>\n",
       "    </tr>\n",
       "    <tr>\n",
       "      <th>14</th>\n",
       "      <td>R-74724</td>\n",
       "      <td>SMD24|Plant Based Sushi</td>\n",
       "      <td>FOOD</td>\n",
       "    </tr>\n",
       "    <tr>\n",
       "      <th>15</th>\n",
       "      <td>R-70200</td>\n",
       "      <td>SMD24|PLATTER|Triple Dip</td>\n",
       "      <td>FOOD</td>\n",
       "    </tr>\n",
       "    <tr>\n",
       "      <th>16</th>\n",
       "      <td>R-74611</td>\n",
       "      <td>SMD24|PLATTERS|Charcuterie</td>\n",
       "      <td>FOOD</td>\n",
       "    </tr>\n",
       "    <tr>\n",
       "      <th>17</th>\n",
       "      <td>R-49021</td>\n",
       "      <td>SMD24|PLATTERS|Fruit</td>\n",
       "      <td>FOOD</td>\n",
       "    </tr>\n",
       "    <tr>\n",
       "      <th>18</th>\n",
       "      <td>R-65780</td>\n",
       "      <td>SMD24|PLATTERS|Seasonal Crunch</td>\n",
       "      <td>FOOD</td>\n",
       "    </tr>\n",
       "    <tr>\n",
       "      <th>19</th>\n",
       "      <td>R-74536</td>\n",
       "      <td>SMD24|Almond Croissant</td>\n",
       "      <td>PASTRY</td>\n",
       "    </tr>\n",
       "    <tr>\n",
       "      <th>20</th>\n",
       "      <td>R-74445</td>\n",
       "      <td>SMD24|BF|Chia Pudding</td>\n",
       "      <td>FOOD</td>\n",
       "    </tr>\n",
       "    <tr>\n",
       "      <th>21</th>\n",
       "      <td>R-74446</td>\n",
       "      <td>SMD24|BF|Granola Parfait</td>\n",
       "      <td>FOOD</td>\n",
       "    </tr>\n",
       "    <tr>\n",
       "      <th>22</th>\n",
       "      <td>R-74543</td>\n",
       "      <td>SMD24|Choc Indulgent Croissant</td>\n",
       "      <td>PASTRY</td>\n",
       "    </tr>\n",
       "    <tr>\n",
       "      <th>23</th>\n",
       "      <td>R-74699</td>\n",
       "      <td>SMD24|Croissant|Ham &amp; Cheese</td>\n",
       "      <td>PASTRY</td>\n",
       "    </tr>\n",
       "    <tr>\n",
       "      <th>24</th>\n",
       "      <td>R-73038</td>\n",
       "      <td>SMD24|Croissant|Plain</td>\n",
       "      <td>PASTRY</td>\n",
       "    </tr>\n",
       "    <tr>\n",
       "      <th>25</th>\n",
       "      <td>R-74608</td>\n",
       "      <td>SMD24|DANISH|Guava</td>\n",
       "      <td>PASTRY</td>\n",
       "    </tr>\n",
       "    <tr>\n",
       "      <th>26</th>\n",
       "      <td>R-74650</td>\n",
       "      <td>SMD24|DANISH|Parm &amp; Leek</td>\n",
       "      <td>PASTRY</td>\n",
       "    </tr>\n",
       "    <tr>\n",
       "      <th>27</th>\n",
       "      <td>R-72353</td>\n",
       "      <td>SMD24|MUFFIN|Blueberry</td>\n",
       "      <td>FOOD</td>\n",
       "    </tr>\n",
       "    <tr>\n",
       "      <th>28</th>\n",
       "      <td>R-74549</td>\n",
       "      <td>SMD24|MUFFIN|Carrot</td>\n",
       "      <td>FOOD</td>\n",
       "    </tr>\n",
       "    <tr>\n",
       "      <th>29</th>\n",
       "      <td>R-74550</td>\n",
       "      <td>SMD24|MUFFIN|Double Chocolate</td>\n",
       "      <td>FOOD</td>\n",
       "    </tr>\n",
       "    <tr>\n",
       "      <th>30</th>\n",
       "      <td>R-74109</td>\n",
       "      <td>SMD24|SALAD|Classic Caesar</td>\n",
       "      <td>FOOD</td>\n",
       "    </tr>\n",
       "    <tr>\n",
       "      <th>31</th>\n",
       "      <td>R-74110</td>\n",
       "      <td>SMD24|SALAD|Garden Vegetable</td>\n",
       "      <td>FOOD</td>\n",
       "    </tr>\n",
       "    <tr>\n",
       "      <th>32</th>\n",
       "      <td>R-74308</td>\n",
       "      <td>SMD24|SALAD|Lemon &amp; Leek</td>\n",
       "      <td>FOOD</td>\n",
       "    </tr>\n",
       "    <tr>\n",
       "      <th>33</th>\n",
       "      <td>R-74460</td>\n",
       "      <td>SMD24|SALAD|Mediterranean</td>\n",
       "      <td>FOOD</td>\n",
       "    </tr>\n",
       "    <tr>\n",
       "      <th>34</th>\n",
       "      <td>R-74307</td>\n",
       "      <td>SMD24|SALAD|Sesame Gin. Noodle</td>\n",
       "      <td>FOOD</td>\n",
       "    </tr>\n",
       "    <tr>\n",
       "      <th>35</th>\n",
       "      <td>R-74319</td>\n",
       "      <td>SMD24|SW|Chicken Banh Mi</td>\n",
       "      <td>FOOD</td>\n",
       "    </tr>\n",
       "    <tr>\n",
       "      <th>36</th>\n",
       "      <td>R-74326</td>\n",
       "      <td>SMD24|SW|Chicken Wrap</td>\n",
       "      <td>FOOD</td>\n",
       "    </tr>\n",
       "    <tr>\n",
       "      <th>37</th>\n",
       "      <td>R-74314</td>\n",
       "      <td>SMD24|SW|Chopped Italian</td>\n",
       "      <td>FOOD</td>\n",
       "    </tr>\n",
       "    <tr>\n",
       "      <th>38</th>\n",
       "      <td>R-74327</td>\n",
       "      <td>SMD24|SW|Garden Delight</td>\n",
       "      <td>FOOD</td>\n",
       "    </tr>\n",
       "    <tr>\n",
       "      <th>39</th>\n",
       "      <td>R-74320</td>\n",
       "      <td>SMD24|SW|Salmon Croissant</td>\n",
       "      <td>FOOD</td>\n",
       "    </tr>\n",
       "    <tr>\n",
       "      <th>40</th>\n",
       "      <td>R-74315</td>\n",
       "      <td>SMD24|SW|The Clubhouse</td>\n",
       "      <td>FOOD</td>\n",
       "    </tr>\n",
       "    <tr>\n",
       "      <th>41</th>\n",
       "      <td>R-74317</td>\n",
       "      <td>SMD24|SW|Tofu Banh Mi</td>\n",
       "      <td>FOOD</td>\n",
       "    </tr>\n",
       "    <tr>\n",
       "      <th>42</th>\n",
       "      <td>R-74312</td>\n",
       "      <td>SMD24|SW|Viet Chick Salad Roll</td>\n",
       "      <td>FOOD</td>\n",
       "    </tr>\n",
       "    <tr>\n",
       "      <th>43</th>\n",
       "      <td>R-74311</td>\n",
       "      <td>SMD24|SW|Viet ShrimpSalad Roll</td>\n",
       "      <td>FOOD</td>\n",
       "    </tr>\n",
       "    <tr>\n",
       "      <th>44</th>\n",
       "      <td>R-74313</td>\n",
       "      <td>SMD24|SW|Viet Tofu Salad Roll</td>\n",
       "      <td>FOOD</td>\n",
       "    </tr>\n",
       "  </tbody>\n",
       "</table>\n",
       "</div>"
      ],
      "text/plain": [
       "     ProdId                     Description SalesGroup\n",
       "0   R-74333   SMD24|BOWL|Lemongrass Chicken       FOOD\n",
       "1   R-74334     SMD24|BOWL|Lemongrass Prawn       FOOD\n",
       "2   R-74332      SMD24|BOWL|Lemongrass Tofu       FOOD\n",
       "3   R-74329      SMD24|BOWL|Pacific Delight       FOOD\n",
       "4   R-74599          SMD24|BOWL|Salmon Poke       FOOD\n",
       "5   R-74331      SMD24|BOWL|Salutation Bowl       FOOD\n",
       "6   R-74600            SMD24|BOWL|Tuna Poke       FOOD\n",
       "7   R-74441    SMD24|Dessert|Blueberry Tart       FOOD\n",
       "8   R-74442        SMD24|DESSERT|Lemon Tart       FOOD\n",
       "9   R-74410                 SMD24|LP|Apollo       FOOD\n",
       "10  R-73105    SMD24|LP|Molto Bene Lasagna        FOOD\n",
       "11  R-74394  SMD24|LP|Nann Stop Butter Chic       FOOD\n",
       "12  R-74403      SMD24|LP|Zipolite Chicken        FOOD\n",
       "13  R-74405     SMD24|LP|Zipolite Vegetable       FOOD\n",
       "14  R-74724         SMD24|Plant Based Sushi       FOOD\n",
       "15  R-70200        SMD24|PLATTER|Triple Dip       FOOD\n",
       "16  R-74611      SMD24|PLATTERS|Charcuterie       FOOD\n",
       "17  R-49021           SMD24|PLATTERS|Fruit        FOOD\n",
       "18  R-65780  SMD24|PLATTERS|Seasonal Crunch       FOOD\n",
       "19  R-74536          SMD24|Almond Croissant     PASTRY\n",
       "20  R-74445           SMD24|BF|Chia Pudding       FOOD\n",
       "21  R-74446        SMD24|BF|Granola Parfait       FOOD\n",
       "22  R-74543  SMD24|Choc Indulgent Croissant     PASTRY\n",
       "23  R-74699    SMD24|Croissant|Ham & Cheese     PASTRY\n",
       "24  R-73038           SMD24|Croissant|Plain     PASTRY\n",
       "25  R-74608              SMD24|DANISH|Guava     PASTRY\n",
       "26  R-74650        SMD24|DANISH|Parm & Leek     PASTRY\n",
       "27  R-72353          SMD24|MUFFIN|Blueberry       FOOD\n",
       "28  R-74549             SMD24|MUFFIN|Carrot       FOOD\n",
       "29  R-74550   SMD24|MUFFIN|Double Chocolate       FOOD\n",
       "30  R-74109      SMD24|SALAD|Classic Caesar       FOOD\n",
       "31  R-74110    SMD24|SALAD|Garden Vegetable       FOOD\n",
       "32  R-74308        SMD24|SALAD|Lemon & Leek       FOOD\n",
       "33  R-74460       SMD24|SALAD|Mediterranean       FOOD\n",
       "34  R-74307  SMD24|SALAD|Sesame Gin. Noodle       FOOD\n",
       "35  R-74319        SMD24|SW|Chicken Banh Mi       FOOD\n",
       "36  R-74326           SMD24|SW|Chicken Wrap       FOOD\n",
       "37  R-74314        SMD24|SW|Chopped Italian       FOOD\n",
       "38  R-74327         SMD24|SW|Garden Delight       FOOD\n",
       "39  R-74320       SMD24|SW|Salmon Croissant       FOOD\n",
       "40  R-74315          SMD24|SW|The Clubhouse       FOOD\n",
       "41  R-74317           SMD24|SW|Tofu Banh Mi       FOOD\n",
       "42  R-74312  SMD24|SW|Viet Chick Salad Roll       FOOD\n",
       "43  R-74311  SMD24|SW|Viet ShrimpSalad Roll       FOOD\n",
       "44  R-74313   SMD24|SW|Viet Tofu Salad Roll       FOOD"
      ]
     },
     "execution_count": 32,
     "metadata": {},
     "output_type": "execute_result"
    }
   ],
   "source": [
    "Products"
   ]
  },
  {
   "cell_type": "code",
   "execution_count": 33,
   "metadata": {
    "scrolled": true
   },
   "outputs": [
    {
     "data": {
      "text/html": [
       "<div>\n",
       "<style scoped>\n",
       "    .dataframe tbody tr th:only-of-type {\n",
       "        vertical-align: middle;\n",
       "    }\n",
       "\n",
       "    .dataframe tbody tr th {\n",
       "        vertical-align: top;\n",
       "    }\n",
       "\n",
       "    .dataframe thead th {\n",
       "        text-align: right;\n",
       "    }\n",
       "</style>\n",
       "<table border=\"1\" class=\"dataframe\">\n",
       "  <thead>\n",
       "    <tr style=\"text-align: right;\">\n",
       "      <th></th>\n",
       "      <th>ProdId</th>\n",
       "      <th>Description</th>\n",
       "      <th>SalesGroup</th>\n",
       "    </tr>\n",
       "  </thead>\n",
       "  <tbody>\n",
       "  </tbody>\n",
       "</table>\n",
       "</div>"
      ],
      "text/plain": [
       "Empty DataFrame\n",
       "Columns: [ProdId, Description, SalesGroup]\n",
       "Index: []"
      ]
     },
     "execution_count": 33,
     "metadata": {},
     "output_type": "execute_result"
    }
   ],
   "source": [
    "# Here we can see that there is only one R-56966 in the products \n",
    "Products.loc[Products[\"ProdId\"] == \"R-56966\"]"
   ]
  },
  {
   "cell_type": "code",
   "execution_count": 34,
   "metadata": {},
   "outputs": [
    {
     "data": {
      "text/plain": [
       "ProdId         object\n",
       "Description    object\n",
       "SalesGroup     object\n",
       "dtype: object"
      ]
     },
     "execution_count": 34,
     "metadata": {},
     "output_type": "execute_result"
    }
   ],
   "source": [
    "Products.dtypes"
   ]
  },
  {
   "cell_type": "code",
   "execution_count": 35,
   "metadata": {},
   "outputs": [
    {
     "data": {
      "text/html": [
       "<div>\n",
       "<style scoped>\n",
       "    .dataframe tbody tr th:only-of-type {\n",
       "        vertical-align: middle;\n",
       "    }\n",
       "\n",
       "    .dataframe tbody tr th {\n",
       "        vertical-align: top;\n",
       "    }\n",
       "\n",
       "    .dataframe thead th {\n",
       "        text-align: right;\n",
       "    }\n",
       "</style>\n",
       "<table border=\"1\" class=\"dataframe\">\n",
       "  <thead>\n",
       "    <tr style=\"text-align: right;\">\n",
       "      <th></th>\n",
       "      <th>ProdId</th>\n",
       "      <th>Description</th>\n",
       "      <th>SalesGroup</th>\n",
       "    </tr>\n",
       "  </thead>\n",
       "  <tbody>\n",
       "  </tbody>\n",
       "</table>\n",
       "</div>"
      ],
      "text/plain": [
       "Empty DataFrame\n",
       "Columns: [ProdId, Description, SalesGroup]\n",
       "Index: []"
      ]
     },
     "execution_count": 35,
     "metadata": {},
     "output_type": "execute_result"
    }
   ],
   "source": [
    "# Here we can see that there is only one R-68698 in the products \n",
    "Products.loc[Products[\"ProdId\"] == \"R-68698\"]"
   ]
  },
  {
   "cell_type": "code",
   "execution_count": 36,
   "metadata": {},
   "outputs": [
    {
     "data": {
      "text/plain": [
       "(45, 3)"
      ]
     },
     "execution_count": 36,
     "metadata": {},
     "output_type": "execute_result"
    }
   ],
   "source": [
    "Products.shape"
   ]
  },
  {
   "cell_type": "code",
   "execution_count": 37,
   "metadata": {},
   "outputs": [
    {
     "data": {
      "text/plain": [
       "ProdId         object\n",
       "Description    object\n",
       "SalesGroup     object\n",
       "dtype: object"
      ]
     },
     "execution_count": 37,
     "metadata": {},
     "output_type": "execute_result"
    }
   ],
   "source": [
    "Products.dtypes"
   ]
  },
  {
   "cell_type": "code",
   "execution_count": 38,
   "metadata": {},
   "outputs": [],
   "source": [
    "# Save the dataframe to csv\n",
    "path = os.path.join(os.getcwd(), \"data\", \"preprocessed\", \"Products_List.csv\")\n",
    "Products.to_csv(path, index = False, header = True)"
   ]
  },
  {
   "cell_type": "markdown",
   "metadata": {},
   "source": [
    "### Import Conversions List"
   ]
  },
  {
   "cell_type": "code",
   "execution_count": 39,
   "metadata": {
    "scrolled": true
   },
   "outputs": [],
   "source": [
    "# Read conventions.xml files in the filepath_list and construct a dataframe\n",
    "ConversionId = []\n",
    "Multiplier = []\n",
    "ConvertFromQty = []\n",
    "ConvertFromUom = []\n",
    "ConvertToQty = []\n",
    "ConvertToUom = []\n",
    "\n",
    "# From the XML file for Conversions append the id into ConversionId, multiplier into Multiplier, ConvertFrom->qty into \n",
    "# ConvertFromQty,ConvertFrom->uom into ConvertFromUom, ConvertTo->qty into ConvertToQty and and ConvertTo->uom into the\n",
    "# CovertToUom list. \n",
    "# Make a dataframe out of the 3 lists\n",
    "# Then also drop the duplicates in the Products dataframe\n",
    "\n",
    "\n",
    "for filepath in filepath_list:\n",
    "    path = filepath + '/Conversions.xml'\n",
    "    if os.path.isfile(path):\n",
    "        xtree = et.parse(path)\n",
    "        xroot = xtree.getroot()\n",
    "        for x in xtree.iterfind('Conversion'):\n",
    "            ConversionId.append(x.attrib['id'])\n",
    "            Multiplier.append(x.attrib['multiplier'])\n",
    "            ConvertFromQty.append(x.find('ConvertFrom').attrib['qty'])\n",
    "            ConvertFromUom.append(x.find('ConvertFrom').attrib['uom'])\n",
    "            ConvertToQty.append(x.find('ConvertTo').attrib['qty'])\n",
    "            ConvertToUom.append(x.find('ConvertTo').attrib['uom'])\n",
    "    \n",
    "    \n",
    "Conversions = pd.DataFrame({'ConversionId': ConversionId, 'Multiplier': Multiplier, 'ConvertFromQty': ConvertFromQty,\n",
    "                           'ConvertFromUom': ConvertFromUom, 'ConvertToQty': ConvertToQty, 'ConvertToUom': ConvertToUom}\n",
    "                          ).drop_duplicates()\n",
    "\n",
    "Conversions.reset_index(drop=True, inplace=True)"
   ]
  },
  {
   "cell_type": "code",
   "execution_count": 40,
   "metadata": {},
   "outputs": [
    {
     "data": {
      "text/html": [
       "<div>\n",
       "<style scoped>\n",
       "    .dataframe tbody tr th:only-of-type {\n",
       "        vertical-align: middle;\n",
       "    }\n",
       "\n",
       "    .dataframe tbody tr th {\n",
       "        vertical-align: top;\n",
       "    }\n",
       "\n",
       "    .dataframe thead th {\n",
       "        text-align: right;\n",
       "    }\n",
       "</style>\n",
       "<table border=\"1\" class=\"dataframe\">\n",
       "  <thead>\n",
       "    <tr style=\"text-align: right;\">\n",
       "      <th></th>\n",
       "      <th>ConversionId</th>\n",
       "      <th>Multiplier</th>\n",
       "      <th>ConvertFromQty</th>\n",
       "      <th>ConvertFromUom</th>\n",
       "      <th>ConvertToQty</th>\n",
       "      <th>ConvertToUom</th>\n",
       "    </tr>\n",
       "  </thead>\n",
       "  <tbody>\n",
       "    <tr>\n",
       "      <th>0</th>\n",
       "      <td></td>\n",
       "      <td>1.00000000</td>\n",
       "      <td>1.0000</td>\n",
       "      <td>XXX</td>\n",
       "      <td>1.0000</td>\n",
       "      <td>L</td>\n",
       "    </tr>\n",
       "    <tr>\n",
       "      <th>1</th>\n",
       "      <td></td>\n",
       "      <td>0.87719298</td>\n",
       "      <td>1.0000</td>\n",
       "      <td>1.14L</td>\n",
       "      <td>1.1400</td>\n",
       "      <td>L</td>\n",
       "    </tr>\n",
       "    <tr>\n",
       "      <th>2</th>\n",
       "      <td></td>\n",
       "      <td>0.66666667</td>\n",
       "      <td>1.0000</td>\n",
       "      <td>1.5L</td>\n",
       "      <td>1.5000</td>\n",
       "      <td>L</td>\n",
       "    </tr>\n",
       "    <tr>\n",
       "      <th>3</th>\n",
       "      <td></td>\n",
       "      <td>0.57142857</td>\n",
       "      <td>1.0000</td>\n",
       "      <td>1.75 L</td>\n",
       "      <td>1.7500</td>\n",
       "      <td>L</td>\n",
       "    </tr>\n",
       "    <tr>\n",
       "      <th>4</th>\n",
       "      <td></td>\n",
       "      <td>0.50000000</td>\n",
       "      <td>1.0000</td>\n",
       "      <td>2L</td>\n",
       "      <td>2.0000</td>\n",
       "      <td>L</td>\n",
       "    </tr>\n",
       "    <tr>\n",
       "      <th>...</th>\n",
       "      <td>...</td>\n",
       "      <td>...</td>\n",
       "      <td>...</td>\n",
       "      <td>...</td>\n",
       "      <td>...</td>\n",
       "      <td>...</td>\n",
       "    </tr>\n",
       "    <tr>\n",
       "      <th>153</th>\n",
       "      <td>I-4450</td>\n",
       "      <td>0.01000000</td>\n",
       "      <td>1.0000</td>\n",
       "      <td>CT</td>\n",
       "      <td>100.0000</td>\n",
       "      <td>g</td>\n",
       "    </tr>\n",
       "    <tr>\n",
       "      <th>154</th>\n",
       "      <td>I-4844</td>\n",
       "      <td>0.00159744</td>\n",
       "      <td>1.0000</td>\n",
       "      <td>HEAD</td>\n",
       "      <td>626.0000</td>\n",
       "      <td>g</td>\n",
       "    </tr>\n",
       "    <tr>\n",
       "      <th>155</th>\n",
       "      <td>I-6812</td>\n",
       "      <td>0.00909091</td>\n",
       "      <td>1.0000</td>\n",
       "      <td>cup</td>\n",
       "      <td>110.0000</td>\n",
       "      <td>g</td>\n",
       "    </tr>\n",
       "    <tr>\n",
       "      <th>156</th>\n",
       "      <td>I-43543</td>\n",
       "      <td>0.04347826</td>\n",
       "      <td>1.0000</td>\n",
       "      <td>leaf</td>\n",
       "      <td>23.0000</td>\n",
       "      <td>g</td>\n",
       "    </tr>\n",
       "    <tr>\n",
       "      <th>157</th>\n",
       "      <td>I-43543</td>\n",
       "      <td>0.00088183</td>\n",
       "      <td>1.0000</td>\n",
       "      <td>ea</td>\n",
       "      <td>1134.0000</td>\n",
       "      <td>g</td>\n",
       "    </tr>\n",
       "  </tbody>\n",
       "</table>\n",
       "<p>158 rows × 6 columns</p>\n",
       "</div>"
      ],
      "text/plain": [
       "    ConversionId  Multiplier ConvertFromQty ConvertFromUom ConvertToQty  \\\n",
       "0                 1.00000000         1.0000            XXX       1.0000   \n",
       "1                 0.87719298         1.0000          1.14L       1.1400   \n",
       "2                 0.66666667         1.0000           1.5L       1.5000   \n",
       "3                 0.57142857         1.0000         1.75 L       1.7500   \n",
       "4                 0.50000000         1.0000             2L       2.0000   \n",
       "..           ...         ...            ...            ...          ...   \n",
       "153       I-4450  0.01000000         1.0000             CT     100.0000   \n",
       "154       I-4844  0.00159744         1.0000           HEAD     626.0000   \n",
       "155       I-6812  0.00909091         1.0000            cup     110.0000   \n",
       "156      I-43543  0.04347826         1.0000           leaf      23.0000   \n",
       "157      I-43543  0.00088183         1.0000             ea    1134.0000   \n",
       "\n",
       "    ConvertToUom  \n",
       "0              L  \n",
       "1              L  \n",
       "2              L  \n",
       "3              L  \n",
       "4              L  \n",
       "..           ...  \n",
       "153            g  \n",
       "154            g  \n",
       "155            g  \n",
       "156            g  \n",
       "157            g  \n",
       "\n",
       "[158 rows x 6 columns]"
      ]
     },
     "execution_count": 40,
     "metadata": {},
     "output_type": "execute_result"
    }
   ],
   "source": [
    "# Here we can see for example that to convert 1.14 L to 1 L the multiplier is 0.877 since 1/1.14 = 0.877\n",
    "Conversions"
   ]
  },
  {
   "cell_type": "code",
   "execution_count": 41,
   "metadata": {},
   "outputs": [
    {
     "data": {
      "text/html": [
       "<div>\n",
       "<style scoped>\n",
       "    .dataframe tbody tr th:only-of-type {\n",
       "        vertical-align: middle;\n",
       "    }\n",
       "\n",
       "    .dataframe tbody tr th {\n",
       "        vertical-align: top;\n",
       "    }\n",
       "\n",
       "    .dataframe thead th {\n",
       "        text-align: right;\n",
       "    }\n",
       "</style>\n",
       "<table border=\"1\" class=\"dataframe\">\n",
       "  <thead>\n",
       "    <tr style=\"text-align: right;\">\n",
       "      <th></th>\n",
       "      <th>ConversionId</th>\n",
       "      <th>Multiplier</th>\n",
       "      <th>ConvertFromQty</th>\n",
       "      <th>ConvertFromUom</th>\n",
       "      <th>ConvertToQty</th>\n",
       "      <th>ConvertToUom</th>\n",
       "    </tr>\n",
       "  </thead>\n",
       "  <tbody>\n",
       "  </tbody>\n",
       "</table>\n",
       "</div>"
      ],
      "text/plain": [
       "Empty DataFrame\n",
       "Columns: [ConversionId, Multiplier, ConvertFromQty, ConvertFromUom, ConvertToQty, ConvertToUom]\n",
       "Index: []"
      ]
     },
     "execution_count": 41,
     "metadata": {},
     "output_type": "execute_result"
    }
   ],
   "source": [
    "# Here we can check that there are no ingredients listed since \n",
    "Conversions.loc[Conversions[\"ConversionId\"] == \"I-4582\"]"
   ]
  },
  {
   "cell_type": "code",
   "execution_count": 42,
   "metadata": {},
   "outputs": [
    {
     "name": "stdout",
     "output_type": "stream",
     "text": [
      "All unique IDs list\n",
      "\n",
      "['I-4473' 'I-28775' 'I-3619' 'I-71746' 'I-4288' 'I-4527' 'I-2574' 'I-6020'\n",
      " 'I-4551' 'I-4557' 'I-4560' 'I-3159' 'I-11214' 'I-4564' 'I-4579' 'I-45827'\n",
      " 'I-3621' 'I-4599' 'I-71865' 'I-2055' 'I-71937' 'I-71959' 'I-8236'\n",
      " 'I-2129' 'I-4009' 'I-4007' 'I-4008' 'I-3622' 'I-3623' 'I-3624' 'I-3625'\n",
      " 'I-3628' 'I-3629' 'I-11094' 'I-4978' 'I-72624' 'I-2217' 'I-4626' 'I-6832'\n",
      " 'I-4634' 'I-4637' 'I-3634' 'I-71845' 'I-3284' 'I-19631' 'I-6428'\n",
      " 'I-71499' 'I-11207' 'I-6448' 'I-4657' 'I-3632' 'I-4658' 'I-9685' 'I-3079'\n",
      " 'I-4671' 'I-4679' 'I-2308' 'I-17675' 'I-18760' 'I-4508' 'I-4620' 'I-4341'\n",
      " 'I-4695' 'I-10117' 'I-4982' 'I-4767' 'I-4772' 'I-4919' 'I-3321' 'I-4869'\n",
      " 'I-4697' 'I-1813' 'I-1758' 'I-1759' 'I-2599' 'I-6876' 'I-4463' 'I-4677'\n",
      " 'I-4845' 'I-5003' 'I-3348' 'I-3351' 'I-4691' 'I-3370' 'I-2898' 'I-1028'\n",
      " 'I-74044' 'I-74471' 'I-3386' 'I-3387' 'I-3389' 'I-71926' 'I-3395'\n",
      " 'I-6829' 'I-2910' 'I-3397' 'I-3639' 'I-4678' 'I-10482' 'I-4757' 'I-6807'\n",
      " 'I-4381' 'I-3314' 'I-2911' 'I-3641' 'I-3433' 'I-3434' 'I-11813' 'I-3643'\n",
      " 'I-3642' 'I-3447' 'I-4791' 'I-4793' 'I-4805' 'I-62913' 'I-4818' 'I-70009'\n",
      " 'I-11185' 'I-9684' 'I-4829' 'I-3476' 'I-74632' 'I-74634' 'I-74635'\n",
      " 'I-74633' 'I-17585' 'I-2314' 'I-6026' 'I-12176' 'I-3501' 'I-45114'\n",
      " 'I-63875' 'I-3563' 'I-3591' 'I-4894' 'I-13056' 'I-2254' 'I-4488' 'I-6820'\n",
      " 'I-4905' 'I-3660' 'I-3670' 'I-71500' 'I-3112' 'I-3676' 'I-3679' 'I-18803'\n",
      " 'I-17159' 'I-4932' 'I-4933' 'I-9341' 'I-3654' 'I-3113' 'I-3692' 'I-3693'\n",
      " 'I-3695' 'I-3696' 'I-3698' 'I-29054' 'I-5983' 'I-4949' 'I-7949' 'I-6850'\n",
      " 'I-4962' 'I-27410' 'I-3143' 'I-43543' 'I-8260' 'I-11433' 'I-14182'\n",
      " 'I-17617' 'I-72194' 'I-1253' 'I-3223' 'I-3232' 'I-56848' 'I-1109'\n",
      " 'I-72653' 'I-62515' 'I-70011' 'I-72755' 'I-2306' 'I-4708' 'I-11545'\n",
      " 'I-4703' 'I-11555' 'I-4844' 'I-60772' 'I-2174' 'I-71842' 'I-71843'\n",
      " 'I-71844' 'I-3702' 'I-10867' 'I-4752' 'I-3440' 'I-11557' 'I-6812'\n",
      " 'I-7787' 'I-4787' 'I-4796' 'I-42143' 'I-23748' 'I-6972' 'I-13226'\n",
      " 'I-8272' 'I-10864' 'I-2697' 'I-19143' 'I-4450' 'I-4906' 'I-29692'\n",
      " 'I-6028' 'I-3658' 'I-71943' 'I-61420' 'I-68648' 'I-1143' 'I-3986'\n",
      " 'I-9382']\n",
      "\n",
      "\n",
      "All unique Conversions list\n",
      "\n",
      "['' 'I-1758' 'I-1759' 'I-1813' 'I-2217' 'I-2254' 'I-3113' 'I-3159'\n",
      " 'I-3284' 'I-3321' 'I-3348' 'I-3351' 'I-3370' 'I-3386' 'I-3387' 'I-3389'\n",
      " 'I-3501' 'I-3591' 'I-3619' 'I-3621' 'I-3622' 'I-3623' 'I-3624' 'I-3625'\n",
      " 'I-3628' 'I-3629' 'I-3632' 'I-3634' 'I-3639' 'I-3641' 'I-3642' 'I-3643'\n",
      " 'I-3654' 'I-3660' 'I-3670' 'I-3676' 'I-3679' 'I-3692' 'I-3695' 'I-3698'\n",
      " 'I-4341' 'I-4473' 'I-4560' 'I-4599' 'I-4620' 'I-4626' 'I-4677' 'I-4679'\n",
      " 'I-4691' 'I-4772' 'I-4829' 'I-4894' 'I-4949' 'I-5983' 'I-6850' 'I-45114'\n",
      " 'I-1109' 'I-2174' 'I-2306' 'I-3143' 'I-3223' 'I-3658' 'I-4450' 'I-4844'\n",
      " 'I-6812' 'I-43543']\n"
     ]
    }
   ],
   "source": [
    "all_id_list = Items[\"ItemId\"].unique()\n",
    "all_conv_list = Conversions[\"ConversionId\"].unique()\n",
    "\n",
    "print(\"All unique IDs list\\n\")\n",
    "print(all_id_list)\n",
    "print(\"\\n\")\n",
    "print(\"All unique Conversions list\\n\")\n",
    "print(all_conv_list)"
   ]
  },
  {
   "cell_type": "code",
   "execution_count": 43,
   "metadata": {},
   "outputs": [
    {
     "name": "stdout",
     "output_type": "stream",
     "text": [
      "155\n"
     ]
    }
   ],
   "source": [
    "# Here we have the number of items in the list that are a part of the \"all_id_list\" but not part of the \"all_conv_list\"\n",
    "missing_conv_id = []\n",
    "\n",
    "for item in all_id_list:\n",
    "    if item not in all_conv_list:\n",
    "        missing_conv_id.append(item)\n",
    "        \n",
    "missing_conv_id\n",
    "print(len(missing_conv_id))"
   ]
  },
  {
   "cell_type": "code",
   "execution_count": 44,
   "metadata": {},
   "outputs": [
    {
     "data": {
      "text/plain": [
       "(158, 6)"
      ]
     },
     "execution_count": 44,
     "metadata": {},
     "output_type": "execute_result"
    }
   ],
   "source": [
    "Conversions.shape"
   ]
  },
  {
   "cell_type": "code",
   "execution_count": 45,
   "metadata": {},
   "outputs": [
    {
     "data": {
      "text/html": [
       "<div>\n",
       "<style scoped>\n",
       "    .dataframe tbody tr th:only-of-type {\n",
       "        vertical-align: middle;\n",
       "    }\n",
       "\n",
       "    .dataframe tbody tr th {\n",
       "        vertical-align: top;\n",
       "    }\n",
       "\n",
       "    .dataframe thead th {\n",
       "        text-align: right;\n",
       "    }\n",
       "</style>\n",
       "<table border=\"1\" class=\"dataframe\">\n",
       "  <thead>\n",
       "    <tr style=\"text-align: right;\">\n",
       "      <th></th>\n",
       "      <th>ConversionId</th>\n",
       "      <th>Multiplier</th>\n",
       "      <th>ConvertFromQty</th>\n",
       "      <th>ConvertFromUom</th>\n",
       "      <th>ConvertToQty</th>\n",
       "      <th>ConvertToUom</th>\n",
       "    </tr>\n",
       "  </thead>\n",
       "  <tbody>\n",
       "  </tbody>\n",
       "</table>\n",
       "</div>"
      ],
      "text/plain": [
       "Empty DataFrame\n",
       "Columns: [ConversionId, Multiplier, ConvertFromQty, ConvertFromUom, ConvertToQty, ConvertToUom]\n",
       "Index: []"
      ]
     },
     "execution_count": 45,
     "metadata": {},
     "output_type": "execute_result"
    }
   ],
   "source": [
    "Conversions.loc[Conversions[\"ConversionId\"] == \"I-29389\"]"
   ]
  },
  {
   "cell_type": "code",
   "execution_count": 46,
   "metadata": {
    "scrolled": false
   },
   "outputs": [
    {
     "data": {
      "text/plain": [
       "ConversionId      object\n",
       "Multiplier        object\n",
       "ConvertFromQty    object\n",
       "ConvertFromUom    object\n",
       "ConvertToQty      object\n",
       "ConvertToUom      object\n",
       "dtype: object"
      ]
     },
     "execution_count": 46,
     "metadata": {},
     "output_type": "execute_result"
    }
   ],
   "source": [
    "Conversions.dtypes"
   ]
  },
  {
   "cell_type": "code",
   "execution_count": 47,
   "metadata": {},
   "outputs": [],
   "source": [
    "# Save the dataframe to csv\n",
    "path = os.path.join(os.getcwd(), \"data\", \"preprocessed\", \"Conversions_List.csv\")\n",
    "Conversions.to_csv(path, index = False, header = True)"
   ]
  },
  {
   "cell_type": "markdown",
   "metadata": {},
   "source": [
    "***\n",
    "## Data Summary"
   ]
  },
  {
   "cell_type": "code",
   "execution_count": 48,
   "metadata": {},
   "outputs": [
    {
     "data": {
      "text/html": [
       "<div>\n",
       "<style scoped>\n",
       "    .dataframe tbody tr th:only-of-type {\n",
       "        vertical-align: middle;\n",
       "    }\n",
       "\n",
       "    .dataframe tbody tr th {\n",
       "        vertical-align: top;\n",
       "    }\n",
       "\n",
       "    .dataframe thead th {\n",
       "        text-align: right;\n",
       "    }\n",
       "</style>\n",
       "<table border=\"1\" class=\"dataframe\">\n",
       "  <thead>\n",
       "    <tr style=\"text-align: right;\">\n",
       "      <th></th>\n",
       "      <th>count</th>\n",
       "      <th>columns</th>\n",
       "    </tr>\n",
       "  </thead>\n",
       "  <tbody>\n",
       "    <tr>\n",
       "      <th>Items</th>\n",
       "      <td>220</td>\n",
       "      <td>7</td>\n",
       "    </tr>\n",
       "    <tr>\n",
       "      <th>Preps</th>\n",
       "      <td>61</td>\n",
       "      <td>5</td>\n",
       "    </tr>\n",
       "    <tr>\n",
       "      <th>Ingredients</th>\n",
       "      <td>591</td>\n",
       "      <td>6</td>\n",
       "    </tr>\n",
       "    <tr>\n",
       "      <th>Products</th>\n",
       "      <td>45</td>\n",
       "      <td>3</td>\n",
       "    </tr>\n",
       "    <tr>\n",
       "      <th>Conversions</th>\n",
       "      <td>158</td>\n",
       "      <td>6</td>\n",
       "    </tr>\n",
       "  </tbody>\n",
       "</table>\n",
       "</div>"
      ],
      "text/plain": [
       "             count  columns\n",
       "Items          220        7\n",
       "Preps           61        5\n",
       "Ingredients    591        6\n",
       "Products        45        3\n",
       "Conversions    158        6"
      ]
     },
     "execution_count": 48,
     "metadata": {},
     "output_type": "execute_result"
    }
   ],
   "source": [
    "# Summary of raw data imported for evaluation\n",
    "# Here we have a summary of the number of items, preps, ingredients, products, conversions\n",
    "\n",
    "datasum = pd.DataFrame([Items.shape, Preps.shape, Ingredients.shape, Products.shape, Conversions.shape],\n",
    "                       columns = ['count', 'columns'], \n",
    "                       index = ['Items', 'Preps', 'Ingredients', 'Products', 'Conversions'])\n",
    "datasum"
   ]
  },
  {
   "cell_type": "code",
   "execution_count": null,
   "metadata": {},
   "outputs": [],
   "source": []
  }
 ],
 "metadata": {
  "kernelspec": {
   "display_name": "cffs",
   "language": "python",
   "name": "python3"
  },
  "language_info": {
   "codemirror_mode": {
    "name": "ipython",
    "version": 3
   },
   "file_extension": ".py",
   "mimetype": "text/x-python",
   "name": "python",
   "nbconvert_exporter": "python",
   "pygments_lexer": "ipython3",
   "version": "3.11.10"
  }
 },
 "nbformat": 4,
 "nbformat_minor": 4
}
