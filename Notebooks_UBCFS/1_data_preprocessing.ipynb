{
 "cells": [
  {
   "cell_type": "markdown",
   "metadata": {},
   "source": [
    "![](ubc_header.png)"
   ]
  },
  {
   "cell_type": "markdown",
   "metadata": {},
   "source": [
    "# Climate-Friendly Food Systems (CFFS) Labelling Project\n",
    "\n",
    "### The University of British Columbia\n",
    "\n",
    "****\n",
    "\n",
    "## Part I: Data Preprocessing"
   ]
  },
  {
   "cell_type": "markdown",
   "metadata": {},
   "source": [
    "## Set up and Import Libraries"
   ]
  },
  {
   "cell_type": "code",
   "execution_count": 1,
   "metadata": {},
   "outputs": [],
   "source": [
    "#pip install -r requirements.txt"
   ]
  },
  {
   "cell_type": "code",
   "execution_count": 2,
   "metadata": {},
   "outputs": [],
   "source": [
    "import numpy as np\n",
    "import pandas as pd\n",
    "import matplotlib.pyplot as plt\n",
    "import glob\n",
    "import os\n",
    "import csv\n",
    "from itertools import islice\n",
    "from decimal import Decimal\n",
    "import xml.etree.ElementTree as et\n",
    "from xml.etree.ElementTree import parse\n",
    "import openpyxl\n",
    "import pytest"
   ]
  },
  {
   "cell_type": "code",
   "execution_count": 3,
   "metadata": {},
   "outputs": [
    {
     "name": "stdout",
     "output_type": "stream",
     "text": [
      "/Users/vivaanwadhwa/Documents/GitHub/CFFS_sharon_2024\n"
     ]
    }
   ],
   "source": [
    "# RUN ONLY ONCE\n",
    "# os.chdir is used to change the current directory to the specified path\n",
    "os.chdir(\"../\") # Sets path to the repo folder as it is one level above where this file exists!\n",
    "path = os.getcwd()\n",
    "print(path)"
   ]
  },
  {
   "cell_type": "markdown",
   "metadata": {},
   "source": [
    "****\n",
    "\n",
    "## Load Data Files\n",
    "\n",
    "### Set Data File Path"
   ]
  },
  {
   "cell_type": "code",
   "execution_count": 4,
   "metadata": {},
   "outputs": [
    {
     "data": {
      "text/plain": [
       "['/Users/vivaanwadhwa/Documents/GitHub/CFFS_sharon_2024/data/raw/BLUEBERRY_FESTIVAL_24']"
      ]
     },
     "execution_count": 4,
     "metadata": {},
     "output_type": "execute_result"
    }
   ],
   "source": [
    "# Select data file path for the chosen venue and time range where the recipes data stored\n",
    "\n",
    "# OK 2023\n",
    "# filepath_list = glob.glob(os.path.join(os.getcwd(), \"data\", \"raw\", \"OK 23-24 Sep-Dec*\", \"*.oc\"))\n",
    "\n",
    "# Totem 2023\n",
    "# filepath_list += glob.glob(os.path.join(os.getcwd(), \"data\", \"raw\", \"Feast 23-24 Sep-Dec*\", \"*.oc\"))\n",
    "\n",
    "# Gather 2023\n",
    "# filepath_list += glob.glob(os.path.join(os.getcwd(), \"data\", \"raw\", \"Gather 23-24 Sep-Dec*\", \"*.oc\"))\n",
    "\n",
    "filepath_list = glob.glob(os.path.join(os.getcwd(), \"data\", \"raw\", \"BLUEBERRY_FESTIVAL_24\"))\n",
    "\n",
    "filepath_list"
   ]
  },
  {
   "cell_type": "markdown",
   "metadata": {},
   "source": [
    "### Import Items List"
   ]
  },
  {
   "cell_type": "code",
   "execution_count": 5,
   "metadata": {
    "scrolled": true
   },
   "outputs": [
    {
     "name": "stdout",
     "output_type": "stream",
     "text": [
      "     ItemId                     Description CaseQty CaseUOM    PakQty PakUOM  \\\n",
      "0   I-11179                     AGAR POWDER   0.400      Kg     1.000     Kg   \n",
      "1   I-40957          ALMOND SLICED BLANCHED   1.000     5KG  5000.000      g   \n",
      "2   I-29389            APPLES DICED IQF FRZ   1.000     bag    10.000     Kg   \n",
      "3   I-40964  BAKING POWD-DBL ACTIO PINNACLE   1.000      cs  5000.000      g   \n",
      "4    I-3118               BAKING PWDR MAGIC   5.000      Kg     1.000     Kg   \n",
      "..      ...                             ...     ...     ...       ...    ...   \n",
      "65  I-18980          WAFFLES BELGIAN LIEGE   36.000      ea     1.000     ea   \n",
      "66   I-5983               WATER FOR RECIPES   1.000       L     1.000      L   \n",
      "67   I-4949              WATERMELON SDLS MX   1.000      lb     1.000     lb   \n",
      "68   I-6850                   YOGURT GREEK*   1.000     TUB  4000.000      g   \n",
      "69  I-31129        ZEST LEMON SUGARED REPAK   5.000      lb     1.000     lb   \n",
      "\n",
      "            InventoryGroup  \n",
      "0           FOOD - GROCERY  \n",
      "1   BAKING-RAW INGREDIENTS  \n",
      "2                  PRODUCE  \n",
      "3   BAKING-RAW INGREDIENTS  \n",
      "4           FOOD - GROCERY  \n",
      "..                     ...  \n",
      "65          FOOD - GROCERY  \n",
      "66                BEVERAGE  \n",
      "67                 PRODUCE  \n",
      "68                   DAIRY  \n",
      "69  BAKING-RAW INGREDIENTS  \n",
      "\n",
      "[70 rows x 7 columns]\n"
     ]
    }
   ],
   "source": [
    "# Read items.xml files in the filepath_list and construct a dataframe\n",
    "ItemId = []\n",
    "Description = []\n",
    "CaseQty = []\n",
    "CaseUOM = []\n",
    "PakQty = []\n",
    "PakUOM = []\n",
    "InventoryGroup = []\n",
    "\n",
    "\n",
    "# from the items xml file, findtext of CaseQty, CaseUOM, PakQty, PakUOM, and InventoryGroup\n",
    "# then append it on the lists above\n",
    "\n",
    "for filepath in filepath_list:\n",
    "    path = filepath + '/Items.xml'\n",
    "    if os.path.isfile(path):\n",
    "        xtree = et.parse(path)\n",
    "        xroot = xtree.getroot()\n",
    "        for item in xtree.iterfind('Item'):\n",
    "            ItemId.append(item.attrib['id'])\n",
    "            Description.append(item.findtext('Description'))\n",
    "            CaseQty.append(item.findtext('CaseQty'))\n",
    "            CaseUOM.append(item.findtext('CaseUOM'))\n",
    "            PakQty.append(item.findtext('PakQty'))\n",
    "            PakUOM.append(item.findtext('PakUOM'))\n",
    "            InventoryGroup.append(item.findtext('InventoryGroup'))\n",
    "\n",
    "            \n",
    "# Create a dataframe from the lists created above.\n",
    "        \n",
    "Items = pd.DataFrame({'ItemId': ItemId, 'Description': Description, 'CaseQty': CaseQty, \n",
    "                      'CaseUOM': CaseUOM, 'PakQty': PakQty, 'PakUOM': PakUOM, 'InventoryGroup': InventoryGroup}\n",
    "                    )\n",
    "print(Items)\n",
    "Items.drop_duplicates(inplace=True)\n",
    "\n",
    "Items.reset_index(drop=True, inplace=True)"
   ]
  },
  {
   "cell_type": "code",
   "execution_count": 6,
   "metadata": {},
   "outputs": [],
   "source": [
    "# creates a new array with unique ItemIds\n",
    "all_id_list = Items[\"ItemId\"].unique()"
   ]
  },
  {
   "cell_type": "code",
   "execution_count": 7,
   "metadata": {},
   "outputs": [
    {
     "data": {
      "text/html": [
       "<div>\n",
       "<style scoped>\n",
       "    .dataframe tbody tr th:only-of-type {\n",
       "        vertical-align: middle;\n",
       "    }\n",
       "\n",
       "    .dataframe tbody tr th {\n",
       "        vertical-align: top;\n",
       "    }\n",
       "\n",
       "    .dataframe thead th {\n",
       "        text-align: right;\n",
       "    }\n",
       "</style>\n",
       "<table border=\"1\" class=\"dataframe\">\n",
       "  <thead>\n",
       "    <tr style=\"text-align: right;\">\n",
       "      <th></th>\n",
       "      <th>ItemId</th>\n",
       "      <th>Description</th>\n",
       "      <th>CaseQty</th>\n",
       "      <th>CaseUOM</th>\n",
       "      <th>PakQty</th>\n",
       "      <th>PakUOM</th>\n",
       "      <th>InventoryGroup</th>\n",
       "    </tr>\n",
       "  </thead>\n",
       "  <tbody>\n",
       "  </tbody>\n",
       "</table>\n",
       "</div>"
      ],
      "text/plain": [
       "Empty DataFrame\n",
       "Columns: [ItemId, Description, CaseQty, CaseUOM, PakQty, PakUOM, InventoryGroup]\n",
       "Index: []"
      ]
     },
     "execution_count": 7,
     "metadata": {},
     "output_type": "execute_result"
    }
   ],
   "source": [
    "# None of the items are egg yolk liq\n",
    "Items.loc[Items[\"Description\"] == \"Egg Yolk Liq\"]"
   ]
  },
  {
   "cell_type": "code",
   "execution_count": 8,
   "metadata": {},
   "outputs": [
    {
     "data": {
      "text/html": [
       "<div>\n",
       "<style scoped>\n",
       "    .dataframe tbody tr th:only-of-type {\n",
       "        vertical-align: middle;\n",
       "    }\n",
       "\n",
       "    .dataframe tbody tr th {\n",
       "        vertical-align: top;\n",
       "    }\n",
       "\n",
       "    .dataframe thead th {\n",
       "        text-align: right;\n",
       "    }\n",
       "</style>\n",
       "<table border=\"1\" class=\"dataframe\">\n",
       "  <thead>\n",
       "    <tr style=\"text-align: right;\">\n",
       "      <th></th>\n",
       "      <th>ItemId</th>\n",
       "      <th>Description</th>\n",
       "      <th>CaseQty</th>\n",
       "      <th>CaseUOM</th>\n",
       "      <th>PakQty</th>\n",
       "      <th>PakUOM</th>\n",
       "      <th>InventoryGroup</th>\n",
       "    </tr>\n",
       "  </thead>\n",
       "  <tbody>\n",
       "  </tbody>\n",
       "</table>\n",
       "</div>"
      ],
      "text/plain": [
       "Empty DataFrame\n",
       "Columns: [ItemId, Description, CaseQty, CaseUOM, PakQty, PakUOM, InventoryGroup]\n",
       "Index: []"
      ]
     },
     "execution_count": 8,
     "metadata": {},
     "output_type": "execute_result"
    }
   ],
   "source": [
    "# Sumplemental option for egg, vegan option\n",
    "Items.loc[Items[\"ItemId\"] == \"I-68700\"]"
   ]
  },
  {
   "cell_type": "code",
   "execution_count": 9,
   "metadata": {},
   "outputs": [
    {
     "data": {
      "text/plain": [
       "[]"
      ]
     },
     "execution_count": 9,
     "metadata": {},
     "output_type": "execute_result"
    }
   ],
   "source": [
    "# Gives you the list of breads\n",
    "breadlist = []\n",
    "\n",
    "\n",
    "# If the items in the Items list is a \"LOAF\", \"SANDWICH\", or \"BREAD\" then we should add it in the breadlist\n",
    "# We append it onto the breadlist at position row[\"ItemId\"]\n",
    "for ind, row in Items.iterrows():\n",
    "    if (\"LOAF\" or \"SANDWICH\" \"BREAD\") in row[\"Description\"]:\n",
    "        breadlist.append(row[\"ItemId\"])\n",
    "\n",
    "breadlist"
   ]
  },
  {
   "cell_type": "code",
   "execution_count": 10,
   "metadata": {},
   "outputs": [],
   "source": [
    "Items = Items[~Items[\"InventoryGroup\"].isin([\"DISPOSABLES\", \"SUPPLY\"])]"
   ]
  },
  {
   "cell_type": "code",
   "execution_count": 11,
   "metadata": {},
   "outputs": [
    {
     "data": {
      "text/plain": [
       "(66, 7)"
      ]
     },
     "execution_count": 11,
     "metadata": {},
     "output_type": "execute_result"
    }
   ],
   "source": [
    "# Based on info below there are 486 rows and 7 columns\n",
    "Items.shape"
   ]
  },
  {
   "cell_type": "code",
   "execution_count": 12,
   "metadata": {},
   "outputs": [
    {
     "data": {
      "text/plain": [
       "ItemId            object\n",
       "Description       object\n",
       "CaseQty           object\n",
       "CaseUOM           object\n",
       "PakQty            object\n",
       "PakUOM            object\n",
       "InventoryGroup    object\n",
       "dtype: object"
      ]
     },
     "execution_count": 12,
     "metadata": {},
     "output_type": "execute_result"
    }
   ],
   "source": [
    "Items.dtypes"
   ]
  },
  {
   "cell_type": "code",
   "execution_count": 13,
   "metadata": {},
   "outputs": [],
   "source": [
    "# Save the dataframe to csv\n",
    "path = os.path.join(os.getcwd(), \"data\", \"preprocessed\", \"Items_List.csv\")\n",
    "Items.to_csv(path, index = False, header = True)"
   ]
  },
  {
   "cell_type": "markdown",
   "metadata": {},
   "source": [
    "### Import Ingredients List"
   ]
  },
  {
   "cell_type": "code",
   "execution_count": 14,
   "metadata": {},
   "outputs": [],
   "source": [
    "# Read ingredients.xml files in the filepath_list and construct a dataframe\n",
    "IngredientId = []\n",
    "Conversion = []\n",
    "InvFactor = []\n",
    "Qty = []\n",
    "Recipe = []\n",
    "Uom = []\n",
    "\n",
    "# Using the Ingredients XML file, we extract attributes containing ingredients, conversion, invFactor, qty, recipe, and uom. \n",
    "# Then we append it onto the IngredientId, Coversion, InvFactor, Qty, Recipe, and Uom lists\n",
    "# Then we create a dataframe using the lists created. \n",
    "\n",
    "for filepath in filepath_list:\n",
    "    path = filepath + '/Ingredients.xml'\n",
    "    if os.path.isfile(path):\n",
    "        xtree = et.parse(path)\n",
    "        xroot = xtree.getroot()\n",
    "        for x in xtree.iterfind('Ingredient'):\n",
    "            IngredientId.append(x.attrib['ingredient'])\n",
    "            Conversion.append(x.attrib['conversion'])\n",
    "            InvFactor.append(x.attrib['invFactor'])\n",
    "            Qty.append(x.attrib['qty'])\n",
    "            Recipe.append(x.attrib['recipe'])\n",
    "            Uom.append(x.attrib['uom'])\n",
    "    \n",
    "Ingredients = pd.DataFrame({'IngredientId': IngredientId, 'Qty': Qty,'Uom': Uom, 'Conversion': Conversion, \n",
    "                      'InvFactor': InvFactor,'Recipe': Recipe}).drop_duplicates()\n",
    "Ingredients.drop_duplicates(subset=[\"IngredientId\", \"Recipe\"], inplace=True)\n",
    "\n",
    "Ingredients.reset_index(drop=True, inplace=True)"
   ]
  },
  {
   "cell_type": "code",
   "execution_count": 15,
   "metadata": {
    "scrolled": false
   },
   "outputs": [
    {
     "data": {
      "text/html": [
       "<div>\n",
       "<style scoped>\n",
       "    .dataframe tbody tr th:only-of-type {\n",
       "        vertical-align: middle;\n",
       "    }\n",
       "\n",
       "    .dataframe tbody tr th {\n",
       "        vertical-align: top;\n",
       "    }\n",
       "\n",
       "    .dataframe thead th {\n",
       "        text-align: right;\n",
       "    }\n",
       "</style>\n",
       "<table border=\"1\" class=\"dataframe\">\n",
       "  <thead>\n",
       "    <tr style=\"text-align: right;\">\n",
       "      <th></th>\n",
       "      <th>IngredientId</th>\n",
       "      <th>Qty</th>\n",
       "      <th>Uom</th>\n",
       "      <th>Conversion</th>\n",
       "      <th>InvFactor</th>\n",
       "      <th>Recipe</th>\n",
       "    </tr>\n",
       "  </thead>\n",
       "  <tbody>\n",
       "    <tr>\n",
       "      <th>146</th>\n",
       "      <td>I-29389</td>\n",
       "      <td>120.000</td>\n",
       "      <td>g</td>\n",
       "      <td>0.00100000</td>\n",
       "      <td>0.0422</td>\n",
       "      <td>P-71672</td>\n",
       "    </tr>\n",
       "  </tbody>\n",
       "</table>\n",
       "</div>"
      ],
      "text/plain": [
       "    IngredientId      Qty Uom  Conversion InvFactor   Recipe\n",
       "146      I-29389  120.000   g  0.00100000    0.0422  P-71672"
      ]
     },
     "execution_count": 15,
     "metadata": {},
     "output_type": "execute_result"
    }
   ],
   "source": [
    "Ingredients.loc[Ingredients[\"IngredientId\"] == \"I-29389\"]"
   ]
  },
  {
   "cell_type": "code",
   "execution_count": 16,
   "metadata": {},
   "outputs": [
    {
     "data": {
      "text/plain": [
       "22     I-3290\n",
       "23     I-3658\n",
       "24     I-6020\n",
       "27     I-3006\n",
       "31     I-3290\n",
       "        ...  \n",
       "155    I-2979\n",
       "156    I-3006\n",
       "157    I-3670\n",
       "159    I-4531\n",
       "162    I-5983\n",
       "Name: IngredientId, Length: 78, dtype: object"
      ]
     },
     "execution_count": 16,
     "metadata": {},
     "output_type": "execute_result"
    }
   ],
   "source": [
    "# This will output the IngredientId on the right side and the number of times the ingredient appears in the Ingredients\n",
    "# dataframe on the left side. \n",
    "\n",
    "# The duplicated() method returns a Series with True and False values that describe which rows in the DataFrame are \n",
    "# duplicated and not.\n",
    "\n",
    "check = Ingredients[\"IngredientId\"].duplicated()\n",
    "\n",
    "# The line below tells us at which index is the ingredient duplicated. For example I-4598 exists on index 2 of the dataframe and\n",
    "# then again on index 8. So duplicate is first true on index 8, which is why it is printed below. It also appears in a below \n",
    "# index so it is printed again with that index number. \n",
    "Ingredients[\"IngredientId\"][check]"
   ]
  },
  {
   "cell_type": "code",
   "execution_count": 17,
   "metadata": {},
   "outputs": [
    {
     "data": {
      "text/html": [
       "<div>\n",
       "<style scoped>\n",
       "    .dataframe tbody tr th:only-of-type {\n",
       "        vertical-align: middle;\n",
       "    }\n",
       "\n",
       "    .dataframe tbody tr th {\n",
       "        vertical-align: top;\n",
       "    }\n",
       "\n",
       "    .dataframe thead th {\n",
       "        text-align: right;\n",
       "    }\n",
       "</style>\n",
       "<table border=\"1\" class=\"dataframe\">\n",
       "  <thead>\n",
       "    <tr style=\"text-align: right;\">\n",
       "      <th></th>\n",
       "      <th>IngredientId</th>\n",
       "      <th>Qty</th>\n",
       "      <th>Uom</th>\n",
       "      <th>Conversion</th>\n",
       "      <th>InvFactor</th>\n",
       "      <th>Recipe</th>\n",
       "    </tr>\n",
       "  </thead>\n",
       "  <tbody>\n",
       "  </tbody>\n",
       "</table>\n",
       "</div>"
      ],
      "text/plain": [
       "Empty DataFrame\n",
       "Columns: [IngredientId, Qty, Uom, Conversion, InvFactor, Recipe]\n",
       "Index: []"
      ]
     },
     "execution_count": 17,
     "metadata": {},
     "output_type": "execute_result"
    }
   ],
   "source": [
    "# We can see from the printed items above that I-64877 does not appear because it does not get duplicated\n",
    "Ingredients.loc[Ingredients[\"IngredientId\"] == \"I-64877\"]"
   ]
  },
  {
   "cell_type": "code",
   "execution_count": 18,
   "metadata": {},
   "outputs": [
    {
     "data": {
      "text/html": [
       "<div>\n",
       "<style scoped>\n",
       "    .dataframe tbody tr th:only-of-type {\n",
       "        vertical-align: middle;\n",
       "    }\n",
       "\n",
       "    .dataframe tbody tr th {\n",
       "        vertical-align: top;\n",
       "    }\n",
       "\n",
       "    .dataframe thead th {\n",
       "        text-align: right;\n",
       "    }\n",
       "</style>\n",
       "<table border=\"1\" class=\"dataframe\">\n",
       "  <thead>\n",
       "    <tr style=\"text-align: right;\">\n",
       "      <th></th>\n",
       "      <th>IngredientId</th>\n",
       "      <th>Qty</th>\n",
       "      <th>Uom</th>\n",
       "      <th>Conversion</th>\n",
       "      <th>InvFactor</th>\n",
       "      <th>Recipe</th>\n",
       "    </tr>\n",
       "  </thead>\n",
       "  <tbody>\n",
       "    <tr>\n",
       "      <th>0</th>\n",
       "      <td>I-11185</td>\n",
       "      <td>1.000</td>\n",
       "      <td>Kg</td>\n",
       "      <td>35.27399000</td>\n",
       "      <td>0.3333</td>\n",
       "      <td>P-18967</td>\n",
       "    </tr>\n",
       "    <tr>\n",
       "      <th>1</th>\n",
       "      <td>I-5983</td>\n",
       "      <td>2.000</td>\n",
       "      <td>L</td>\n",
       "      <td>1.00000000</td>\n",
       "      <td>0.6667</td>\n",
       "      <td>P-18967</td>\n",
       "    </tr>\n",
       "    <tr>\n",
       "      <th>2</th>\n",
       "      <td>P-18967</td>\n",
       "      <td>1.000</td>\n",
       "      <td>Kg</td>\n",
       "      <td>1.00000000</td>\n",
       "      <td>1.0000</td>\n",
       "      <td>P-245</td>\n",
       "    </tr>\n",
       "    <tr>\n",
       "      <th>3</th>\n",
       "      <td>I-3642</td>\n",
       "      <td>1.000</td>\n",
       "      <td>Kg</td>\n",
       "      <td>1000.00000000</td>\n",
       "      <td>0.2500</td>\n",
       "      <td>P-25993</td>\n",
       "    </tr>\n",
       "    <tr>\n",
       "      <th>4</th>\n",
       "      <td>I-6026</td>\n",
       "      <td>3.000</td>\n",
       "      <td>Kg</td>\n",
       "      <td>1000.00000000</td>\n",
       "      <td>0.7500</td>\n",
       "      <td>P-25993</td>\n",
       "    </tr>\n",
       "    <tr>\n",
       "      <th>...</th>\n",
       "      <td>...</td>\n",
       "      <td>...</td>\n",
       "      <td>...</td>\n",
       "      <td>...</td>\n",
       "      <td>...</td>\n",
       "      <td>...</td>\n",
       "    </tr>\n",
       "    <tr>\n",
       "      <th>159</th>\n",
       "      <td>I-4531</td>\n",
       "      <td>1900.000</td>\n",
       "      <td>g</td>\n",
       "      <td>0.00220462</td>\n",
       "      <td>0.4819</td>\n",
       "      <td>P-71673</td>\n",
       "    </tr>\n",
       "    <tr>\n",
       "      <th>160</th>\n",
       "      <td>P-71672</td>\n",
       "      <td>2844.000</td>\n",
       "      <td>g</td>\n",
       "      <td>1.00000000</td>\n",
       "      <td>56.8800</td>\n",
       "      <td>P-71674</td>\n",
       "    </tr>\n",
       "    <tr>\n",
       "      <th>161</th>\n",
       "      <td>P-71673</td>\n",
       "      <td>3943.000</td>\n",
       "      <td>g</td>\n",
       "      <td>1.00000000</td>\n",
       "      <td>78.8600</td>\n",
       "      <td>P-71674</td>\n",
       "    </tr>\n",
       "    <tr>\n",
       "      <th>162</th>\n",
       "      <td>I-5983</td>\n",
       "      <td>15.000</td>\n",
       "      <td>L</td>\n",
       "      <td>1.00000000</td>\n",
       "      <td>0.5556</td>\n",
       "      <td>P-980</td>\n",
       "    </tr>\n",
       "    <tr>\n",
       "      <th>163</th>\n",
       "      <td>I-786</td>\n",
       "      <td>12.000</td>\n",
       "      <td>Kg</td>\n",
       "      <td>1.00000000</td>\n",
       "      <td>0.4444</td>\n",
       "      <td>P-980</td>\n",
       "    </tr>\n",
       "  </tbody>\n",
       "</table>\n",
       "<p>164 rows × 6 columns</p>\n",
       "</div>"
      ],
      "text/plain": [
       "    IngredientId       Qty Uom     Conversion InvFactor   Recipe\n",
       "0        I-11185     1.000  Kg    35.27399000    0.3333  P-18967\n",
       "1         I-5983     2.000   L     1.00000000    0.6667  P-18967\n",
       "2        P-18967     1.000  Kg     1.00000000    1.0000    P-245\n",
       "3         I-3642     1.000  Kg  1000.00000000    0.2500  P-25993\n",
       "4         I-6026     3.000  Kg  1000.00000000    0.7500  P-25993\n",
       "..           ...       ...  ..            ...       ...      ...\n",
       "159       I-4531  1900.000   g     0.00220462    0.4819  P-71673\n",
       "160      P-71672  2844.000   g     1.00000000   56.8800  P-71674\n",
       "161      P-71673  3943.000   g     1.00000000   78.8600  P-71674\n",
       "162       I-5983    15.000   L     1.00000000    0.5556    P-980\n",
       "163        I-786    12.000  Kg     1.00000000    0.4444    P-980\n",
       "\n",
       "[164 rows x 6 columns]"
      ]
     },
     "execution_count": 18,
     "metadata": {},
     "output_type": "execute_result"
    }
   ],
   "source": [
    "Ingredients"
   ]
  },
  {
   "cell_type": "code",
   "execution_count": 19,
   "metadata": {},
   "outputs": [
    {
     "data": {
      "text/html": [
       "<div>\n",
       "<style scoped>\n",
       "    .dataframe tbody tr th:only-of-type {\n",
       "        vertical-align: middle;\n",
       "    }\n",
       "\n",
       "    .dataframe tbody tr th {\n",
       "        vertical-align: top;\n",
       "    }\n",
       "\n",
       "    .dataframe thead th {\n",
       "        text-align: right;\n",
       "    }\n",
       "</style>\n",
       "<table border=\"1\" class=\"dataframe\">\n",
       "  <thead>\n",
       "    <tr style=\"text-align: right;\">\n",
       "      <th></th>\n",
       "      <th>IngredientId</th>\n",
       "      <th>Qty</th>\n",
       "      <th>Uom</th>\n",
       "      <th>Conversion</th>\n",
       "      <th>InvFactor</th>\n",
       "      <th>Recipe</th>\n",
       "    </tr>\n",
       "  </thead>\n",
       "  <tbody>\n",
       "  </tbody>\n",
       "</table>\n",
       "</div>"
      ],
      "text/plain": [
       "Empty DataFrame\n",
       "Columns: [IngredientId, Qty, Uom, Conversion, InvFactor, Recipe]\n",
       "Index: []"
      ]
     },
     "execution_count": 19,
     "metadata": {},
     "output_type": "execute_result"
    }
   ],
   "source": [
    "# Below we are checking if we can extract an entire recipe. So we can do .loc with the particular recipe id and then \n",
    "# print all the data points (ingredientId, Qty, Uom, Conversion, InvFactor) for that recipe. \n",
    "Ingredients.loc[Ingredients[\"Recipe\"] == \"R-68698\"]"
   ]
  },
  {
   "cell_type": "code",
   "execution_count": 20,
   "metadata": {},
   "outputs": [
    {
     "data": {
      "text/html": [
       "<div>\n",
       "<style scoped>\n",
       "    .dataframe tbody tr th:only-of-type {\n",
       "        vertical-align: middle;\n",
       "    }\n",
       "\n",
       "    .dataframe tbody tr th {\n",
       "        vertical-align: top;\n",
       "    }\n",
       "\n",
       "    .dataframe thead th {\n",
       "        text-align: right;\n",
       "    }\n",
       "</style>\n",
       "<table border=\"1\" class=\"dataframe\">\n",
       "  <thead>\n",
       "    <tr style=\"text-align: right;\">\n",
       "      <th></th>\n",
       "      <th>ItemId</th>\n",
       "      <th>Description</th>\n",
       "      <th>CaseQty</th>\n",
       "      <th>CaseUOM</th>\n",
       "      <th>PakQty</th>\n",
       "      <th>PakUOM</th>\n",
       "      <th>InventoryGroup</th>\n",
       "    </tr>\n",
       "  </thead>\n",
       "  <tbody>\n",
       "    <tr>\n",
       "      <th>0</th>\n",
       "      <td>I-11179</td>\n",
       "      <td>AGAR POWDER</td>\n",
       "      <td>0.400</td>\n",
       "      <td>Kg</td>\n",
       "      <td>1.000</td>\n",
       "      <td>Kg</td>\n",
       "      <td>FOOD - GROCERY</td>\n",
       "    </tr>\n",
       "    <tr>\n",
       "      <th>1</th>\n",
       "      <td>I-40957</td>\n",
       "      <td>ALMOND SLICED BLANCHED</td>\n",
       "      <td>1.000</td>\n",
       "      <td>5KG</td>\n",
       "      <td>5000.000</td>\n",
       "      <td>g</td>\n",
       "      <td>BAKING-RAW INGREDIENTS</td>\n",
       "    </tr>\n",
       "    <tr>\n",
       "      <th>2</th>\n",
       "      <td>I-29389</td>\n",
       "      <td>APPLES DICED IQF FRZ</td>\n",
       "      <td>1.000</td>\n",
       "      <td>bag</td>\n",
       "      <td>10.000</td>\n",
       "      <td>Kg</td>\n",
       "      <td>PRODUCE</td>\n",
       "    </tr>\n",
       "    <tr>\n",
       "      <th>3</th>\n",
       "      <td>I-40964</td>\n",
       "      <td>BAKING POWD-DBL ACTIO PINNACLE</td>\n",
       "      <td>1.000</td>\n",
       "      <td>cs</td>\n",
       "      <td>5000.000</td>\n",
       "      <td>g</td>\n",
       "      <td>BAKING-RAW INGREDIENTS</td>\n",
       "    </tr>\n",
       "    <tr>\n",
       "      <th>4</th>\n",
       "      <td>I-3118</td>\n",
       "      <td>BAKING PWDR MAGIC</td>\n",
       "      <td>5.000</td>\n",
       "      <td>Kg</td>\n",
       "      <td>1.000</td>\n",
       "      <td>Kg</td>\n",
       "      <td>FOOD - GROCERY</td>\n",
       "    </tr>\n",
       "    <tr>\n",
       "      <th>...</th>\n",
       "      <td>...</td>\n",
       "      <td>...</td>\n",
       "      <td>...</td>\n",
       "      <td>...</td>\n",
       "      <td>...</td>\n",
       "      <td>...</td>\n",
       "      <td>...</td>\n",
       "    </tr>\n",
       "    <tr>\n",
       "      <th>65</th>\n",
       "      <td>I-18980</td>\n",
       "      <td>WAFFLES BELGIAN LIEGE</td>\n",
       "      <td>36.000</td>\n",
       "      <td>ea</td>\n",
       "      <td>1.000</td>\n",
       "      <td>ea</td>\n",
       "      <td>FOOD - GROCERY</td>\n",
       "    </tr>\n",
       "    <tr>\n",
       "      <th>66</th>\n",
       "      <td>I-5983</td>\n",
       "      <td>WATER FOR RECIPES</td>\n",
       "      <td>1.000</td>\n",
       "      <td>L</td>\n",
       "      <td>1.000</td>\n",
       "      <td>L</td>\n",
       "      <td>BEVERAGE</td>\n",
       "    </tr>\n",
       "    <tr>\n",
       "      <th>67</th>\n",
       "      <td>I-4949</td>\n",
       "      <td>WATERMELON SDLS MX</td>\n",
       "      <td>1.000</td>\n",
       "      <td>lb</td>\n",
       "      <td>1.000</td>\n",
       "      <td>lb</td>\n",
       "      <td>PRODUCE</td>\n",
       "    </tr>\n",
       "    <tr>\n",
       "      <th>68</th>\n",
       "      <td>I-6850</td>\n",
       "      <td>YOGURT GREEK*</td>\n",
       "      <td>1.000</td>\n",
       "      <td>TUB</td>\n",
       "      <td>4000.000</td>\n",
       "      <td>g</td>\n",
       "      <td>DAIRY</td>\n",
       "    </tr>\n",
       "    <tr>\n",
       "      <th>69</th>\n",
       "      <td>I-31129</td>\n",
       "      <td>ZEST LEMON SUGARED REPAK</td>\n",
       "      <td>5.000</td>\n",
       "      <td>lb</td>\n",
       "      <td>1.000</td>\n",
       "      <td>lb</td>\n",
       "      <td>BAKING-RAW INGREDIENTS</td>\n",
       "    </tr>\n",
       "  </tbody>\n",
       "</table>\n",
       "<p>66 rows × 7 columns</p>\n",
       "</div>"
      ],
      "text/plain": [
       "     ItemId                     Description CaseQty CaseUOM    PakQty PakUOM  \\\n",
       "0   I-11179                     AGAR POWDER   0.400      Kg     1.000     Kg   \n",
       "1   I-40957          ALMOND SLICED BLANCHED   1.000     5KG  5000.000      g   \n",
       "2   I-29389            APPLES DICED IQF FRZ   1.000     bag    10.000     Kg   \n",
       "3   I-40964  BAKING POWD-DBL ACTIO PINNACLE   1.000      cs  5000.000      g   \n",
       "4    I-3118               BAKING PWDR MAGIC   5.000      Kg     1.000     Kg   \n",
       "..      ...                             ...     ...     ...       ...    ...   \n",
       "65  I-18980          WAFFLES BELGIAN LIEGE   36.000      ea     1.000     ea   \n",
       "66   I-5983               WATER FOR RECIPES   1.000       L     1.000      L   \n",
       "67   I-4949              WATERMELON SDLS MX   1.000      lb     1.000     lb   \n",
       "68   I-6850                   YOGURT GREEK*   1.000     TUB  4000.000      g   \n",
       "69  I-31129        ZEST LEMON SUGARED REPAK   5.000      lb     1.000     lb   \n",
       "\n",
       "            InventoryGroup  \n",
       "0           FOOD - GROCERY  \n",
       "1   BAKING-RAW INGREDIENTS  \n",
       "2                  PRODUCE  \n",
       "3   BAKING-RAW INGREDIENTS  \n",
       "4           FOOD - GROCERY  \n",
       "..                     ...  \n",
       "65          FOOD - GROCERY  \n",
       "66                BEVERAGE  \n",
       "67                 PRODUCE  \n",
       "68                   DAIRY  \n",
       "69  BAKING-RAW INGREDIENTS  \n",
       "\n",
       "[66 rows x 7 columns]"
      ]
     },
     "execution_count": 20,
     "metadata": {},
     "output_type": "execute_result"
    }
   ],
   "source": [
    "Items"
   ]
  },
  {
   "cell_type": "code",
   "execution_count": 21,
   "metadata": {},
   "outputs": [
    {
     "data": {
      "text/plain": [
       "(164, 6)"
      ]
     },
     "execution_count": 21,
     "metadata": {},
     "output_type": "execute_result"
    }
   ],
   "source": [
    "Ingredients.shape"
   ]
  },
  {
   "cell_type": "code",
   "execution_count": 22,
   "metadata": {},
   "outputs": [
    {
     "data": {
      "text/plain": [
       "IngredientId    object\n",
       "Qty             object\n",
       "Uom             object\n",
       "Conversion      object\n",
       "InvFactor       object\n",
       "Recipe          object\n",
       "dtype: object"
      ]
     },
     "execution_count": 22,
     "metadata": {},
     "output_type": "execute_result"
    }
   ],
   "source": [
    "Ingredients.dtypes"
   ]
  },
  {
   "cell_type": "code",
   "execution_count": 23,
   "metadata": {},
   "outputs": [],
   "source": [
    "# Save the dataframe to csv\n",
    "path = os.path.join(os.getcwd(), \"data\", \"preprocessed\", \"Ingredients_List.csv\")\n",
    "Ingredients.to_csv(path, index = False, header = True)"
   ]
  },
  {
   "cell_type": "markdown",
   "metadata": {},
   "source": [
    "### Import Preps List"
   ]
  },
  {
   "cell_type": "code",
   "execution_count": 24,
   "metadata": {},
   "outputs": [],
   "source": [
    "# Read preps.xml files in the filepath_list and construct a dataframe\n",
    "PrepId = []\n",
    "Description = []\n",
    "PakQty = []\n",
    "PakUOM = []\n",
    "InventoryGroup = []\n",
    "\n",
    "\n",
    "# Here we do the same thing for the Preps XML file where we find the columns using attrib function and then append it onto\n",
    "# the dataframe called Preps. \n",
    "\n",
    "for filepath in filepath_list:\n",
    "    path = filepath + '/Preps.xml'\n",
    "    if os.path.isfile(path):\n",
    "        xtree = et.parse(path)\n",
    "        xroot = xtree.getroot()\n",
    "        for x in xtree.iterfind('Prep'):\n",
    "            PrepId.append(x.attrib['id'])\n",
    "            Description.append(x.findtext('Description'))\n",
    "            PakQty.append(x.findtext('PakQty'))\n",
    "            PakUOM.append(x.findtext('PakUOM'))\n",
    "            InventoryGroup.append(x.findtext('InventoryGroup'))\n",
    "    \n",
    "Preps = pd.DataFrame({'PrepId': PrepId, 'Description': Description,\n",
    "                  'PakQty': PakQty, 'PakUOM':PakUOM, 'InventoryGroup': InventoryGroup}).drop_duplicates()\n",
    "preps_columns = Preps.columns\n",
    "Preps.drop_duplicates(subset=[\"PrepId\"], inplace=True)\n",
    "\n",
    "Preps.reset_index(drop=True, inplace=True)"
   ]
  },
  {
   "cell_type": "code",
   "execution_count": 25,
   "metadata": {},
   "outputs": [
    {
     "data": {
      "text/html": [
       "<div>\n",
       "<style scoped>\n",
       "    .dataframe tbody tr th:only-of-type {\n",
       "        vertical-align: middle;\n",
       "    }\n",
       "\n",
       "    .dataframe tbody tr th {\n",
       "        vertical-align: top;\n",
       "    }\n",
       "\n",
       "    .dataframe thead th {\n",
       "        text-align: right;\n",
       "    }\n",
       "</style>\n",
       "<table border=\"1\" class=\"dataframe\">\n",
       "  <thead>\n",
       "    <tr style=\"text-align: right;\">\n",
       "      <th></th>\n",
       "      <th>PrepId</th>\n",
       "      <th>Description</th>\n",
       "      <th>PakQty</th>\n",
       "      <th>PakUOM</th>\n",
       "      <th>InventoryGroup</th>\n",
       "    </tr>\n",
       "  </thead>\n",
       "  <tbody>\n",
       "    <tr>\n",
       "      <th>0</th>\n",
       "      <td>P-51178</td>\n",
       "      <td>BF||Blueberrie Chia Scone</td>\n",
       "      <td>25.000</td>\n",
       "      <td>ea</td>\n",
       "      <td></td>\n",
       "    </tr>\n",
       "    <tr>\n",
       "      <th>1</th>\n",
       "      <td>P-71674</td>\n",
       "      <td>BF|BB Oatmeal Bar</td>\n",
       "      <td>50.000</td>\n",
       "      <td>each</td>\n",
       "      <td></td>\n",
       "    </tr>\n",
       "    <tr>\n",
       "      <th>2</th>\n",
       "      <td>P-51184</td>\n",
       "      <td>BF|Blueberry Compote</td>\n",
       "      <td>1.000</td>\n",
       "      <td>L</td>\n",
       "      <td>ZDONT USE FOOD</td>\n",
       "    </tr>\n",
       "    <tr>\n",
       "      <th>3</th>\n",
       "      <td>P-51183</td>\n",
       "      <td>BF|Blueberry Yogurt Cup</td>\n",
       "      <td>1.000</td>\n",
       "      <td>ea</td>\n",
       "      <td></td>\n",
       "    </tr>\n",
       "    <tr>\n",
       "      <th>4</th>\n",
       "      <td>P-68421</td>\n",
       "      <td>BF|Cake Blueberry Upsidedown</td>\n",
       "      <td>160.000</td>\n",
       "      <td>PTN</td>\n",
       "      <td>BAKED GOODS</td>\n",
       "    </tr>\n",
       "    <tr>\n",
       "      <th>5</th>\n",
       "      <td>P-36196</td>\n",
       "      <td>BF|Cheesecake Blueberry Mango</td>\n",
       "      <td>250.000</td>\n",
       "      <td>ea</td>\n",
       "      <td></td>\n",
       "    </tr>\n",
       "    <tr>\n",
       "      <th>6</th>\n",
       "      <td>P-44402</td>\n",
       "      <td>BF|Cookies Blueberry Power</td>\n",
       "      <td>18.000</td>\n",
       "      <td>ea</td>\n",
       "      <td></td>\n",
       "    </tr>\n",
       "    <tr>\n",
       "      <th>7</th>\n",
       "      <td>P-68423</td>\n",
       "      <td>BF|Crumble Blueberry</td>\n",
       "      <td>1.000</td>\n",
       "      <td>ea</td>\n",
       "      <td></td>\n",
       "    </tr>\n",
       "    <tr>\n",
       "      <th>8</th>\n",
       "      <td>P-68033</td>\n",
       "      <td>BF|Mochi Donut</td>\n",
       "      <td>1.000</td>\n",
       "      <td>each</td>\n",
       "      <td></td>\n",
       "    </tr>\n",
       "    <tr>\n",
       "      <th>9</th>\n",
       "      <td>P-44782</td>\n",
       "      <td>BF|MUFFIN|Blueberry Lemon Oat</td>\n",
       "      <td>65.000</td>\n",
       "      <td>ea</td>\n",
       "      <td></td>\n",
       "    </tr>\n",
       "    <tr>\n",
       "      <th>10</th>\n",
       "      <td>P-45130</td>\n",
       "      <td>BF|Pancake</td>\n",
       "      <td>2.000</td>\n",
       "      <td>ea</td>\n",
       "      <td></td>\n",
       "    </tr>\n",
       "    <tr>\n",
       "      <th>11</th>\n",
       "      <td>P-44878</td>\n",
       "      <td>BF|Salad Blueberry Watermelon</td>\n",
       "      <td>1.000</td>\n",
       "      <td>ea</td>\n",
       "      <td></td>\n",
       "    </tr>\n",
       "    <tr>\n",
       "      <th>12</th>\n",
       "      <td>P-44877</td>\n",
       "      <td>BF|Tart Blueberry</td>\n",
       "      <td>1.000</td>\n",
       "      <td>each</td>\n",
       "      <td></td>\n",
       "    </tr>\n",
       "    <tr>\n",
       "      <th>13</th>\n",
       "      <td>P-71654</td>\n",
       "      <td>BF|Tart Blueberry Frangipane</td>\n",
       "      <td>1.000</td>\n",
       "      <td>each</td>\n",
       "      <td></td>\n",
       "    </tr>\n",
       "    <tr>\n",
       "      <th>14</th>\n",
       "      <td>P-68424</td>\n",
       "      <td>BF|Waffle</td>\n",
       "      <td>1.000</td>\n",
       "      <td>ea</td>\n",
       "      <td></td>\n",
       "    </tr>\n",
       "    <tr>\n",
       "      <th>15</th>\n",
       "      <td>P-67919</td>\n",
       "      <td>COMPOTE|Berry Blue</td>\n",
       "      <td>1.500</td>\n",
       "      <td>Kg</td>\n",
       "      <td></td>\n",
       "    </tr>\n",
       "    <tr>\n",
       "      <th>16</th>\n",
       "      <td>P-18967</td>\n",
       "      <td>COOKED| Quinoa</td>\n",
       "      <td>3.000</td>\n",
       "      <td>Kg</td>\n",
       "      <td></td>\n",
       "    </tr>\n",
       "    <tr>\n",
       "      <th>17</th>\n",
       "      <td>P-36843</td>\n",
       "      <td>DRESSING|Lemon Herb</td>\n",
       "      <td>8.000</td>\n",
       "      <td>L</td>\n",
       "      <td></td>\n",
       "    </tr>\n",
       "    <tr>\n",
       "      <th>18</th>\n",
       "      <td>P-68088</td>\n",
       "      <td>FILLING|Blueberry Tart</td>\n",
       "      <td>500.000</td>\n",
       "      <td>g</td>\n",
       "      <td></td>\n",
       "    </tr>\n",
       "    <tr>\n",
       "      <th>19</th>\n",
       "      <td>P-71653</td>\n",
       "      <td>FILLING|Frangipane</td>\n",
       "      <td>1980.000</td>\n",
       "      <td>g</td>\n",
       "      <td></td>\n",
       "    </tr>\n",
       "    <tr>\n",
       "      <th>20</th>\n",
       "      <td>P-68216</td>\n",
       "      <td>GEL|Blueberry</td>\n",
       "      <td>240.000</td>\n",
       "      <td>g</td>\n",
       "      <td></td>\n",
       "    </tr>\n",
       "    <tr>\n",
       "      <th>21</th>\n",
       "      <td>P-68215</td>\n",
       "      <td>JUICE||Blueberry</td>\n",
       "      <td>3.500</td>\n",
       "      <td>L</td>\n",
       "      <td></td>\n",
       "    </tr>\n",
       "    <tr>\n",
       "      <th>22</th>\n",
       "      <td>P-980</td>\n",
       "      <td>Mix|Pancake</td>\n",
       "      <td>27.000</td>\n",
       "      <td>L</td>\n",
       "      <td></td>\n",
       "    </tr>\n",
       "    <tr>\n",
       "      <th>23</th>\n",
       "      <td>P-245</td>\n",
       "      <td>Prep- Cooked Quinoa</td>\n",
       "      <td>1.000</td>\n",
       "      <td>Kg</td>\n",
       "      <td>CK - FOOD</td>\n",
       "    </tr>\n",
       "    <tr>\n",
       "      <th>24</th>\n",
       "      <td>P-25993</td>\n",
       "      <td>Prep-Salt &amp; Pepper</td>\n",
       "      <td>4.000</td>\n",
       "      <td>Kg</td>\n",
       "      <td></td>\n",
       "    </tr>\n",
       "    <tr>\n",
       "      <th>25</th>\n",
       "      <td>P-71672</td>\n",
       "      <td>PREP|BB Oat Bar (Base)</td>\n",
       "      <td>2844.000</td>\n",
       "      <td>g</td>\n",
       "      <td></td>\n",
       "    </tr>\n",
       "    <tr>\n",
       "      <th>26</th>\n",
       "      <td>P-71673</td>\n",
       "      <td>PREP|BB Oat Bar (Topping)</td>\n",
       "      <td>3943.000</td>\n",
       "      <td>g</td>\n",
       "      <td></td>\n",
       "    </tr>\n",
       "    <tr>\n",
       "      <th>27</th>\n",
       "      <td>P-68032</td>\n",
       "      <td>PREP|Butter Cream Blueberry</td>\n",
       "      <td>1.000</td>\n",
       "      <td>Kg</td>\n",
       "      <td></td>\n",
       "    </tr>\n",
       "    <tr>\n",
       "      <th>28</th>\n",
       "      <td>P-68031</td>\n",
       "      <td>Prep|Mochi Donut</td>\n",
       "      <td>70.000</td>\n",
       "      <td>each</td>\n",
       "      <td></td>\n",
       "    </tr>\n",
       "    <tr>\n",
       "      <th>29</th>\n",
       "      <td>P-37306</td>\n",
       "      <td>Topping Streusel</td>\n",
       "      <td>8.000</td>\n",
       "      <td>Kg</td>\n",
       "      <td></td>\n",
       "    </tr>\n",
       "  </tbody>\n",
       "</table>\n",
       "</div>"
      ],
      "text/plain": [
       "     PrepId                     Description    PakQty PakUOM  InventoryGroup\n",
       "0   P-51178       BF||Blueberrie Chia Scone    25.000     ea                \n",
       "1   P-71674               BF|BB Oatmeal Bar    50.000   each                \n",
       "2   P-51184            BF|Blueberry Compote     1.000      L  ZDONT USE FOOD\n",
       "3   P-51183         BF|Blueberry Yogurt Cup     1.000     ea                \n",
       "4   P-68421    BF|Cake Blueberry Upsidedown   160.000    PTN     BAKED GOODS\n",
       "5   P-36196   BF|Cheesecake Blueberry Mango   250.000     ea                \n",
       "6   P-44402      BF|Cookies Blueberry Power    18.000     ea                \n",
       "7   P-68423           BF|Crumble Blueberry      1.000     ea                \n",
       "8   P-68033                  BF|Mochi Donut     1.000   each                \n",
       "9   P-44782  BF|MUFFIN|Blueberry Lemon Oat     65.000     ea                \n",
       "10  P-45130                     BF|Pancake      2.000     ea                \n",
       "11  P-44878   BF|Salad Blueberry Watermelon     1.000     ea                \n",
       "12  P-44877              BF|Tart Blueberry      1.000   each                \n",
       "13  P-71654    BF|Tart Blueberry Frangipane     1.000   each                \n",
       "14  P-68424                       BF|Waffle     1.000     ea                \n",
       "15  P-67919              COMPOTE|Berry Blue     1.500     Kg                \n",
       "16  P-18967                  COOKED| Quinoa     3.000     Kg                \n",
       "17  P-36843             DRESSING|Lemon Herb     8.000      L                \n",
       "18  P-68088         FILLING|Blueberry Tart    500.000      g                \n",
       "19  P-71653              FILLING|Frangipane  1980.000      g                \n",
       "20  P-68216                   GEL|Blueberry   240.000      g                \n",
       "21  P-68215                JUICE||Blueberry     3.500      L                \n",
       "22    P-980                    Mix|Pancake     27.000      L                \n",
       "23    P-245             Prep- Cooked Quinoa     1.000     Kg       CK - FOOD\n",
       "24  P-25993              Prep-Salt & Pepper     4.000     Kg                \n",
       "25  P-71672          PREP|BB Oat Bar (Base)  2844.000      g                \n",
       "26  P-71673       PREP|BB Oat Bar (Topping)  3943.000      g                \n",
       "27  P-68032     PREP|Butter Cream Blueberry     1.000     Kg                \n",
       "28  P-68031                Prep|Mochi Donut    70.000   each                \n",
       "29  P-37306                Topping Streusel     8.000     Kg                "
      ]
     },
     "execution_count": 25,
     "metadata": {},
     "output_type": "execute_result"
    }
   ],
   "source": [
    "Preps"
   ]
  },
  {
   "cell_type": "code",
   "execution_count": 26,
   "metadata": {},
   "outputs": [
    {
     "name": "stdout",
     "output_type": "stream",
     "text": [
      "False\n"
     ]
    }
   ],
   "source": [
    "# This tells us that there are not any duplicates in the Preps dataframe. There is a different process|ingredient pair for \n",
    "# all the recipes. \n",
    "check = Preps[\"PrepId\"].duplicated().any()\n",
    "print(check)"
   ]
  },
  {
   "cell_type": "code",
   "execution_count": 27,
   "metadata": {},
   "outputs": [
    {
     "data": {
      "text/plain": [
       "(30, 5)"
      ]
     },
     "execution_count": 27,
     "metadata": {},
     "output_type": "execute_result"
    }
   ],
   "source": [
    "# There are 546 rows and 5 columns\n",
    "Preps.shape"
   ]
  },
  {
   "cell_type": "code",
   "execution_count": 28,
   "metadata": {},
   "outputs": [
    {
     "data": {
      "text/html": [
       "<div>\n",
       "<style scoped>\n",
       "    .dataframe tbody tr th:only-of-type {\n",
       "        vertical-align: middle;\n",
       "    }\n",
       "\n",
       "    .dataframe tbody tr th {\n",
       "        vertical-align: top;\n",
       "    }\n",
       "\n",
       "    .dataframe thead th {\n",
       "        text-align: right;\n",
       "    }\n",
       "</style>\n",
       "<table border=\"1\" class=\"dataframe\">\n",
       "  <thead>\n",
       "    <tr style=\"text-align: right;\">\n",
       "      <th></th>\n",
       "      <th>PrepId</th>\n",
       "      <th>Description</th>\n",
       "      <th>PakQty</th>\n",
       "      <th>PakUOM</th>\n",
       "      <th>InventoryGroup</th>\n",
       "    </tr>\n",
       "  </thead>\n",
       "  <tbody>\n",
       "  </tbody>\n",
       "</table>\n",
       "</div>"
      ],
      "text/plain": [
       "Empty DataFrame\n",
       "Columns: [PrepId, Description, PakQty, PakUOM, InventoryGroup]\n",
       "Index: []"
      ]
     },
     "execution_count": 28,
     "metadata": {},
     "output_type": "execute_result"
    }
   ],
   "source": [
    "# Here we see there is only one place P-50739 is used in the Preps\n",
    "Preps.loc[Preps[\"PrepId\"] == \"P-50739\"]"
   ]
  },
  {
   "cell_type": "code",
   "execution_count": 29,
   "metadata": {},
   "outputs": [
    {
     "data": {
      "text/plain": [
       "PrepId            object\n",
       "Description       object\n",
       "PakQty            object\n",
       "PakUOM            object\n",
       "InventoryGroup    object\n",
       "dtype: object"
      ]
     },
     "execution_count": 29,
     "metadata": {},
     "output_type": "execute_result"
    }
   ],
   "source": [
    "Preps.dtypes"
   ]
  },
  {
   "cell_type": "code",
   "execution_count": 30,
   "metadata": {},
   "outputs": [],
   "source": [
    "# Save the dataframe to csv\n",
    "path = os.path.join(os.getcwd(), \"data\", \"preprocessed\", \"Preps_List.csv\")\n",
    "Preps.to_csv(path, index = False, header = True)"
   ]
  },
  {
   "cell_type": "markdown",
   "metadata": {},
   "source": [
    "### Import Products List"
   ]
  },
  {
   "cell_type": "code",
   "execution_count": 31,
   "metadata": {},
   "outputs": [],
   "source": [
    "# Read products.xml files in the filepath_list and construct a dataframe\n",
    "ProdId = []\n",
    "Description = []\n",
    "SalesGroup = []\n",
    "\n",
    "# From the XML file for products append the id into ProdId, description into Description, and SalesGroup into SalesGroup list.\n",
    "# Make a dataframe out of the 3 lists\n",
    "# Then also drop the duplicates in the Products dataframe\n",
    "\n",
    "for filepath in filepath_list:\n",
    "    path = filepath + '/Products.xml'\n",
    "    if os.path.isfile(path):\n",
    "        xtree = et.parse(path)\n",
    "        xroot = xtree.getroot()\n",
    "        for x in xtree.iterfind('Prod'):\n",
    "            ProdId.append(x.attrib['id'])\n",
    "            Description.append(x.findtext('Description'))\n",
    "            SalesGroup.append(x.findtext('SalesGroup'))\n",
    "        \n",
    "Products = pd.DataFrame({'ProdId': ProdId, 'Description': Description, 'SalesGroup': SalesGroup})\n",
    "Products.drop_duplicates(inplace=True)\n",
    "\n",
    "Products.reset_index(drop=True, inplace=True)"
   ]
  },
  {
   "cell_type": "code",
   "execution_count": 32,
   "metadata": {},
   "outputs": [
    {
     "data": {
      "text/html": [
       "<div>\n",
       "<style scoped>\n",
       "    .dataframe tbody tr th:only-of-type {\n",
       "        vertical-align: middle;\n",
       "    }\n",
       "\n",
       "    .dataframe tbody tr th {\n",
       "        vertical-align: top;\n",
       "    }\n",
       "\n",
       "    .dataframe thead th {\n",
       "        text-align: right;\n",
       "    }\n",
       "</style>\n",
       "<table border=\"1\" class=\"dataframe\">\n",
       "  <thead>\n",
       "    <tr style=\"text-align: right;\">\n",
       "      <th></th>\n",
       "      <th>ProdId</th>\n",
       "      <th>Description</th>\n",
       "      <th>SalesGroup</th>\n",
       "    </tr>\n",
       "  </thead>\n",
       "  <tbody>\n",
       "  </tbody>\n",
       "</table>\n",
       "</div>"
      ],
      "text/plain": [
       "Empty DataFrame\n",
       "Columns: [ProdId, Description, SalesGroup]\n",
       "Index: []"
      ]
     },
     "execution_count": 32,
     "metadata": {},
     "output_type": "execute_result"
    }
   ],
   "source": [
    "Products"
   ]
  },
  {
   "cell_type": "code",
   "execution_count": 33,
   "metadata": {
    "scrolled": true
   },
   "outputs": [
    {
     "data": {
      "text/html": [
       "<div>\n",
       "<style scoped>\n",
       "    .dataframe tbody tr th:only-of-type {\n",
       "        vertical-align: middle;\n",
       "    }\n",
       "\n",
       "    .dataframe tbody tr th {\n",
       "        vertical-align: top;\n",
       "    }\n",
       "\n",
       "    .dataframe thead th {\n",
       "        text-align: right;\n",
       "    }\n",
       "</style>\n",
       "<table border=\"1\" class=\"dataframe\">\n",
       "  <thead>\n",
       "    <tr style=\"text-align: right;\">\n",
       "      <th></th>\n",
       "      <th>ProdId</th>\n",
       "      <th>Description</th>\n",
       "      <th>SalesGroup</th>\n",
       "    </tr>\n",
       "  </thead>\n",
       "  <tbody>\n",
       "  </tbody>\n",
       "</table>\n",
       "</div>"
      ],
      "text/plain": [
       "Empty DataFrame\n",
       "Columns: [ProdId, Description, SalesGroup]\n",
       "Index: []"
      ]
     },
     "execution_count": 33,
     "metadata": {},
     "output_type": "execute_result"
    }
   ],
   "source": [
    "# Here we can see that there is only one R-56966 in the products \n",
    "Products.loc[Products[\"ProdId\"] == \"R-56966\"]"
   ]
  },
  {
   "cell_type": "code",
   "execution_count": 34,
   "metadata": {},
   "outputs": [
    {
     "data": {
      "text/plain": [
       "ProdId         float64\n",
       "Description    float64\n",
       "SalesGroup     float64\n",
       "dtype: object"
      ]
     },
     "execution_count": 34,
     "metadata": {},
     "output_type": "execute_result"
    }
   ],
   "source": [
    "Products.dtypes"
   ]
  },
  {
   "cell_type": "code",
   "execution_count": 35,
   "metadata": {},
   "outputs": [
    {
     "data": {
      "text/html": [
       "<div>\n",
       "<style scoped>\n",
       "    .dataframe tbody tr th:only-of-type {\n",
       "        vertical-align: middle;\n",
       "    }\n",
       "\n",
       "    .dataframe tbody tr th {\n",
       "        vertical-align: top;\n",
       "    }\n",
       "\n",
       "    .dataframe thead th {\n",
       "        text-align: right;\n",
       "    }\n",
       "</style>\n",
       "<table border=\"1\" class=\"dataframe\">\n",
       "  <thead>\n",
       "    <tr style=\"text-align: right;\">\n",
       "      <th></th>\n",
       "      <th>ProdId</th>\n",
       "      <th>Description</th>\n",
       "      <th>SalesGroup</th>\n",
       "    </tr>\n",
       "  </thead>\n",
       "  <tbody>\n",
       "  </tbody>\n",
       "</table>\n",
       "</div>"
      ],
      "text/plain": [
       "Empty DataFrame\n",
       "Columns: [ProdId, Description, SalesGroup]\n",
       "Index: []"
      ]
     },
     "execution_count": 35,
     "metadata": {},
     "output_type": "execute_result"
    }
   ],
   "source": [
    "# Here we can see that there is only one R-68698 in the products \n",
    "Products.loc[Products[\"ProdId\"] == \"R-68698\"]"
   ]
  },
  {
   "cell_type": "code",
   "execution_count": 36,
   "metadata": {},
   "outputs": [
    {
     "data": {
      "text/plain": [
       "(0, 3)"
      ]
     },
     "execution_count": 36,
     "metadata": {},
     "output_type": "execute_result"
    }
   ],
   "source": [
    "Products.shape"
   ]
  },
  {
   "cell_type": "code",
   "execution_count": 37,
   "metadata": {},
   "outputs": [
    {
     "data": {
      "text/plain": [
       "ProdId         float64\n",
       "Description    float64\n",
       "SalesGroup     float64\n",
       "dtype: object"
      ]
     },
     "execution_count": 37,
     "metadata": {},
     "output_type": "execute_result"
    }
   ],
   "source": [
    "Products.dtypes"
   ]
  },
  {
   "cell_type": "code",
   "execution_count": 38,
   "metadata": {},
   "outputs": [],
   "source": [
    "# Save the dataframe to csv\n",
    "path = os.path.join(os.getcwd(), \"data\", \"preprocessed\", \"Products_List.csv\")\n",
    "Products.to_csv(path, index = False, header = True)"
   ]
  },
  {
   "cell_type": "markdown",
   "metadata": {},
   "source": [
    "### Import Conversions List"
   ]
  },
  {
   "cell_type": "code",
   "execution_count": 39,
   "metadata": {
    "scrolled": true
   },
   "outputs": [],
   "source": [
    "# Read conventions.xml files in the filepath_list and construct a dataframe\n",
    "ConversionId = []\n",
    "Multiplier = []\n",
    "ConvertFromQty = []\n",
    "ConvertFromUom = []\n",
    "ConvertToQty = []\n",
    "ConvertToUom = []\n",
    "\n",
    "# From the XML file for Conversions append the id into ConversionId, multiplier into Multiplier, ConvertFrom->qty into \n",
    "# ConvertFromQty,ConvertFrom->uom into ConvertFromUom, ConvertTo->qty into ConvertToQty and and ConvertTo->uom into the\n",
    "# CovertToUom list. \n",
    "# Make a dataframe out of the 3 lists\n",
    "# Then also drop the duplicates in the Products dataframe\n",
    "\n",
    "\n",
    "for filepath in filepath_list:\n",
    "    path = filepath + '/Conversions.xml'\n",
    "    if os.path.isfile(path):\n",
    "        xtree = et.parse(path)\n",
    "        xroot = xtree.getroot()\n",
    "        for x in xtree.iterfind('Conversion'):\n",
    "            ConversionId.append(x.attrib['id'])\n",
    "            Multiplier.append(x.attrib['multiplier'])\n",
    "            ConvertFromQty.append(x.find('ConvertFrom').attrib['qty'])\n",
    "            ConvertFromUom.append(x.find('ConvertFrom').attrib['uom'])\n",
    "            ConvertToQty.append(x.find('ConvertTo').attrib['qty'])\n",
    "            ConvertToUom.append(x.find('ConvertTo').attrib['uom'])\n",
    "    \n",
    "    \n",
    "Conversions = pd.DataFrame({'ConversionId': ConversionId, 'Multiplier': Multiplier, 'ConvertFromQty': ConvertFromQty,\n",
    "                           'ConvertFromUom': ConvertFromUom, 'ConvertToQty': ConvertToQty, 'ConvertToUom': ConvertToUom}\n",
    "                          ).drop_duplicates()\n",
    "\n",
    "Conversions.reset_index(drop=True, inplace=True)"
   ]
  },
  {
   "cell_type": "code",
   "execution_count": 40,
   "metadata": {},
   "outputs": [
    {
     "data": {
      "text/html": [
       "<div>\n",
       "<style scoped>\n",
       "    .dataframe tbody tr th:only-of-type {\n",
       "        vertical-align: middle;\n",
       "    }\n",
       "\n",
       "    .dataframe tbody tr th {\n",
       "        vertical-align: top;\n",
       "    }\n",
       "\n",
       "    .dataframe thead th {\n",
       "        text-align: right;\n",
       "    }\n",
       "</style>\n",
       "<table border=\"1\" class=\"dataframe\">\n",
       "  <thead>\n",
       "    <tr style=\"text-align: right;\">\n",
       "      <th></th>\n",
       "      <th>ConversionId</th>\n",
       "      <th>Multiplier</th>\n",
       "      <th>ConvertFromQty</th>\n",
       "      <th>ConvertFromUom</th>\n",
       "      <th>ConvertToQty</th>\n",
       "      <th>ConvertToUom</th>\n",
       "    </tr>\n",
       "  </thead>\n",
       "  <tbody>\n",
       "    <tr>\n",
       "      <th>0</th>\n",
       "      <td></td>\n",
       "      <td>1.00000000</td>\n",
       "      <td>1.0000</td>\n",
       "      <td>XXX</td>\n",
       "      <td>1.0000</td>\n",
       "      <td>L</td>\n",
       "    </tr>\n",
       "    <tr>\n",
       "      <th>1</th>\n",
       "      <td></td>\n",
       "      <td>0.87719298</td>\n",
       "      <td>1.0000</td>\n",
       "      <td>1.14L</td>\n",
       "      <td>1.1400</td>\n",
       "      <td>L</td>\n",
       "    </tr>\n",
       "    <tr>\n",
       "      <th>2</th>\n",
       "      <td></td>\n",
       "      <td>0.66666667</td>\n",
       "      <td>1.0000</td>\n",
       "      <td>1.5L</td>\n",
       "      <td>1.5000</td>\n",
       "      <td>L</td>\n",
       "    </tr>\n",
       "    <tr>\n",
       "      <th>3</th>\n",
       "      <td></td>\n",
       "      <td>0.57142857</td>\n",
       "      <td>1.0000</td>\n",
       "      <td>1.75 L</td>\n",
       "      <td>1.7500</td>\n",
       "      <td>L</td>\n",
       "    </tr>\n",
       "    <tr>\n",
       "      <th>4</th>\n",
       "      <td></td>\n",
       "      <td>0.50000000</td>\n",
       "      <td>1.0000</td>\n",
       "      <td>2L</td>\n",
       "      <td>2.0000</td>\n",
       "      <td>L</td>\n",
       "    </tr>\n",
       "    <tr>\n",
       "      <th>...</th>\n",
       "      <td>...</td>\n",
       "      <td>...</td>\n",
       "      <td>...</td>\n",
       "      <td>...</td>\n",
       "      <td>...</td>\n",
       "      <td>...</td>\n",
       "    </tr>\n",
       "    <tr>\n",
       "      <th>63</th>\n",
       "      <td>I-5983</td>\n",
       "      <td>0.03378378</td>\n",
       "      <td>1.0000</td>\n",
       "      <td>fl oz</td>\n",
       "      <td>29.6000</td>\n",
       "      <td>g</td>\n",
       "    </tr>\n",
       "    <tr>\n",
       "      <th>64</th>\n",
       "      <td>I-5983</td>\n",
       "      <td>0.00100000</td>\n",
       "      <td>1.0000</td>\n",
       "      <td>L</td>\n",
       "      <td>1000.0000</td>\n",
       "      <td>g</td>\n",
       "    </tr>\n",
       "    <tr>\n",
       "      <th>65</th>\n",
       "      <td>I-6791</td>\n",
       "      <td>0.00411523</td>\n",
       "      <td>1.0000</td>\n",
       "      <td>cup</td>\n",
       "      <td>243.0000</td>\n",
       "      <td>g</td>\n",
       "    </tr>\n",
       "    <tr>\n",
       "      <th>66</th>\n",
       "      <td>I-8058</td>\n",
       "      <td>0.00408163</td>\n",
       "      <td>1.0000</td>\n",
       "      <td>cup</td>\n",
       "      <td>245.0000</td>\n",
       "      <td>g</td>\n",
       "    </tr>\n",
       "    <tr>\n",
       "      <th>67</th>\n",
       "      <td>I-8058</td>\n",
       "      <td>0.00102041</td>\n",
       "      <td>1.0000</td>\n",
       "      <td>L</td>\n",
       "      <td>980.0000</td>\n",
       "      <td>g</td>\n",
       "    </tr>\n",
       "  </tbody>\n",
       "</table>\n",
       "<p>68 rows × 6 columns</p>\n",
       "</div>"
      ],
      "text/plain": [
       "   ConversionId  Multiplier ConvertFromQty ConvertFromUom ConvertToQty  \\\n",
       "0                1.00000000         1.0000            XXX       1.0000   \n",
       "1                0.87719298         1.0000          1.14L       1.1400   \n",
       "2                0.66666667         1.0000           1.5L       1.5000   \n",
       "3                0.57142857         1.0000         1.75 L       1.7500   \n",
       "4                0.50000000         1.0000             2L       2.0000   \n",
       "..          ...         ...            ...            ...          ...   \n",
       "63       I-5983  0.03378378         1.0000          fl oz      29.6000   \n",
       "64       I-5983  0.00100000         1.0000              L    1000.0000   \n",
       "65       I-6791  0.00411523         1.0000            cup     243.0000   \n",
       "66       I-8058  0.00408163         1.0000            cup     245.0000   \n",
       "67       I-8058  0.00102041         1.0000              L     980.0000   \n",
       "\n",
       "   ConvertToUom  \n",
       "0             L  \n",
       "1             L  \n",
       "2             L  \n",
       "3             L  \n",
       "4             L  \n",
       "..          ...  \n",
       "63            g  \n",
       "64            g  \n",
       "65            g  \n",
       "66            g  \n",
       "67            g  \n",
       "\n",
       "[68 rows x 6 columns]"
      ]
     },
     "execution_count": 40,
     "metadata": {},
     "output_type": "execute_result"
    }
   ],
   "source": [
    "# Here we can see for example that to convert 1.14 L to 1 L the multiplier is 0.877 since 1/1.14 = 0.877\n",
    "Conversions"
   ]
  },
  {
   "cell_type": "code",
   "execution_count": 41,
   "metadata": {},
   "outputs": [
    {
     "data": {
      "text/html": [
       "<div>\n",
       "<style scoped>\n",
       "    .dataframe tbody tr th:only-of-type {\n",
       "        vertical-align: middle;\n",
       "    }\n",
       "\n",
       "    .dataframe tbody tr th {\n",
       "        vertical-align: top;\n",
       "    }\n",
       "\n",
       "    .dataframe thead th {\n",
       "        text-align: right;\n",
       "    }\n",
       "</style>\n",
       "<table border=\"1\" class=\"dataframe\">\n",
       "  <thead>\n",
       "    <tr style=\"text-align: right;\">\n",
       "      <th></th>\n",
       "      <th>ConversionId</th>\n",
       "      <th>Multiplier</th>\n",
       "      <th>ConvertFromQty</th>\n",
       "      <th>ConvertFromUom</th>\n",
       "      <th>ConvertToQty</th>\n",
       "      <th>ConvertToUom</th>\n",
       "    </tr>\n",
       "  </thead>\n",
       "  <tbody>\n",
       "  </tbody>\n",
       "</table>\n",
       "</div>"
      ],
      "text/plain": [
       "Empty DataFrame\n",
       "Columns: [ConversionId, Multiplier, ConvertFromQty, ConvertFromUom, ConvertToQty, ConvertToUom]\n",
       "Index: []"
      ]
     },
     "execution_count": 41,
     "metadata": {},
     "output_type": "execute_result"
    }
   ],
   "source": [
    "# Here we can check that there are no ingredients listed since \n",
    "Conversions.loc[Conversions[\"ConversionId\"] == \"I-4582\"]"
   ]
  },
  {
   "cell_type": "code",
   "execution_count": 42,
   "metadata": {},
   "outputs": [
    {
     "name": "stdout",
     "output_type": "stream",
     "text": [
      "All unique IDs list\n",
      "\n",
      "['I-11179' 'I-40957' 'I-29389' 'I-40964' 'I-3118' 'I-3119' 'I-4507'\n",
      " 'I-4530' 'I-33601' 'I-4531' 'I-4534' 'I-6020' 'I-11433' 'I-19143'\n",
      " 'I-3222' 'I-8325' 'I-2979' 'I-40951' 'I-3225' 'I-1472' 'I-2157' 'I-2156'\n",
      " 'I-29032' 'I-3283' 'I-2986' 'I-3290' 'I-3292' 'I-11189' 'I-23753'\n",
      " 'I-4617' 'I-4772' 'I-1813' 'I-52598' 'I-45822' 'I-8058' 'I-6791' 'I-786'\n",
      " 'I-3364' 'I-24931' 'I-3373' 'I-3006' 'I-56382' 'I-3642' 'I-3588'\n",
      " 'I-11185' 'I-42143' 'I-3497' 'I-6026' 'I-12176' 'I-3501' 'I-2254'\n",
      " 'I-6820' 'I-3658' 'I-3660' 'I-6027' 'I-35921111' 'I-12' 'I-3669' 'I-3670'\n",
      " 'I-2784' 'I-3498' 'I-18980' 'I-5983' 'I-4949' 'I-6850' 'I-31129']\n",
      "\n",
      "\n",
      "All unique Conversions list\n",
      "\n",
      "['' 'I-1813' 'I-2254' 'I-2384' 'I-3225' 'I-3283' 'I-3497' 'I-3501'\n",
      " 'I-3642' 'I-3658' 'I-3660' 'I-3669' 'I-3670' 'I-4507' 'I-4530' 'I-4772'\n",
      " 'I-4949' 'I-5983' 'I-6791' 'I-8058']\n"
     ]
    }
   ],
   "source": [
    "all_id_list = Items[\"ItemId\"].unique()\n",
    "all_conv_list = Conversions[\"ConversionId\"].unique()\n",
    "\n",
    "print(\"All unique IDs list\\n\")\n",
    "print(all_id_list)\n",
    "print(\"\\n\")\n",
    "print(\"All unique Conversions list\\n\")\n",
    "print(all_conv_list)"
   ]
  },
  {
   "cell_type": "code",
   "execution_count": 43,
   "metadata": {},
   "outputs": [
    {
     "name": "stdout",
     "output_type": "stream",
     "text": [
      "48\n"
     ]
    }
   ],
   "source": [
    "# Here we have the number of items in the list that are a part of the \"all_id_list\" but not part of the \"all_conv_list\"\n",
    "missing_conv_id = []\n",
    "\n",
    "for item in all_id_list:\n",
    "    if item not in all_conv_list:\n",
    "        missing_conv_id.append(item)\n",
    "        \n",
    "missing_conv_id\n",
    "print(len(missing_conv_id))"
   ]
  },
  {
   "cell_type": "code",
   "execution_count": 44,
   "metadata": {},
   "outputs": [
    {
     "data": {
      "text/plain": [
       "(68, 6)"
      ]
     },
     "execution_count": 44,
     "metadata": {},
     "output_type": "execute_result"
    }
   ],
   "source": [
    "Conversions.shape"
   ]
  },
  {
   "cell_type": "code",
   "execution_count": 45,
   "metadata": {},
   "outputs": [
    {
     "data": {
      "text/html": [
       "<div>\n",
       "<style scoped>\n",
       "    .dataframe tbody tr th:only-of-type {\n",
       "        vertical-align: middle;\n",
       "    }\n",
       "\n",
       "    .dataframe tbody tr th {\n",
       "        vertical-align: top;\n",
       "    }\n",
       "\n",
       "    .dataframe thead th {\n",
       "        text-align: right;\n",
       "    }\n",
       "</style>\n",
       "<table border=\"1\" class=\"dataframe\">\n",
       "  <thead>\n",
       "    <tr style=\"text-align: right;\">\n",
       "      <th></th>\n",
       "      <th>ConversionId</th>\n",
       "      <th>Multiplier</th>\n",
       "      <th>ConvertFromQty</th>\n",
       "      <th>ConvertFromUom</th>\n",
       "      <th>ConvertToQty</th>\n",
       "      <th>ConvertToUom</th>\n",
       "    </tr>\n",
       "  </thead>\n",
       "  <tbody>\n",
       "  </tbody>\n",
       "</table>\n",
       "</div>"
      ],
      "text/plain": [
       "Empty DataFrame\n",
       "Columns: [ConversionId, Multiplier, ConvertFromQty, ConvertFromUom, ConvertToQty, ConvertToUom]\n",
       "Index: []"
      ]
     },
     "execution_count": 45,
     "metadata": {},
     "output_type": "execute_result"
    }
   ],
   "source": [
    "Conversions.loc[Conversions[\"ConversionId\"] == \"I-29389\"]"
   ]
  },
  {
   "cell_type": "code",
   "execution_count": 46,
   "metadata": {
    "scrolled": false
   },
   "outputs": [
    {
     "data": {
      "text/plain": [
       "ConversionId      object\n",
       "Multiplier        object\n",
       "ConvertFromQty    object\n",
       "ConvertFromUom    object\n",
       "ConvertToQty      object\n",
       "ConvertToUom      object\n",
       "dtype: object"
      ]
     },
     "execution_count": 46,
     "metadata": {},
     "output_type": "execute_result"
    }
   ],
   "source": [
    "Conversions.dtypes"
   ]
  },
  {
   "cell_type": "code",
   "execution_count": 47,
   "metadata": {},
   "outputs": [],
   "source": [
    "# Save the dataframe to csv\n",
    "path = os.path.join(os.getcwd(), \"data\", \"preprocessed\", \"Conversions_List.csv\")\n",
    "Conversions.to_csv(path, index = False, header = True)"
   ]
  },
  {
   "cell_type": "markdown",
   "metadata": {},
   "source": [
    "***\n",
    "## Data Summary"
   ]
  },
  {
   "cell_type": "code",
   "execution_count": 48,
   "metadata": {},
   "outputs": [
    {
     "data": {
      "text/html": [
       "<div>\n",
       "<style scoped>\n",
       "    .dataframe tbody tr th:only-of-type {\n",
       "        vertical-align: middle;\n",
       "    }\n",
       "\n",
       "    .dataframe tbody tr th {\n",
       "        vertical-align: top;\n",
       "    }\n",
       "\n",
       "    .dataframe thead th {\n",
       "        text-align: right;\n",
       "    }\n",
       "</style>\n",
       "<table border=\"1\" class=\"dataframe\">\n",
       "  <thead>\n",
       "    <tr style=\"text-align: right;\">\n",
       "      <th></th>\n",
       "      <th>count</th>\n",
       "      <th>columns</th>\n",
       "    </tr>\n",
       "  </thead>\n",
       "  <tbody>\n",
       "    <tr>\n",
       "      <th>Items</th>\n",
       "      <td>66</td>\n",
       "      <td>7</td>\n",
       "    </tr>\n",
       "    <tr>\n",
       "      <th>Preps</th>\n",
       "      <td>30</td>\n",
       "      <td>5</td>\n",
       "    </tr>\n",
       "    <tr>\n",
       "      <th>Ingredients</th>\n",
       "      <td>164</td>\n",
       "      <td>6</td>\n",
       "    </tr>\n",
       "    <tr>\n",
       "      <th>Products</th>\n",
       "      <td>0</td>\n",
       "      <td>3</td>\n",
       "    </tr>\n",
       "    <tr>\n",
       "      <th>Conversions</th>\n",
       "      <td>68</td>\n",
       "      <td>6</td>\n",
       "    </tr>\n",
       "  </tbody>\n",
       "</table>\n",
       "</div>"
      ],
      "text/plain": [
       "             count  columns\n",
       "Items           66        7\n",
       "Preps           30        5\n",
       "Ingredients    164        6\n",
       "Products         0        3\n",
       "Conversions     68        6"
      ]
     },
     "execution_count": 48,
     "metadata": {},
     "output_type": "execute_result"
    }
   ],
   "source": [
    "# Summary of raw data imported for evaluation\n",
    "# Here we have a summary of the number of items, preps, ingredients, products, conversions\n",
    "\n",
    "datasum = pd.DataFrame([Items.shape, Preps.shape, Ingredients.shape, Products.shape, Conversions.shape],\n",
    "                       columns = ['count', 'columns'], \n",
    "                       index = ['Items', 'Preps', 'Ingredients', 'Products', 'Conversions'])\n",
    "datasum"
   ]
  },
  {
   "cell_type": "code",
   "execution_count": null,
   "metadata": {},
   "outputs": [],
   "source": []
  }
 ],
 "metadata": {
  "kernelspec": {
   "display_name": "Python 3 (ipykernel)",
   "language": "python",
   "name": "python3"
  },
  "language_info": {
   "codemirror_mode": {
    "name": "ipython",
    "version": 3
   },
   "file_extension": ".py",
   "mimetype": "text/x-python",
   "name": "python",
   "nbconvert_exporter": "python",
   "pygments_lexer": "ipython3",
   "version": "3.12.3"
  }
 },
 "nbformat": 4,
 "nbformat_minor": 4
}
