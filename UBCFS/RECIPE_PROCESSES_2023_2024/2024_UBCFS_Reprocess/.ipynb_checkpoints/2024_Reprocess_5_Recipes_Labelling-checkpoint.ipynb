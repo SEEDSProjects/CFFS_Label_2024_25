{
 "cells": [
  {
   "cell_type": "markdown",
   "id": "c4a96510",
   "metadata": {},
   "source": [
    "# Labelling Recipes Stage"
   ]
  },
  {
   "cell_type": "code",
   "execution_count": 1,
   "id": "93780f81",
   "metadata": {},
   "outputs": [],
   "source": [
    "import pandas as pd\n",
    "import numpy as np\n",
    "import matplotlib\n",
    "from matplotlib import pyplot as plt\n",
    "import seaborn as sns"
   ]
  },
  {
   "cell_type": "code",
   "execution_count": 2,
   "id": "f0f0fc7a",
   "metadata": {},
   "outputs": [],
   "source": [
    "fifty_cutoff = 191.12\n",
    "overall_baseline = 382.25\n",
    "\n",
    "GHG_baseline = 382.25\n",
    "nitrogen_baseline = 3.86\n",
    "water_baseline = 1248.19\n",
    "land_baseline = 0.93"
   ]
  },
  {
   "cell_type": "code",
   "execution_count": 3,
   "id": "faf30bca",
   "metadata": {},
   "outputs": [],
   "source": [
    "# CHANGE THIS AS NEEDED:\n",
    "# restaurant_name = \"OK23-24\"\n",
    "# restaurant_name = \"Gather23-24\"\n",
    "restaurant_name = \"Totem23-24\""
   ]
  },
  {
   "cell_type": "code",
   "execution_count": 4,
   "id": "a1c051a3",
   "metadata": {},
   "outputs": [],
   "source": [
    "def create_ghg_label(label):\n",
    "    # determine the GHG label based on the given label value and predefined cutoffs\n",
    "    if label > overall_baseline:\n",
    "        # if the label value is > than overall baseline, assign \"Red\" label\n",
    "        return \"Red\"\n",
    "    elif (label <= overall_baseline) & (label > fifty_cutoff):\n",
    "        # if the label value is between overall baseline and fifty_cutoff, assign \"Yellow\" label\n",
    "        return \"Yellow\"\n",
    "    elif label <= fifty_cutoff:\n",
    "        # if the label value is less than or equal to the fifty_cutoff, assign \"Green\" label\n",
    "        return \"Green\"\n"
   ]
  },
  {
   "cell_type": "code",
   "execution_count": 5,
   "id": "f7ec7eb7",
   "metadata": {},
   "outputs": [],
   "source": [
    "def create_results_all_factors(df, GHG_weight, nitrogen_weight, water_weight, land_weight):\n",
    "    # GHG_weight, nitrogen_weight, water_weight, land_weight are passed as arguments\n",
    "    df[\"Combined Label\"] = \"\"\n",
    "    \n",
    "    def calculate_all_factors(ghg, nitrogen, water, land, n):\n",
    "        weighted_ghg = (ghg / GHG_baseline) * GHG_weight\n",
    "        weighted_nitrogen = (nitrogen / nitrogen_baseline) * nitrogen_weight\n",
    "        weighted_water = (water / water_baseline) * water_weight\n",
    "        weighted_land = (land / land_baseline) * land_weight\n",
    "\n",
    "        # Calculate the combined score\n",
    "        combined_score = (weighted_ghg + weighted_nitrogen + weighted_water + weighted_land) / n\n",
    "        return combined_score\n",
    "\n",
    "    for ind, row in df.iterrows():\n",
    "        # Calculate the label for each row\n",
    "        label = calculate_all_factors(row[\"GHG Emission (g) / 100g\"], row[\"N lost (g) / 100g\"],\n",
    "                                      row[\"Stress-Weighted Water Use (L) / 100g\"],\n",
    "                                      row['Land Use (m^2) / 100g'], 4)  # 4 factors considered\n",
    "\n",
    "        # Assign labels based on the calculated score\n",
    "        if label <= 0.5:\n",
    "            df.loc[ind, \"Combined Label\"] = \"Green\"\n",
    "        elif label > 0.5 and label < 1:\n",
    "            df.loc[ind, \"Combined Label\"] = \"Yellow\"\n",
    "        else:\n",
    "            df.loc[ind, \"Combined Label\"] = \"Red\"\n",
    "    return df\n"
   ]
  },
  {
   "cell_type": "code",
   "execution_count": 6,
   "id": "72e91acb",
   "metadata": {},
   "outputs": [],
   "source": [
    "def add_menu_names(df, dict):\n",
    "    # add menu names to the DataFrame based on a dictionary\n",
    "    df[\"Displayed Name\"] = \"\"\n",
    "    menu_name = list(dict.keys())\n",
    "    menu_ID = list(dict.values())\n",
    "    for ind, row in df.iterrows():\n",
    "        searchID = row[\"ProdId\"]\n",
    "        if searchID in menu_ID:\n",
    "            # if the product ID is found in the menu_ID list, retrieve the corresponding name\n",
    "            position = menu_ID.index(searchID)\n",
    "            name = menu_name[position]\n",
    "            df.loc[ind, \"Displayed Name\"] = name\n",
    "        else:\n",
    "            continue\n",
    "    name_col = df.pop(\"Displayed Name\")\n",
    "    df.insert(0, \"Displayed Name\", name_col)\n",
    "    df = df.dropna(subset=[\"Displayed Name\"])\n",
    "\n",
    "    df_temp = df[\"Displayed Name\"].str.split(\"|\", expand=True)\n",
    "    df[\"Category\"] = df_temp[0]\n",
    "    df[\"Displayed Name\"] = df_temp[1]\n",
    "    name_col2 = df.pop(\"Category\")\n",
    "    df.insert(0, \"Category\", name_col2)\n",
    "    # returns the modified DataFrame with the added \"Category\" and \"Displayed Name\" columns\n",
    "    return df\n"
   ]
  },
  {
   "cell_type": "code",
   "execution_count": 7,
   "id": "19eb280b",
   "metadata": {},
   "outputs": [],
   "source": [
    "def create_final_counts(df):\n",
    "    # create final counts of GHG and combined labels from DataFrame\n",
    "\n",
    "    # count the occurrences of GHG Only labels\n",
    "    ghg_red = df[\"GHG Only Label\"].value_counts()[\"Red\"]\n",
    "    ghg_yellow = df[\"GHG Only Label\"].value_counts()[\"Yellow\"]\n",
    "    ghg_green = df[\"GHG Only Label\"].value_counts()[\"Green\"]\n",
    "    # count the occurrences of Combined labels\n",
    "    all_red = df[\"Combined Label\"].value_counts()[\"Red\"]\n",
    "    all_yellow = df[\"Combined Label\"].value_counts()[\"Yellow\"]\n",
    "    all_green = df[\"Combined Label\"].value_counts()[\"Green\"]\n",
    "    print(all_red, all_yellow, all_green)\n",
    "    # create a dictionary to store the label counts\n",
    "    data = {\"GHG Label Counts\": [ghg_red, ghg_yellow, ghg_green],\n",
    "            \"Combined Label Counts\": [all_red, all_yellow, all_green]}\n",
    "    # create a DataFrame from the label counts data and return it\n",
    "    results = pd.DataFrame(data, index=[\"Red\", \"Yellow\", \"Green\"])\n",
    "    return results\n"
   ]
  },
  {
   "cell_type": "code",
   "execution_count": 8,
   "id": "2b117276",
   "metadata": {},
   "outputs": [],
   "source": [
    "def create_visualizations(df):\n",
    "    df.reset_index(inplace=True)\n",
    "    df = df.rename(columns={\"index\": \"Color\"})\n",
    "    sns.set_theme(style=\"darkgrid\")\n",
    "    palette = {\"Green\": \"tab:green\", \"Red\": \"tab:red\", \"Yellow\": \"tab:orange\", \"Sum\": \"tab:blue\"}\n",
    "    fig, axes = plt.subplots(1, 2, figsize=(7, 4), sharex=False, sharey=True)\n",
    "    fig.suptitle(\"Emission Label Counts\")\n",
    "    ax1 = sns.barplot(data=df, x=df[\"Color\"], y=df[\"GHG Label Counts\"], ax=axes[0], palette=palette)\n",
    "    ax1.set_title(\"GHG Emission Label\")\n",
    "    ax1.set_ylabel(\"Counts\")\n",
    "    ax1.set_xlabel(\"\")\n",
    "    ax2 = sns.barplot(data=df, x=df[\"Color\"], y=df[\"Combined Label Counts\"], ax=axes[1], palette=palette)\n",
    "    ax2.set_title(\"Combined Emissions Label\")\n",
    "    ax2.set_ylabel(\"\")\n",
    "    ax2.set_xlabel(\"\")\n",
    "    fig.title = \"Color Comparison\"\n",
    "    ax1.set_title = \"GHG Emission Label Counts\"\n",
    "    ax2.set_title = \"Combined Emissions Label Counts\"\n",
    "    ax2.set_ylabel = \"\"\n",
    "    for ax in [ax1, ax2]:\n",
    "        for i in ax.containers:\n",
    "            ax.bar_label(i, )\n",
    "    plt.tight_layout()\n",
    "    plt.savefig(\"C:/Users/ENTER_HERE/CFFS-S23/CFFS-22-23/data/final/2023_2024_CFFS_Outcomes/Summary_fig.png\")\n",
    "    plt.show()"
   ]
  },
  {
   "cell_type": "code",
   "execution_count": 9,
   "id": "f4155124",
   "metadata": {},
   "outputs": [],
   "source": [
    "def create_category_true(df):\n",
    "    # create category columns for True values in the DataFrame\n",
    "\n",
    "    # create empty columns for each category\n",
    "    df[\"RED\"] = \"\"\n",
    "    df[\"YELLOW\"] = \"\"\n",
    "    df[\"GREEN\"] = \"\"\n",
    "    # iterate over each row in the DataFrame\n",
    "    for ind, row in df.iterrows():\n",
    "        # Check the value of the Combined Label column and assign \"TRUE\" to the corresponding category column\n",
    "        if row[\"Combined Label\"] == \"Red\":\n",
    "            df.loc[ind, \"RED\"] = \"TRUE\"\n",
    "        if row[\"Combined Label\"] == \"Yellow\":\n",
    "            df.loc[ind, \"YELLOW\"] = \"TRUE\"\n",
    "        if row[\"Combined Label\"] == \"Green\":\n",
    "            df.loc[ind, \"GREEN\"] = \"TRUE\"\n",
    "    # adds category columns for True values based on the Combined Label column\n",
    "    return df\n"
   ]
  },
  {
   "cell_type": "code",
   "execution_count": 10,
   "id": "5828e60f",
   "metadata": {},
   "outputs": [],
   "source": [
    "products = pd.read_csv('C:/Users/ENTER_HERE/CFFS-S23/CFFS-22-23/data/preprocessed/Products_List.csv')"
   ]
  },
  {
   "cell_type": "code",
   "execution_count": 11,
   "id": "3639d29a",
   "metadata": {},
   "outputs": [
    {
     "data": {
      "text/html": [
       "<div>\n",
       "<style scoped>\n",
       "    .dataframe tbody tr th:only-of-type {\n",
       "        vertical-align: middle;\n",
       "    }\n",
       "\n",
       "    .dataframe tbody tr th {\n",
       "        vertical-align: top;\n",
       "    }\n",
       "\n",
       "    .dataframe thead th {\n",
       "        text-align: right;\n",
       "    }\n",
       "</style>\n",
       "<table border=\"1\" class=\"dataframe\">\n",
       "  <thead>\n",
       "    <tr style=\"text-align: right;\">\n",
       "      <th></th>\n",
       "      <th>ProdId</th>\n",
       "      <th>Description</th>\n",
       "      <th>SalesGroup</th>\n",
       "      <th>Weight (g)</th>\n",
       "      <th>GHG Emission (g)</th>\n",
       "      <th>N lost (g)</th>\n",
       "      <th>Land Use (m^2)</th>\n",
       "      <th>Freshwater Withdrawals (L)</th>\n",
       "      <th>Stress-Weighted Water Use (L)</th>\n",
       "      <th>GHG Emission (g) / 100g</th>\n",
       "      <th>N lost (g) / 100g</th>\n",
       "      <th>Freshwater Withdrawals (L) / 100g</th>\n",
       "      <th>Stress-Weighted Water Use (L) / 100g</th>\n",
       "      <th>Land Use (m^2) / 100g</th>\n",
       "    </tr>\n",
       "  </thead>\n",
       "  <tbody>\n",
       "    <tr>\n",
       "      <th>0</th>\n",
       "      <td>R-71428</td>\n",
       "      <td>HC|Beef sausage roll</td>\n",
       "      <td>FEAST</td>\n",
       "      <td>240</td>\n",
       "      <td>5101.116000</td>\n",
       "      <td>39.540000</td>\n",
       "      <td>15.174000</td>\n",
       "      <td>201.26</td>\n",
       "      <td>7357.08</td>\n",
       "      <td>2125.46</td>\n",
       "      <td>16.48</td>\n",
       "      <td>83.86</td>\n",
       "      <td>3065.45</td>\n",
       "      <td>6.32</td>\n",
       "    </tr>\n",
       "    <tr>\n",
       "      <th>1</th>\n",
       "      <td>R-62265</td>\n",
       "      <td>HS|Carved|Roast Beef</td>\n",
       "      <td>FT HOMESKILLET</td>\n",
       "      <td>400</td>\n",
       "      <td>8685.057372</td>\n",
       "      <td>26.991114</td>\n",
       "      <td>19.209631</td>\n",
       "      <td>135.43</td>\n",
       "      <td>5200.83</td>\n",
       "      <td>2171.26</td>\n",
       "      <td>6.75</td>\n",
       "      <td>33.86</td>\n",
       "      <td>1300.21</td>\n",
       "      <td>4.80</td>\n",
       "    </tr>\n",
       "  </tbody>\n",
       "</table>\n",
       "</div>"
      ],
      "text/plain": [
       "    ProdId            Description      SalesGroup  Weight (g)  \\\n",
       "0  R-71428   HC|Beef sausage roll           FEAST         240   \n",
       "1  R-62265  HS|Carved|Roast Beef   FT HOMESKILLET         400   \n",
       "\n",
       "   GHG Emission (g)  N lost (g)  Land Use (m^2)  Freshwater Withdrawals (L)  \\\n",
       "0       5101.116000   39.540000       15.174000                      201.26   \n",
       "1       8685.057372   26.991114       19.209631                      135.43   \n",
       "\n",
       "   Stress-Weighted Water Use (L)  GHG Emission (g) / 100g  N lost (g) / 100g  \\\n",
       "0                        7357.08                  2125.46              16.48   \n",
       "1                        5200.83                  2171.26               6.75   \n",
       "\n",
       "   Freshwater Withdrawals (L) / 100g  Stress-Weighted Water Use (L) / 100g  \\\n",
       "0                              83.86                               3065.45   \n",
       "1                              33.86                               1300.21   \n",
       "\n",
       "   Land Use (m^2) / 100g  \n",
       "0                   6.32  \n",
       "1                   4.80  "
      ]
     },
     "execution_count": 11,
     "metadata": {},
     "output_type": "execute_result"
    }
   ],
   "source": [
    "final = products.copy()\n",
    "final"
   ]
  },
  {
   "cell_type": "code",
   "execution_count": 12,
   "id": "2f49c008",
   "metadata": {},
   "outputs": [
    {
     "data": {
      "text/html": [
       "<div>\n",
       "<style scoped>\n",
       "    .dataframe tbody tr th:only-of-type {\n",
       "        vertical-align: middle;\n",
       "    }\n",
       "\n",
       "    .dataframe tbody tr th {\n",
       "        vertical-align: top;\n",
       "    }\n",
       "\n",
       "    .dataframe thead th {\n",
       "        text-align: right;\n",
       "    }\n",
       "</style>\n",
       "<table border=\"1\" class=\"dataframe\">\n",
       "  <thead>\n",
       "    <tr style=\"text-align: right;\">\n",
       "      <th></th>\n",
       "      <th>ProdId</th>\n",
       "      <th>Description</th>\n",
       "      <th>SalesGroup</th>\n",
       "      <th>Weight (g)</th>\n",
       "      <th>GHG Emission (g)</th>\n",
       "      <th>N lost (g)</th>\n",
       "      <th>Land Use (m^2)</th>\n",
       "      <th>Freshwater Withdrawals (L)</th>\n",
       "      <th>Stress-Weighted Water Use (L)</th>\n",
       "      <th>GHG Emission (g) / 100g</th>\n",
       "      <th>N lost (g) / 100g</th>\n",
       "      <th>Freshwater Withdrawals (L) / 100g</th>\n",
       "      <th>Stress-Weighted Water Use (L) / 100g</th>\n",
       "      <th>Land Use (m^2) / 100g</th>\n",
       "      <th>GHG Only Label</th>\n",
       "    </tr>\n",
       "  </thead>\n",
       "  <tbody>\n",
       "    <tr>\n",
       "      <th>0</th>\n",
       "      <td>R-71428</td>\n",
       "      <td>HC|Beef sausage roll</td>\n",
       "      <td>FEAST</td>\n",
       "      <td>240</td>\n",
       "      <td>5101.116000</td>\n",
       "      <td>39.540000</td>\n",
       "      <td>15.174000</td>\n",
       "      <td>201.26</td>\n",
       "      <td>7357.08</td>\n",
       "      <td>2125.46</td>\n",
       "      <td>16.48</td>\n",
       "      <td>83.86</td>\n",
       "      <td>3065.45</td>\n",
       "      <td>6.32</td>\n",
       "      <td>Red</td>\n",
       "    </tr>\n",
       "    <tr>\n",
       "      <th>1</th>\n",
       "      <td>R-62265</td>\n",
       "      <td>HS|Carved|Roast Beef</td>\n",
       "      <td>FT HOMESKILLET</td>\n",
       "      <td>400</td>\n",
       "      <td>8685.057372</td>\n",
       "      <td>26.991114</td>\n",
       "      <td>19.209631</td>\n",
       "      <td>135.43</td>\n",
       "      <td>5200.83</td>\n",
       "      <td>2171.26</td>\n",
       "      <td>6.75</td>\n",
       "      <td>33.86</td>\n",
       "      <td>1300.21</td>\n",
       "      <td>4.80</td>\n",
       "      <td>Red</td>\n",
       "    </tr>\n",
       "  </tbody>\n",
       "</table>\n",
       "</div>"
      ],
      "text/plain": [
       "    ProdId            Description      SalesGroup  Weight (g)  \\\n",
       "0  R-71428   HC|Beef sausage roll           FEAST         240   \n",
       "1  R-62265  HS|Carved|Roast Beef   FT HOMESKILLET         400   \n",
       "\n",
       "   GHG Emission (g)  N lost (g)  Land Use (m^2)  Freshwater Withdrawals (L)  \\\n",
       "0       5101.116000   39.540000       15.174000                      201.26   \n",
       "1       8685.057372   26.991114       19.209631                      135.43   \n",
       "\n",
       "   Stress-Weighted Water Use (L)  GHG Emission (g) / 100g  N lost (g) / 100g  \\\n",
       "0                        7357.08                  2125.46              16.48   \n",
       "1                        5200.83                  2171.26               6.75   \n",
       "\n",
       "   Freshwater Withdrawals (L) / 100g  Stress-Weighted Water Use (L) / 100g  \\\n",
       "0                              83.86                               3065.45   \n",
       "1                              33.86                               1300.21   \n",
       "\n",
       "   Land Use (m^2) / 100g GHG Only Label  \n",
       "0                   6.32            Red  \n",
       "1                   4.80            Red  "
      ]
     },
     "execution_count": 12,
     "metadata": {},
     "output_type": "execute_result"
    }
   ],
   "source": [
    "final[\"GHG Only Label\"] = final[\"GHG Emission (g) / 100g\"].apply(lambda x: create_ghg_label(x))\n",
    "final"
   ]
  },
  {
   "cell_type": "code",
   "execution_count": 13,
   "id": "93ecbbe9",
   "metadata": {},
   "outputs": [
    {
     "data": {
      "text/html": [
       "<div>\n",
       "<style scoped>\n",
       "    .dataframe tbody tr th:only-of-type {\n",
       "        vertical-align: middle;\n",
       "    }\n",
       "\n",
       "    .dataframe tbody tr th {\n",
       "        vertical-align: top;\n",
       "    }\n",
       "\n",
       "    .dataframe thead th {\n",
       "        text-align: right;\n",
       "    }\n",
       "</style>\n",
       "<table border=\"1\" class=\"dataframe\">\n",
       "  <thead>\n",
       "    <tr style=\"text-align: right;\">\n",
       "      <th></th>\n",
       "      <th>ProdId</th>\n",
       "      <th>Description</th>\n",
       "      <th>SalesGroup</th>\n",
       "      <th>Weight (g)</th>\n",
       "      <th>GHG Emission (g)</th>\n",
       "      <th>N lost (g)</th>\n",
       "      <th>Land Use (m^2)</th>\n",
       "      <th>Freshwater Withdrawals (L)</th>\n",
       "      <th>Stress-Weighted Water Use (L)</th>\n",
       "      <th>GHG Emission (g) / 100g</th>\n",
       "      <th>N lost (g) / 100g</th>\n",
       "      <th>Freshwater Withdrawals (L) / 100g</th>\n",
       "      <th>Stress-Weighted Water Use (L) / 100g</th>\n",
       "      <th>Land Use (m^2) / 100g</th>\n",
       "      <th>GHG Only Label</th>\n",
       "      <th>Combined Label</th>\n",
       "    </tr>\n",
       "  </thead>\n",
       "  <tbody>\n",
       "    <tr>\n",
       "      <th>0</th>\n",
       "      <td>R-71428</td>\n",
       "      <td>HC|Beef sausage roll</td>\n",
       "      <td>FEAST</td>\n",
       "      <td>240</td>\n",
       "      <td>5101.116000</td>\n",
       "      <td>39.540000</td>\n",
       "      <td>15.174000</td>\n",
       "      <td>201.26</td>\n",
       "      <td>7357.08</td>\n",
       "      <td>2125.46</td>\n",
       "      <td>16.48</td>\n",
       "      <td>83.86</td>\n",
       "      <td>3065.45</td>\n",
       "      <td>6.32</td>\n",
       "      <td>Red</td>\n",
       "      <td>Red</td>\n",
       "    </tr>\n",
       "    <tr>\n",
       "      <th>1</th>\n",
       "      <td>R-62265</td>\n",
       "      <td>HS|Carved|Roast Beef</td>\n",
       "      <td>FT HOMESKILLET</td>\n",
       "      <td>400</td>\n",
       "      <td>8685.057372</td>\n",
       "      <td>26.991114</td>\n",
       "      <td>19.209631</td>\n",
       "      <td>135.43</td>\n",
       "      <td>5200.83</td>\n",
       "      <td>2171.26</td>\n",
       "      <td>6.75</td>\n",
       "      <td>33.86</td>\n",
       "      <td>1300.21</td>\n",
       "      <td>4.80</td>\n",
       "      <td>Red</td>\n",
       "      <td>Red</td>\n",
       "    </tr>\n",
       "  </tbody>\n",
       "</table>\n",
       "</div>"
      ],
      "text/plain": [
       "    ProdId            Description      SalesGroup  Weight (g)  \\\n",
       "0  R-71428   HC|Beef sausage roll           FEAST         240   \n",
       "1  R-62265  HS|Carved|Roast Beef   FT HOMESKILLET         400   \n",
       "\n",
       "   GHG Emission (g)  N lost (g)  Land Use (m^2)  Freshwater Withdrawals (L)  \\\n",
       "0       5101.116000   39.540000       15.174000                      201.26   \n",
       "1       8685.057372   26.991114       19.209631                      135.43   \n",
       "\n",
       "   Stress-Weighted Water Use (L)  GHG Emission (g) / 100g  N lost (g) / 100g  \\\n",
       "0                        7357.08                  2125.46              16.48   \n",
       "1                        5200.83                  2171.26               6.75   \n",
       "\n",
       "   Freshwater Withdrawals (L) / 100g  Stress-Weighted Water Use (L) / 100g  \\\n",
       "0                              83.86                               3065.45   \n",
       "1                              33.86                               1300.21   \n",
       "\n",
       "   Land Use (m^2) / 100g GHG Only Label Combined Label  \n",
       "0                   6.32            Red            Red  \n",
       "1                   4.80            Red            Red  "
      ]
     },
     "execution_count": 13,
     "metadata": {},
     "output_type": "execute_result"
    }
   ],
   "source": [
    "final = create_results_all_factors(final, GHG_weight=0.8, nitrogen_weight=0.03, water_weight=0.15, land_weight=0.02)\n",
    "# final = create_results_all_factors(final)\n",
    "final"
   ]
  },
  {
   "cell_type": "code",
   "execution_count": 14,
   "id": "84ffa10e",
   "metadata": {},
   "outputs": [],
   "source": [
    "final.to_csv(\"C:/Users/ENTER_HERE/CFFS-S23/CFFS-22-23/data/final/2023_2024_CFFS_Outcomes/Data_Labelled_\"+restaurant_name+\".csv\", \n",
    "             index=False)\n",
    "final.to_excel(\"C:/Users/ENTER_HERE/CFFS-S23/CFFS-22-23/data/final/2023_2024_CFFS_Outcomes/Data_Labelled_\"+restaurant_name+\".xlsx\", \n",
    "               sheet_name=\"Labels\", index=False)"
   ]
  },
  {
   "cell_type": "code",
   "execution_count": 15,
   "id": "d6b711f3",
   "metadata": {},
   "outputs": [
    {
     "data": {
      "text/plain": [
       "{'HC|Beef sausage roll': 'R-71428', 'HS|Carved|Roast Beef ': 'R-62265'}"
      ]
     },
     "execution_count": 15,
     "metadata": {},
     "output_type": "execute_result"
    }
   ],
   "source": [
    "# CHANGE THE NAME AS NEEDED AS PER THE RESTAURANT:\n",
    "\n",
    "OK_list = final.set_index('Description')['ProdId'].to_dict()\n",
    "OK_list"
   ]
  },
  {
   "cell_type": "code",
   "execution_count": 16,
   "id": "2eb61b1a",
   "metadata": {},
   "outputs": [],
   "source": [
    "final2 = final.copy()\n",
    "final2 = add_menu_names(final, OK_list)\n",
    "final2.to_csv(\"C:/Users/ENTER_HERE/CFFS-S23/CFFS-22-23/data/final/2023_2024_CFFS_Outcomes/Data_Labelled_\"+restaurant_name+\"_with_name.csv\",\n",
    "                  index=False)\n",
    "final2.to_csv(\"C:/Users/ENTER_HERE/CFFS-S23/CFFS-22-23/data/final/2023_2024_CFFS_Outcomes/Data_Labelled_\"+restaurant_name+\"_with_name.xlsx\",\n",
    "                  index=False)"
   ]
  },
  {
   "cell_type": "code",
   "execution_count": 17,
   "id": "a477fd85",
   "metadata": {},
   "outputs": [],
   "source": [
    "# # # ADDED FOR GATHER:\n",
    "# final2 = pd.read_csv(\"C:/Users/ENTER_HERE/CFFS-S23/CFFS-22-23/data/final/2023_2024_CFFS_Outcomes/Data_Labelled_\"+restaurant_name+\"_with_name.csv\")\n",
    "# final2.head()"
   ]
  },
  {
   "cell_type": "code",
   "execution_count": 18,
   "id": "4ed189d8",
   "metadata": {},
   "outputs": [],
   "source": [
    "# counts = create_final_counts(final2)\n",
    "# all_ghg_num = counts[\"GHG Label Counts\"].sum()\n",
    "# all_num = counts[\"Combined Label Counts\"].sum()\n",
    "# sum_row = pd.Series(data={\"GHG Label Counts\": all_ghg_num, \"Combined Label Counts\": all_num}, name=\"Sum\")"
   ]
  },
  {
   "cell_type": "code",
   "execution_count": 19,
   "id": "e0bf55a8",
   "metadata": {},
   "outputs": [],
   "source": [
    "# counts = counts.append(sum_row, ignore_index=False)\n",
    "# counts.to_csv(\"C:/Users/ENTER_HERE/CFFS-S23/CFFS-22-23/data/final/2023_2024_CFFS_Outcomes/\"+restaurant_name+\"_Summary.csv\", index=False)\n",
    "# counts_print = pd.concat([counts, sum_row], ignore_index=True)\n",
    "# counts\n",
    "\n",
    "\n",
    "# THERE ARE 5 SUM ROWS BECUASE THERE ARE 5 EMISSION FACTORS THAT WE ARE LOOKING AT: GHG, nitrogen, stressed water, fresh water\n",
    "# and land use"
   ]
  },
  {
   "cell_type": "code",
   "execution_count": 20,
   "id": "a4af0bc2",
   "metadata": {},
   "outputs": [],
   "source": [
    "# THE BLUE BAR REPRESENTS THE SUM ROW WHICH IS THE TOTAL NUMBER OF RECIPES THAT HAVE BEEN ASSIGNED A LABEL\n",
    "# EACH BAR REPRESENTS THE # OF RECIPES THAT WERE LABELLED WITH THAT SPECIFIC COLOUR\n",
    "\n",
    "# fig = create_visualizations(counts)\n",
    "# fig"
   ]
  },
  {
   "cell_type": "code",
   "execution_count": 21,
   "id": "d0822fc4",
   "metadata": {},
   "outputs": [],
   "source": [
    "# final2.head()"
   ]
  },
  {
   "cell_type": "code",
   "execution_count": 22,
   "id": "897551ad",
   "metadata": {},
   "outputs": [],
   "source": [
    "# final3 = final2.drop(columns=['Category', 'Displayed Name', 'Weight (g)', 'GHG Only Label'])"
   ]
  },
  {
   "cell_type": "code",
   "execution_count": 23,
   "id": "03784409",
   "metadata": {},
   "outputs": [],
   "source": [
    "# final3.head()"
   ]
  },
  {
   "cell_type": "code",
   "execution_count": 24,
   "id": "69c6b38a",
   "metadata": {},
   "outputs": [],
   "source": [
    "# final3.rename(columns={'ProdId': 'Optimum Control ID', 'Description': 'OC Description'}, inplace=True)"
   ]
  },
  {
   "cell_type": "code",
   "execution_count": 25,
   "id": "b07dcff4",
   "metadata": {},
   "outputs": [],
   "source": [
    "# final3.head()"
   ]
  },
  {
   "cell_type": "code",
   "execution_count": 26,
   "id": "9837cdf9",
   "metadata": {},
   "outputs": [],
   "source": [
    "# final3['Red'] = final3['Combined Label'] == 'Red'\n",
    "# final3['Yellow'] = final3['Combined Label'] == 'Yellow'\n",
    "# final3['Green'] = final3['Combined Label'] == 'Green'"
   ]
  },
  {
   "cell_type": "code",
   "execution_count": 27,
   "id": "7c87fb31",
   "metadata": {},
   "outputs": [],
   "source": [
    "# final3.head()"
   ]
  },
  {
   "cell_type": "code",
   "execution_count": 28,
   "id": "5d0bc933",
   "metadata": {},
   "outputs": [],
   "source": [
    "# import pandas as pd\n",
    "\n",
    "\n",
    "# desired_column_order = [\n",
    "#     'Optimum Control ID', 'OC Description', 'SalesGroup', 'Combined Label', 'Red', 'Yellow', 'Green',\n",
    "#     'GHG Emission (g)', 'N lost (g)', 'Land Use (m^2)', 'Freshwater Withdrawals (L)', \n",
    "#     'Stress-Weighted Water Use (L)', 'GHG Emission (g) / 100g', 'N lost (g) / 100g', \n",
    "#     'Freshwater Withdrawals (L) / 100g', 'Stress-Weighted Water Use (L) / 100g', \n",
    "#     'Land Use (m^2) / 100g'\n",
    "# ]\n",
    "\n",
    "# # Create a new DataFrame with the desired column order\n",
    "# data_reordered = final3[desired_column_order]\n",
    "\n",
    "# # Print the reordered DataFrame\n",
    "# data_reordered.head()\n"
   ]
  },
  {
   "cell_type": "code",
   "execution_count": 29,
   "id": "cb04ef4a",
   "metadata": {},
   "outputs": [],
   "source": [
    "# data_reordered.to_csv(\"C:/Users/ENTER_HERE/CFFS-S23/CFFS-22-23/data/final/2023_2024_CFFS_Outcomes/Labelled_Data_\"+restaurant_name+\"_for_nutrislice.csv\",\n",
    "#                   index=False)"
   ]
  }
 ],
 "metadata": {
  "kernelspec": {
   "display_name": "Python 3 (ipykernel)",
   "language": "python",
   "name": "python3"
  },
  "language_info": {
   "codemirror_mode": {
    "name": "ipython",
    "version": 3
   },
   "file_extension": ".py",
   "mimetype": "text/x-python",
   "name": "python",
   "nbconvert_exporter": "python",
   "pygments_lexer": "ipython3",
   "version": "3.11.5"
  }
 },
 "nbformat": 4,
 "nbformat_minor": 5
}
